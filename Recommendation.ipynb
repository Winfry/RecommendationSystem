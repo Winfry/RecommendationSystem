{
 "cells": [
  {
   "cell_type": "code",
   "execution_count": null,
   "metadata": {},
   "outputs": [],
   "source": []
  },
  {
   "cell_type": "markdown",
   "metadata": {},
   "source": [
    "# CROP PREDICTION ANALYSIS WITH CLASSIFICATION "
   ]
  },
  {
   "cell_type": "markdown",
   "metadata": {},
   "source": [
    "This is an Agricultural Machine Learning Project that is used to help in helping in making predictions and supporting decisions on what crops to grow and what to do during the growing season of the crops.The process of crop prediction starts with the: soil preparation, seeds breeding and water feed measurement and mostly ends with determining the ripeness with the help of computer vision.\n",
    "\n",
    "In tthis project , we will use the parameters of N-P-K, temperature, humidity, pH value, rainfall, crop from their side and the application will predict which crop should the user grow.\n",
    "\n",
    "* Potassium (K) – Potassium is a nutrient that helps the overall functions of the plant perform correctly.\n",
    "* Nitrogen (N) – Nitrogen is largely responsible for the growth of leaves on the plant.\n",
    "* Phosphorus (P) – Phosphorus is largely responsible for root growth and flower and fruit development."
   ]
  },
  {
   "cell_type": "markdown",
   "metadata": {},
   "source": [
    "# IMPORTING LIBRARIES"
   ]
  },
  {
   "cell_type": "code",
   "execution_count": 1,
   "metadata": {},
   "outputs": [],
   "source": [
    "from __future__ import print_function\n",
    "import pandas as pd \n",
    "import numpy as np\n",
    "import random\n",
    "\n",
    "#import libraries for data visualization\n",
    "import matplotlib.pyplot as plt\n",
    "%matplotlib inline\n",
    "import seaborn as sns\n",
    "import plotly.graph_objects as go\n",
    "import plotly.express as px\n",
    "from plotly.subplots import make_subplots\n",
    "\n",
    "#import libraries for ML model\n",
    "from sklearn.metrics import classification_report\n",
    "from sklearn import metrics\n",
    "from sklearn import tree\n",
    "from sklearn.model_selection import cross_val_score\n",
    "import warnings\n",
    "warnings.filterwarnings('ignore')\n"
   ]
  },
  {
   "cell_type": "code",
   "execution_count": 2,
   "metadata": {},
   "outputs": [
    {
     "data": {
      "text/html": [
       "<div>\n",
       "<style scoped>\n",
       "    .dataframe tbody tr th:only-of-type {\n",
       "        vertical-align: middle;\n",
       "    }\n",
       "\n",
       "    .dataframe tbody tr th {\n",
       "        vertical-align: top;\n",
       "    }\n",
       "\n",
       "    .dataframe thead th {\n",
       "        text-align: right;\n",
       "    }\n",
       "</style>\n",
       "<table border=\"1\" class=\"dataframe\">\n",
       "  <thead>\n",
       "    <tr style=\"text-align: right;\">\n",
       "      <th></th>\n",
       "      <th>N</th>\n",
       "      <th>P</th>\n",
       "      <th>K</th>\n",
       "      <th>temperature</th>\n",
       "      <th>humidity</th>\n",
       "      <th>ph</th>\n",
       "      <th>rainfall</th>\n",
       "      <th>label</th>\n",
       "    </tr>\n",
       "  </thead>\n",
       "  <tbody>\n",
       "    <tr>\n",
       "      <th>0</th>\n",
       "      <td>90</td>\n",
       "      <td>42</td>\n",
       "      <td>43</td>\n",
       "      <td>20.879744</td>\n",
       "      <td>82.002744</td>\n",
       "      <td>6.502985</td>\n",
       "      <td>202.935536</td>\n",
       "      <td>rice</td>\n",
       "    </tr>\n",
       "    <tr>\n",
       "      <th>1</th>\n",
       "      <td>85</td>\n",
       "      <td>58</td>\n",
       "      <td>41</td>\n",
       "      <td>21.770462</td>\n",
       "      <td>80.319644</td>\n",
       "      <td>7.038096</td>\n",
       "      <td>226.655537</td>\n",
       "      <td>rice</td>\n",
       "    </tr>\n",
       "    <tr>\n",
       "      <th>2</th>\n",
       "      <td>60</td>\n",
       "      <td>55</td>\n",
       "      <td>44</td>\n",
       "      <td>23.004459</td>\n",
       "      <td>82.320763</td>\n",
       "      <td>7.840207</td>\n",
       "      <td>263.964248</td>\n",
       "      <td>rice</td>\n",
       "    </tr>\n",
       "    <tr>\n",
       "      <th>3</th>\n",
       "      <td>74</td>\n",
       "      <td>35</td>\n",
       "      <td>40</td>\n",
       "      <td>26.491096</td>\n",
       "      <td>80.158363</td>\n",
       "      <td>6.980401</td>\n",
       "      <td>242.864034</td>\n",
       "      <td>rice</td>\n",
       "    </tr>\n",
       "    <tr>\n",
       "      <th>4</th>\n",
       "      <td>78</td>\n",
       "      <td>42</td>\n",
       "      <td>42</td>\n",
       "      <td>20.130175</td>\n",
       "      <td>81.604873</td>\n",
       "      <td>7.628473</td>\n",
       "      <td>262.717340</td>\n",
       "      <td>rice</td>\n",
       "    </tr>\n",
       "  </tbody>\n",
       "</table>\n",
       "</div>"
      ],
      "text/plain": [
       "    N   P   K  temperature   humidity        ph    rainfall label\n",
       "0  90  42  43    20.879744  82.002744  6.502985  202.935536  rice\n",
       "1  85  58  41    21.770462  80.319644  7.038096  226.655537  rice\n",
       "2  60  55  44    23.004459  82.320763  7.840207  263.964248  rice\n",
       "3  74  35  40    26.491096  80.158363  6.980401  242.864034  rice\n",
       "4  78  42  42    20.130175  81.604873  7.628473  262.717340  rice"
      ]
     },
     "execution_count": 2,
     "metadata": {},
     "output_type": "execute_result"
    }
   ],
   "source": [
    "crop = pd.read_csv(\"Crop_recommendation.csv\")\n",
    "crop.head()"
   ]
  },
  {
   "cell_type": "code",
   "execution_count": 3,
   "metadata": {},
   "outputs": [
    {
     "name": "stdout",
     "output_type": "stream",
     "text": [
      "<class 'pandas.core.frame.DataFrame'>\n",
      "RangeIndex: 2200 entries, 0 to 2199\n",
      "Data columns (total 8 columns):\n",
      " #   Column       Non-Null Count  Dtype  \n",
      "---  ------       --------------  -----  \n",
      " 0   N            2200 non-null   int64  \n",
      " 1   P            2200 non-null   int64  \n",
      " 2   K            2200 non-null   int64  \n",
      " 3   temperature  2200 non-null   float64\n",
      " 4   humidity     2200 non-null   float64\n",
      " 5   ph           2200 non-null   float64\n",
      " 6   rainfall     2200 non-null   float64\n",
      " 7   label        2200 non-null   object \n",
      "dtypes: float64(4), int64(3), object(1)\n",
      "memory usage: 137.6+ KB\n"
     ]
    }
   ],
   "source": [
    "#Dataset Information\n",
    "\n",
    "crop.info()"
   ]
  },
  {
   "cell_type": "code",
   "execution_count": 4,
   "metadata": {},
   "outputs": [
    {
     "data": {
      "text/plain": [
       "Index(['N', 'P', 'K', 'temperature', 'humidity', 'ph', 'rainfall', 'label'], dtype='object')"
      ]
     },
     "execution_count": 4,
     "metadata": {},
     "output_type": "execute_result"
    }
   ],
   "source": [
    "#Total Columns\n",
    "\n",
    "crop.columns"
   ]
  },
  {
   "cell_type": "code",
   "execution_count": 5,
   "metadata": {},
   "outputs": [
    {
     "name": "stdout",
     "output_type": "stream",
     "text": [
      "The Shape of data: (2200, 8)\n"
     ]
    }
   ],
   "source": [
    "#Shape of Dataset\n",
    "\n",
    "print(\"The Shape of data:\",crop.shape)"
   ]
  },
  {
   "cell_type": "code",
   "execution_count": 6,
   "metadata": {},
   "outputs": [
    {
     "name": "stdout",
     "output_type": "stream",
     "text": [
      "\n",
      "The total  crops in dataset are: ['rice' 'maize' 'chickpea' 'kidneybeans' 'pigeonpeas' 'mothbeans'\n",
      " 'mungbean' 'blackgram' 'lentil' 'pomegranate' 'banana' 'mango' 'grapes'\n",
      " 'watermelon' 'muskmelon' 'apple' 'orange' 'papaya' 'coconut' 'cotton'\n",
      " 'jute' 'coffee']\n",
      "\n",
      "The total amount of each crop:  rice           100\n",
      "maize          100\n",
      "jute           100\n",
      "cotton         100\n",
      "coconut        100\n",
      "papaya         100\n",
      "orange         100\n",
      "apple          100\n",
      "muskmelon      100\n",
      "watermelon     100\n",
      "grapes         100\n",
      "mango          100\n",
      "banana         100\n",
      "pomegranate    100\n",
      "lentil         100\n",
      "blackgram      100\n",
      "mungbean       100\n",
      "mothbeans      100\n",
      "pigeonpeas     100\n",
      "kidneybeans    100\n",
      "chickpea       100\n",
      "coffee         100\n",
      "Name: label, dtype: int64\n"
     ]
    }
   ],
   "source": [
    "print(\"\\nThe total  crops in dataset are:\", crop['label'].unique())\n",
    "print(\"\\nThe total amount of each crop: \",crop['label'].value_counts())"
   ]
  },
  {
   "cell_type": "markdown",
   "metadata": {},
   "source": [
    "- From the list it is shown that there are a total of 22 different crops with a sum of 100 parameters which are specific requirements for each crop to grow."
   ]
  },
  {
   "cell_type": "code",
   "execution_count": 7,
   "metadata": {},
   "outputs": [
    {
     "data": {
      "text/html": [
       "<div>\n",
       "<style scoped>\n",
       "    .dataframe tbody tr th:only-of-type {\n",
       "        vertical-align: middle;\n",
       "    }\n",
       "\n",
       "    .dataframe tbody tr th {\n",
       "        vertical-align: top;\n",
       "    }\n",
       "\n",
       "    .dataframe thead th {\n",
       "        text-align: right;\n",
       "    }\n",
       "</style>\n",
       "<table border=\"1\" class=\"dataframe\">\n",
       "  <thead>\n",
       "    <tr style=\"text-align: right;\">\n",
       "      <th></th>\n",
       "      <th>N</th>\n",
       "      <th>P</th>\n",
       "      <th>K</th>\n",
       "      <th>temperature</th>\n",
       "      <th>humidity</th>\n",
       "      <th>ph</th>\n",
       "      <th>rainfall</th>\n",
       "    </tr>\n",
       "  </thead>\n",
       "  <tbody>\n",
       "    <tr>\n",
       "      <th>count</th>\n",
       "      <td>2200.000000</td>\n",
       "      <td>2200.000000</td>\n",
       "      <td>2200.000000</td>\n",
       "      <td>2200.000000</td>\n",
       "      <td>2200.000000</td>\n",
       "      <td>2200.000000</td>\n",
       "      <td>2200.000000</td>\n",
       "    </tr>\n",
       "    <tr>\n",
       "      <th>mean</th>\n",
       "      <td>50.551818</td>\n",
       "      <td>53.362727</td>\n",
       "      <td>48.149091</td>\n",
       "      <td>25.616244</td>\n",
       "      <td>71.481779</td>\n",
       "      <td>6.469480</td>\n",
       "      <td>103.463655</td>\n",
       "    </tr>\n",
       "    <tr>\n",
       "      <th>std</th>\n",
       "      <td>36.917334</td>\n",
       "      <td>32.985883</td>\n",
       "      <td>50.647931</td>\n",
       "      <td>5.063749</td>\n",
       "      <td>22.263812</td>\n",
       "      <td>0.773938</td>\n",
       "      <td>54.958389</td>\n",
       "    </tr>\n",
       "    <tr>\n",
       "      <th>min</th>\n",
       "      <td>0.000000</td>\n",
       "      <td>5.000000</td>\n",
       "      <td>5.000000</td>\n",
       "      <td>8.825675</td>\n",
       "      <td>14.258040</td>\n",
       "      <td>3.504752</td>\n",
       "      <td>20.211267</td>\n",
       "    </tr>\n",
       "    <tr>\n",
       "      <th>25%</th>\n",
       "      <td>21.000000</td>\n",
       "      <td>28.000000</td>\n",
       "      <td>20.000000</td>\n",
       "      <td>22.769375</td>\n",
       "      <td>60.261953</td>\n",
       "      <td>5.971693</td>\n",
       "      <td>64.551686</td>\n",
       "    </tr>\n",
       "    <tr>\n",
       "      <th>50%</th>\n",
       "      <td>37.000000</td>\n",
       "      <td>51.000000</td>\n",
       "      <td>32.000000</td>\n",
       "      <td>25.598693</td>\n",
       "      <td>80.473146</td>\n",
       "      <td>6.425045</td>\n",
       "      <td>94.867624</td>\n",
       "    </tr>\n",
       "    <tr>\n",
       "      <th>75%</th>\n",
       "      <td>84.250000</td>\n",
       "      <td>68.000000</td>\n",
       "      <td>49.000000</td>\n",
       "      <td>28.561654</td>\n",
       "      <td>89.948771</td>\n",
       "      <td>6.923643</td>\n",
       "      <td>124.267508</td>\n",
       "    </tr>\n",
       "    <tr>\n",
       "      <th>max</th>\n",
       "      <td>140.000000</td>\n",
       "      <td>145.000000</td>\n",
       "      <td>205.000000</td>\n",
       "      <td>43.675493</td>\n",
       "      <td>99.981876</td>\n",
       "      <td>9.935091</td>\n",
       "      <td>298.560117</td>\n",
       "    </tr>\n",
       "  </tbody>\n",
       "</table>\n",
       "</div>"
      ],
      "text/plain": [
       "                 N            P            K  temperature     humidity  \\\n",
       "count  2200.000000  2200.000000  2200.000000  2200.000000  2200.000000   \n",
       "mean     50.551818    53.362727    48.149091    25.616244    71.481779   \n",
       "std      36.917334    32.985883    50.647931     5.063749    22.263812   \n",
       "min       0.000000     5.000000     5.000000     8.825675    14.258040   \n",
       "25%      21.000000    28.000000    20.000000    22.769375    60.261953   \n",
       "50%      37.000000    51.000000    32.000000    25.598693    80.473146   \n",
       "75%      84.250000    68.000000    49.000000    28.561654    89.948771   \n",
       "max     140.000000   145.000000   205.000000    43.675493    99.981876   \n",
       "\n",
       "                ph     rainfall  \n",
       "count  2200.000000  2200.000000  \n",
       "mean      6.469480   103.463655  \n",
       "std       0.773938    54.958389  \n",
       "min       3.504752    20.211267  \n",
       "25%       5.971693    64.551686  \n",
       "50%       6.425045    94.867624  \n",
       "75%       6.923643   124.267508  \n",
       "max       9.935091   298.560117  "
      ]
     },
     "execution_count": 7,
     "metadata": {},
     "output_type": "execute_result"
    }
   ],
   "source": [
    "#Statistics of the crop data\n",
    "\n",
    "crop.describe()"
   ]
  },
  {
   "cell_type": "code",
   "execution_count": 8,
   "metadata": {},
   "outputs": [
    {
     "data": {
      "text/html": [
       "<div>\n",
       "<style scoped>\n",
       "    .dataframe tbody tr th:only-of-type {\n",
       "        vertical-align: middle;\n",
       "    }\n",
       "\n",
       "    .dataframe tbody tr th {\n",
       "        vertical-align: top;\n",
       "    }\n",
       "\n",
       "    .dataframe thead th {\n",
       "        text-align: right;\n",
       "    }\n",
       "</style>\n",
       "<table border=\"1\" class=\"dataframe\">\n",
       "  <thead>\n",
       "    <tr style=\"text-align: right;\">\n",
       "      <th></th>\n",
       "      <th>count</th>\n",
       "      <th>mean</th>\n",
       "      <th>std</th>\n",
       "      <th>min</th>\n",
       "      <th>25%</th>\n",
       "      <th>50%</th>\n",
       "      <th>75%</th>\n",
       "      <th>max</th>\n",
       "    </tr>\n",
       "  </thead>\n",
       "  <tbody>\n",
       "    <tr>\n",
       "      <th>N</th>\n",
       "      <td>2200.0</td>\n",
       "      <td>50.551818</td>\n",
       "      <td>36.917334</td>\n",
       "      <td>0.000000</td>\n",
       "      <td>21.000000</td>\n",
       "      <td>37.000000</td>\n",
       "      <td>84.250000</td>\n",
       "      <td>140.000000</td>\n",
       "    </tr>\n",
       "    <tr>\n",
       "      <th>P</th>\n",
       "      <td>2200.0</td>\n",
       "      <td>53.362727</td>\n",
       "      <td>32.985883</td>\n",
       "      <td>5.000000</td>\n",
       "      <td>28.000000</td>\n",
       "      <td>51.000000</td>\n",
       "      <td>68.000000</td>\n",
       "      <td>145.000000</td>\n",
       "    </tr>\n",
       "    <tr>\n",
       "      <th>K</th>\n",
       "      <td>2200.0</td>\n",
       "      <td>48.149091</td>\n",
       "      <td>50.647931</td>\n",
       "      <td>5.000000</td>\n",
       "      <td>20.000000</td>\n",
       "      <td>32.000000</td>\n",
       "      <td>49.000000</td>\n",
       "      <td>205.000000</td>\n",
       "    </tr>\n",
       "    <tr>\n",
       "      <th>temperature</th>\n",
       "      <td>2200.0</td>\n",
       "      <td>25.616244</td>\n",
       "      <td>5.063749</td>\n",
       "      <td>8.825675</td>\n",
       "      <td>22.769375</td>\n",
       "      <td>25.598693</td>\n",
       "      <td>28.561654</td>\n",
       "      <td>43.675493</td>\n",
       "    </tr>\n",
       "    <tr>\n",
       "      <th>humidity</th>\n",
       "      <td>2200.0</td>\n",
       "      <td>71.481779</td>\n",
       "      <td>22.263812</td>\n",
       "      <td>14.258040</td>\n",
       "      <td>60.261953</td>\n",
       "      <td>80.473146</td>\n",
       "      <td>89.948771</td>\n",
       "      <td>99.981876</td>\n",
       "    </tr>\n",
       "    <tr>\n",
       "      <th>ph</th>\n",
       "      <td>2200.0</td>\n",
       "      <td>6.469480</td>\n",
       "      <td>0.773938</td>\n",
       "      <td>3.504752</td>\n",
       "      <td>5.971693</td>\n",
       "      <td>6.425045</td>\n",
       "      <td>6.923643</td>\n",
       "      <td>9.935091</td>\n",
       "    </tr>\n",
       "    <tr>\n",
       "      <th>rainfall</th>\n",
       "      <td>2200.0</td>\n",
       "      <td>103.463655</td>\n",
       "      <td>54.958389</td>\n",
       "      <td>20.211267</td>\n",
       "      <td>64.551686</td>\n",
       "      <td>94.867624</td>\n",
       "      <td>124.267508</td>\n",
       "      <td>298.560117</td>\n",
       "    </tr>\n",
       "  </tbody>\n",
       "</table>\n",
       "</div>"
      ],
      "text/plain": [
       "              count        mean        std        min        25%        50%  \\\n",
       "N            2200.0   50.551818  36.917334   0.000000  21.000000  37.000000   \n",
       "P            2200.0   53.362727  32.985883   5.000000  28.000000  51.000000   \n",
       "K            2200.0   48.149091  50.647931   5.000000  20.000000  32.000000   \n",
       "temperature  2200.0   25.616244   5.063749   8.825675  22.769375  25.598693   \n",
       "humidity     2200.0   71.481779  22.263812  14.258040  60.261953  80.473146   \n",
       "ph           2200.0    6.469480   0.773938   3.504752   5.971693   6.425045   \n",
       "rainfall     2200.0  103.463655  54.958389  20.211267  64.551686  94.867624   \n",
       "\n",
       "                    75%         max  \n",
       "N             84.250000  140.000000  \n",
       "P             68.000000  145.000000  \n",
       "K             49.000000  205.000000  \n",
       "temperature   28.561654   43.675493  \n",
       "humidity      89.948771   99.981876  \n",
       "ph             6.923643    9.935091  \n",
       "rainfall     124.267508  298.560117  "
      ]
     },
     "execution_count": 8,
     "metadata": {},
     "output_type": "execute_result"
    }
   ],
   "source": [
    "crop.describe().T"
   ]
  },
  {
   "cell_type": "code",
   "execution_count": 9,
   "metadata": {},
   "outputs": [
    {
     "data": {
      "text/plain": [
       "N              0\n",
       "P              0\n",
       "K              0\n",
       "temperature    0\n",
       "humidity       0\n",
       "ph             0\n",
       "rainfall       0\n",
       "label          0\n",
       "dtype: int64"
      ]
     },
     "execution_count": 9,
     "metadata": {},
     "output_type": "execute_result"
    }
   ],
   "source": [
    "# Finding null values\n",
    "\n",
    "crop.isnull().sum()"
   ]
  },
  {
   "cell_type": "code",
   "execution_count": 10,
   "metadata": {},
   "outputs": [
    {
     "data": {
      "text/plain": [
       "0"
      ]
     },
     "execution_count": 10,
     "metadata": {},
     "output_type": "execute_result"
    }
   ],
   "source": [
    "#Duplicates \n",
    "\n",
    "crop.duplicated().sum()"
   ]
  },
  {
   "cell_type": "code",
   "execution_count": 11,
   "metadata": {},
   "outputs": [
    {
     "data": {
      "text/html": [
       "<div>\n",
       "<style scoped>\n",
       "    .dataframe tbody tr th:only-of-type {\n",
       "        vertical-align: middle;\n",
       "    }\n",
       "\n",
       "    .dataframe tbody tr th {\n",
       "        vertical-align: top;\n",
       "    }\n",
       "\n",
       "    .dataframe thead th {\n",
       "        text-align: right;\n",
       "    }\n",
       "</style>\n",
       "<table border=\"1\" class=\"dataframe\">\n",
       "  <thead>\n",
       "    <tr style=\"text-align: right;\">\n",
       "      <th></th>\n",
       "      <th>K</th>\n",
       "      <th>N</th>\n",
       "      <th>P</th>\n",
       "      <th>humidity</th>\n",
       "      <th>ph</th>\n",
       "      <th>rainfall</th>\n",
       "      <th>temperature</th>\n",
       "    </tr>\n",
       "    <tr>\n",
       "      <th>label</th>\n",
       "      <th></th>\n",
       "      <th></th>\n",
       "      <th></th>\n",
       "      <th></th>\n",
       "      <th></th>\n",
       "      <th></th>\n",
       "      <th></th>\n",
       "    </tr>\n",
       "  </thead>\n",
       "  <tbody>\n",
       "    <tr>\n",
       "      <th>apple</th>\n",
       "      <td>199.89</td>\n",
       "      <td>20.80</td>\n",
       "      <td>134.22</td>\n",
       "      <td>92.333383</td>\n",
       "      <td>5.929663</td>\n",
       "      <td>112.654779</td>\n",
       "      <td>22.630942</td>\n",
       "    </tr>\n",
       "    <tr>\n",
       "      <th>banana</th>\n",
       "      <td>50.05</td>\n",
       "      <td>100.23</td>\n",
       "      <td>82.01</td>\n",
       "      <td>80.358123</td>\n",
       "      <td>5.983893</td>\n",
       "      <td>104.626980</td>\n",
       "      <td>27.376798</td>\n",
       "    </tr>\n",
       "    <tr>\n",
       "      <th>blackgram</th>\n",
       "      <td>19.24</td>\n",
       "      <td>40.02</td>\n",
       "      <td>67.47</td>\n",
       "      <td>65.118426</td>\n",
       "      <td>7.133952</td>\n",
       "      <td>67.884151</td>\n",
       "      <td>29.973340</td>\n",
       "    </tr>\n",
       "    <tr>\n",
       "      <th>chickpea</th>\n",
       "      <td>79.92</td>\n",
       "      <td>40.09</td>\n",
       "      <td>67.79</td>\n",
       "      <td>16.860439</td>\n",
       "      <td>7.336957</td>\n",
       "      <td>80.058977</td>\n",
       "      <td>18.872847</td>\n",
       "    </tr>\n",
       "    <tr>\n",
       "      <th>coconut</th>\n",
       "      <td>30.59</td>\n",
       "      <td>21.98</td>\n",
       "      <td>16.93</td>\n",
       "      <td>94.844272</td>\n",
       "      <td>5.976562</td>\n",
       "      <td>175.686646</td>\n",
       "      <td>27.409892</td>\n",
       "    </tr>\n",
       "  </tbody>\n",
       "</table>\n",
       "</div>"
      ],
      "text/plain": [
       "                K       N       P   humidity        ph    rainfall  \\\n",
       "label                                                                \n",
       "apple      199.89   20.80  134.22  92.333383  5.929663  112.654779   \n",
       "banana      50.05  100.23   82.01  80.358123  5.983893  104.626980   \n",
       "blackgram   19.24   40.02   67.47  65.118426  7.133952   67.884151   \n",
       "chickpea    79.92   40.09   67.79  16.860439  7.336957   80.058977   \n",
       "coconut     30.59   21.98   16.93  94.844272  5.976562  175.686646   \n",
       "\n",
       "           temperature  \n",
       "label                   \n",
       "apple        22.630942  \n",
       "banana       27.376798  \n",
       "blackgram    29.973340  \n",
       "chickpea     18.872847  \n",
       "coconut      27.409892  "
      ]
     },
     "execution_count": 11,
     "metadata": {},
     "output_type": "execute_result"
    }
   ],
   "source": [
    "#Summary of the crops \n",
    "\n",
    "crop_summary = pd.pivot_table(crop, index=['label'], aggfunc='mean')\n",
    "crop_summary.head()"
   ]
  },
  {
   "cell_type": "code",
   "execution_count": 12,
   "metadata": {},
   "outputs": [
    {
     "data": {
      "text/html": [
       "<div>\n",
       "<style scoped>\n",
       "    .dataframe tbody tr th:only-of-type {\n",
       "        vertical-align: middle;\n",
       "    }\n",
       "\n",
       "    .dataframe tbody tr th {\n",
       "        vertical-align: top;\n",
       "    }\n",
       "\n",
       "    .dataframe thead th {\n",
       "        text-align: right;\n",
       "    }\n",
       "</style>\n",
       "<table border=\"1\" class=\"dataframe\">\n",
       "  <thead>\n",
       "    <tr style=\"text-align: right;\">\n",
       "      <th>label</th>\n",
       "      <th>apple</th>\n",
       "      <th>banana</th>\n",
       "      <th>blackgram</th>\n",
       "      <th>chickpea</th>\n",
       "      <th>coconut</th>\n",
       "      <th>coffee</th>\n",
       "      <th>cotton</th>\n",
       "      <th>grapes</th>\n",
       "      <th>jute</th>\n",
       "      <th>kidneybeans</th>\n",
       "      <th>...</th>\n",
       "      <th>mothbeans</th>\n",
       "      <th>mungbean</th>\n",
       "      <th>muskmelon</th>\n",
       "      <th>orange</th>\n",
       "      <th>papaya</th>\n",
       "      <th>pigeonpeas</th>\n",
       "      <th>pomegranate</th>\n",
       "      <th>rice</th>\n",
       "      <th>watermelon</th>\n",
       "      <th>All</th>\n",
       "    </tr>\n",
       "    <tr>\n",
       "      <th>rainfall</th>\n",
       "      <th></th>\n",
       "      <th></th>\n",
       "      <th></th>\n",
       "      <th></th>\n",
       "      <th></th>\n",
       "      <th></th>\n",
       "      <th></th>\n",
       "      <th></th>\n",
       "      <th></th>\n",
       "      <th></th>\n",
       "      <th></th>\n",
       "      <th></th>\n",
       "      <th></th>\n",
       "      <th></th>\n",
       "      <th></th>\n",
       "      <th></th>\n",
       "      <th></th>\n",
       "      <th></th>\n",
       "      <th></th>\n",
       "      <th></th>\n",
       "      <th></th>\n",
       "    </tr>\n",
       "  </thead>\n",
       "  <tbody>\n",
       "    <tr>\n",
       "      <th>20.21126747</th>\n",
       "      <td>0</td>\n",
       "      <td>0</td>\n",
       "      <td>0</td>\n",
       "      <td>0</td>\n",
       "      <td>0</td>\n",
       "      <td>0</td>\n",
       "      <td>0</td>\n",
       "      <td>0</td>\n",
       "      <td>0</td>\n",
       "      <td>0</td>\n",
       "      <td>...</td>\n",
       "      <td>0</td>\n",
       "      <td>0</td>\n",
       "      <td>1</td>\n",
       "      <td>0</td>\n",
       "      <td>0</td>\n",
       "      <td>0</td>\n",
       "      <td>0</td>\n",
       "      <td>0</td>\n",
       "      <td>0</td>\n",
       "      <td>1</td>\n",
       "    </tr>\n",
       "    <tr>\n",
       "      <th>20.36001144</th>\n",
       "      <td>0</td>\n",
       "      <td>0</td>\n",
       "      <td>0</td>\n",
       "      <td>0</td>\n",
       "      <td>0</td>\n",
       "      <td>0</td>\n",
       "      <td>0</td>\n",
       "      <td>0</td>\n",
       "      <td>0</td>\n",
       "      <td>0</td>\n",
       "      <td>...</td>\n",
       "      <td>0</td>\n",
       "      <td>0</td>\n",
       "      <td>1</td>\n",
       "      <td>0</td>\n",
       "      <td>0</td>\n",
       "      <td>0</td>\n",
       "      <td>0</td>\n",
       "      <td>0</td>\n",
       "      <td>0</td>\n",
       "      <td>1</td>\n",
       "    </tr>\n",
       "    <tr>\n",
       "      <th>20.39020503</th>\n",
       "      <td>0</td>\n",
       "      <td>0</td>\n",
       "      <td>0</td>\n",
       "      <td>0</td>\n",
       "      <td>0</td>\n",
       "      <td>0</td>\n",
       "      <td>0</td>\n",
       "      <td>0</td>\n",
       "      <td>0</td>\n",
       "      <td>0</td>\n",
       "      <td>...</td>\n",
       "      <td>0</td>\n",
       "      <td>0</td>\n",
       "      <td>1</td>\n",
       "      <td>0</td>\n",
       "      <td>0</td>\n",
       "      <td>0</td>\n",
       "      <td>0</td>\n",
       "      <td>0</td>\n",
       "      <td>0</td>\n",
       "      <td>1</td>\n",
       "    </tr>\n",
       "    <tr>\n",
       "      <th>20.49035619</th>\n",
       "      <td>0</td>\n",
       "      <td>0</td>\n",
       "      <td>0</td>\n",
       "      <td>0</td>\n",
       "      <td>0</td>\n",
       "      <td>0</td>\n",
       "      <td>0</td>\n",
       "      <td>0</td>\n",
       "      <td>0</td>\n",
       "      <td>0</td>\n",
       "      <td>...</td>\n",
       "      <td>0</td>\n",
       "      <td>0</td>\n",
       "      <td>1</td>\n",
       "      <td>0</td>\n",
       "      <td>0</td>\n",
       "      <td>0</td>\n",
       "      <td>0</td>\n",
       "      <td>0</td>\n",
       "      <td>0</td>\n",
       "      <td>1</td>\n",
       "    </tr>\n",
       "    <tr>\n",
       "      <th>20.66127836</th>\n",
       "      <td>0</td>\n",
       "      <td>0</td>\n",
       "      <td>0</td>\n",
       "      <td>0</td>\n",
       "      <td>0</td>\n",
       "      <td>0</td>\n",
       "      <td>0</td>\n",
       "      <td>0</td>\n",
       "      <td>0</td>\n",
       "      <td>0</td>\n",
       "      <td>...</td>\n",
       "      <td>0</td>\n",
       "      <td>0</td>\n",
       "      <td>1</td>\n",
       "      <td>0</td>\n",
       "      <td>0</td>\n",
       "      <td>0</td>\n",
       "      <td>0</td>\n",
       "      <td>0</td>\n",
       "      <td>0</td>\n",
       "      <td>1</td>\n",
       "    </tr>\n",
       "    <tr>\n",
       "      <th>...</th>\n",
       "      <td>...</td>\n",
       "      <td>...</td>\n",
       "      <td>...</td>\n",
       "      <td>...</td>\n",
       "      <td>...</td>\n",
       "      <td>...</td>\n",
       "      <td>...</td>\n",
       "      <td>...</td>\n",
       "      <td>...</td>\n",
       "      <td>...</td>\n",
       "      <td>...</td>\n",
       "      <td>...</td>\n",
       "      <td>...</td>\n",
       "      <td>...</td>\n",
       "      <td>...</td>\n",
       "      <td>...</td>\n",
       "      <td>...</td>\n",
       "      <td>...</td>\n",
       "      <td>...</td>\n",
       "      <td>...</td>\n",
       "      <td>...</td>\n",
       "    </tr>\n",
       "    <tr>\n",
       "      <th>295.6094492000001</th>\n",
       "      <td>0</td>\n",
       "      <td>0</td>\n",
       "      <td>0</td>\n",
       "      <td>0</td>\n",
       "      <td>0</td>\n",
       "      <td>0</td>\n",
       "      <td>0</td>\n",
       "      <td>0</td>\n",
       "      <td>0</td>\n",
       "      <td>0</td>\n",
       "      <td>...</td>\n",
       "      <td>0</td>\n",
       "      <td>0</td>\n",
       "      <td>0</td>\n",
       "      <td>0</td>\n",
       "      <td>0</td>\n",
       "      <td>0</td>\n",
       "      <td>0</td>\n",
       "      <td>1</td>\n",
       "      <td>0</td>\n",
       "      <td>1</td>\n",
       "    </tr>\n",
       "    <tr>\n",
       "      <th>295.9248796</th>\n",
       "      <td>0</td>\n",
       "      <td>0</td>\n",
       "      <td>0</td>\n",
       "      <td>0</td>\n",
       "      <td>0</td>\n",
       "      <td>0</td>\n",
       "      <td>0</td>\n",
       "      <td>0</td>\n",
       "      <td>0</td>\n",
       "      <td>0</td>\n",
       "      <td>...</td>\n",
       "      <td>0</td>\n",
       "      <td>0</td>\n",
       "      <td>0</td>\n",
       "      <td>0</td>\n",
       "      <td>0</td>\n",
       "      <td>0</td>\n",
       "      <td>0</td>\n",
       "      <td>1</td>\n",
       "      <td>0</td>\n",
       "      <td>1</td>\n",
       "    </tr>\n",
       "    <tr>\n",
       "      <th>298.40184710000005</th>\n",
       "      <td>0</td>\n",
       "      <td>0</td>\n",
       "      <td>0</td>\n",
       "      <td>0</td>\n",
       "      <td>0</td>\n",
       "      <td>0</td>\n",
       "      <td>0</td>\n",
       "      <td>0</td>\n",
       "      <td>0</td>\n",
       "      <td>0</td>\n",
       "      <td>...</td>\n",
       "      <td>0</td>\n",
       "      <td>0</td>\n",
       "      <td>0</td>\n",
       "      <td>0</td>\n",
       "      <td>0</td>\n",
       "      <td>0</td>\n",
       "      <td>0</td>\n",
       "      <td>1</td>\n",
       "      <td>0</td>\n",
       "      <td>1</td>\n",
       "    </tr>\n",
       "    <tr>\n",
       "      <th>298.5601175</th>\n",
       "      <td>0</td>\n",
       "      <td>0</td>\n",
       "      <td>0</td>\n",
       "      <td>0</td>\n",
       "      <td>0</td>\n",
       "      <td>0</td>\n",
       "      <td>0</td>\n",
       "      <td>0</td>\n",
       "      <td>0</td>\n",
       "      <td>0</td>\n",
       "      <td>...</td>\n",
       "      <td>0</td>\n",
       "      <td>0</td>\n",
       "      <td>0</td>\n",
       "      <td>0</td>\n",
       "      <td>0</td>\n",
       "      <td>0</td>\n",
       "      <td>0</td>\n",
       "      <td>1</td>\n",
       "      <td>0</td>\n",
       "      <td>1</td>\n",
       "    </tr>\n",
       "    <tr>\n",
       "      <th>All</th>\n",
       "      <td>100</td>\n",
       "      <td>100</td>\n",
       "      <td>100</td>\n",
       "      <td>100</td>\n",
       "      <td>100</td>\n",
       "      <td>100</td>\n",
       "      <td>100</td>\n",
       "      <td>100</td>\n",
       "      <td>100</td>\n",
       "      <td>100</td>\n",
       "      <td>...</td>\n",
       "      <td>100</td>\n",
       "      <td>100</td>\n",
       "      <td>100</td>\n",
       "      <td>100</td>\n",
       "      <td>100</td>\n",
       "      <td>100</td>\n",
       "      <td>100</td>\n",
       "      <td>100</td>\n",
       "      <td>100</td>\n",
       "      <td>2200</td>\n",
       "    </tr>\n",
       "  </tbody>\n",
       "</table>\n",
       "<p>2201 rows × 23 columns</p>\n",
       "</div>"
      ],
      "text/plain": [
       "label               apple  banana  blackgram  chickpea  coconut  coffee  \\\n",
       "rainfall                                                                  \n",
       "20.21126747             0       0          0         0        0       0   \n",
       "20.36001144             0       0          0         0        0       0   \n",
       "20.39020503             0       0          0         0        0       0   \n",
       "20.49035619             0       0          0         0        0       0   \n",
       "20.66127836             0       0          0         0        0       0   \n",
       "...                   ...     ...        ...       ...      ...     ...   \n",
       "295.6094492000001       0       0          0         0        0       0   \n",
       "295.9248796             0       0          0         0        0       0   \n",
       "298.40184710000005      0       0          0         0        0       0   \n",
       "298.5601175             0       0          0         0        0       0   \n",
       "All                   100     100        100       100      100     100   \n",
       "\n",
       "label               cotton  grapes  jute  kidneybeans  ...  mothbeans  \\\n",
       "rainfall                                               ...              \n",
       "20.21126747              0       0     0            0  ...          0   \n",
       "20.36001144              0       0     0            0  ...          0   \n",
       "20.39020503              0       0     0            0  ...          0   \n",
       "20.49035619              0       0     0            0  ...          0   \n",
       "20.66127836              0       0     0            0  ...          0   \n",
       "...                    ...     ...   ...          ...  ...        ...   \n",
       "295.6094492000001        0       0     0            0  ...          0   \n",
       "295.9248796              0       0     0            0  ...          0   \n",
       "298.40184710000005       0       0     0            0  ...          0   \n",
       "298.5601175              0       0     0            0  ...          0   \n",
       "All                    100     100   100          100  ...        100   \n",
       "\n",
       "label               mungbean  muskmelon  orange  papaya  pigeonpeas  \\\n",
       "rainfall                                                              \n",
       "20.21126747                0          1       0       0           0   \n",
       "20.36001144                0          1       0       0           0   \n",
       "20.39020503                0          1       0       0           0   \n",
       "20.49035619                0          1       0       0           0   \n",
       "20.66127836                0          1       0       0           0   \n",
       "...                      ...        ...     ...     ...         ...   \n",
       "295.6094492000001          0          0       0       0           0   \n",
       "295.9248796                0          0       0       0           0   \n",
       "298.40184710000005         0          0       0       0           0   \n",
       "298.5601175                0          0       0       0           0   \n",
       "All                      100        100     100     100         100   \n",
       "\n",
       "label               pomegranate  rice  watermelon   All  \n",
       "rainfall                                                 \n",
       "20.21126747                   0     0           0     1  \n",
       "20.36001144                   0     0           0     1  \n",
       "20.39020503                   0     0           0     1  \n",
       "20.49035619                   0     0           0     1  \n",
       "20.66127836                   0     0           0     1  \n",
       "...                         ...   ...         ...   ...  \n",
       "295.6094492000001             0     1           0     1  \n",
       "295.9248796                   0     1           0     1  \n",
       "298.40184710000005            0     1           0     1  \n",
       "298.5601175                   0     1           0     1  \n",
       "All                         100   100         100  2200  \n",
       "\n",
       "[2201 rows x 23 columns]"
      ]
     },
     "execution_count": 12,
     "metadata": {},
     "output_type": "execute_result"
    }
   ],
   "source": [
    "pd.crosstab(crop['rainfall'], crop['label'], margins=True)"
   ]
  },
  {
   "cell_type": "markdown",
   "metadata": {},
   "source": [
    "EXPLORATORY ANALYSIS WITH GRAPHS AND PLOTS "
   ]
  },
  {
   "cell_type": "code",
   "execution_count": 13,
   "metadata": {},
   "outputs": [
    {
     "data": {
      "image/png": "[encoded data removed]",
      "text/plain": [
       "<Figure size 1500x900 with 2 Axes>"
      ]
     },
     "metadata": {},
     "output_type": "display_data"
    }
   ],
   "source": [
    "import seaborn as sns\n",
    "\n",
    "fig, ax = plt.subplots(1, 1, figsize=(15, 9))\n",
    "corr = crop.corr()\n",
    "sns.heatmap(corr, annot=True, cbar=True,cmap='copper')\n",
    "\n",
    "ax.set(xlabel='features')\n",
    "ax.set(ylabel='features')\n",
    "\n",
    "plt.title(\"Correlation between different features\", fontsize = 15, c='black')\n",
    "plt.show()"
   ]
  },
  {
   "cell_type": "code",
   "execution_count": 14,
   "metadata": {},
   "outputs": [
    {
     "data": {
      "application/vnd.plotly.v1+json": {
       "config": {
        "plotlyServerURL": "https://plot.ly"
       },
       "data": [
        {
         "hovertemplate": "label=%{x}<br>rainfall=%{y}<extra></extra>",
         "legendgroup": "",
         "marker": {
          "color": "#636efa",
          "symbol": "circle"
         },
         "mode": "markers",
         "name": "",
         "showlegend": false,
         "type": "scattergl",
         "x": [
          "rice",
          "rice",
          "rice",
          "rice",
          "rice",
          "rice",
          "rice",
          "rice",
          "rice",
          "rice",
          "rice",
          "rice",
          "rice",
          "rice",
          "rice",
          "rice",
          "rice",
          "rice",
          "rice",
          "rice",
          "rice",
          "rice",
          "rice",
          "rice",
          "rice",
          "rice",
          "rice",
          "rice",
          "rice",
          "rice",
          "rice",
          "rice",
          "rice",
          "rice",
          "rice",
          "rice",
          "rice",
          "rice",
          "rice",
          "rice",
          "rice",
          "rice",
          "rice",
          "rice",
          "rice",
          "rice",
          "rice",
          "rice",
          "rice",
          "rice",
          "rice",
          "rice",
          "rice",
          "rice",
          "rice",
          "rice",
          "rice",
          "rice",
          "rice",
          "rice",
          "rice",
          "rice",
          "rice",
          "rice",
          "rice",
          "rice",
          "rice",
          "rice",
          "rice",
          "rice",
          "rice",
          "rice",
          "rice",
          "rice",
          "rice",
          "rice",
          "rice",
          "rice",
          "rice",
          "rice",
          "rice",
          "rice",
          "rice",
          "rice",
          "rice",
          "rice",
          "rice",
          "rice",
          "rice",
          "rice",
          "rice",
          "rice",
          "rice",
          "rice",
          "rice",
          "rice",
          "rice",
          "rice",
          "rice",
          "rice",
          "maize",
          "maize",
          "maize",
          "maize",
          "maize",
          "maize",
          "maize",
          "maize",
          "maize",
          "maize",
          "maize",
          "maize",
          "maize",
          "maize",
          "maize",
          "maize",
          "maize",
          "maize",
          "maize",
          "maize",
          "maize",
          "maize",
          "maize",
          "maize",
          "maize",
          "maize",
          "maize",
          "maize",
          "maize",
          "maize",
          "maize",
          "maize",
          "maize",
          "maize",
          "maize",
          "maize",
          "maize",
          "maize",
          "maize",
          "maize",
          "maize",
          "maize",
          "maize",
          "maize",
          "maize",
          "maize",
          "maize",
          "maize",
          "maize",
          "maize",
          "maize",
          "maize",
          "maize",
          "maize",
          "maize",
          "maize",
          "maize",
          "maize",
          "maize",
          "maize",
          "maize",
          "maize",
          "maize",
          "maize",
          "maize",
          "maize",
          "maize",
          "maize",
          "maize",
          "maize",
          "maize",
          "maize",
          "maize",
          "maize",
          "maize",
          "maize",
          "maize",
          "maize",
          "maize",
          "maize",
          "maize",
          "maize",
          "maize",
          "maize",
          "maize",
          "maize",
          "maize",
          "maize",
          "maize",
          "maize",
          "maize",
          "maize",
          "maize",
          "maize",
          "maize",
          "maize",
          "maize",
          "maize",
          "maize",
          "maize",
          "chickpea",
          "chickpea",
          "chickpea",
          "chickpea",
          "chickpea",
          "chickpea",
          "chickpea",
          "chickpea",
          "chickpea",
          "chickpea",
          "chickpea",
          "chickpea",
          "chickpea",
          "chickpea",
          "chickpea",
          "chickpea",
          "chickpea",
          "chickpea",
          "chickpea",
          "chickpea",
          "chickpea",
          "chickpea",
          "chickpea",
          "chickpea",
          "chickpea",
          "chickpea",
          "chickpea",
          "chickpea",
          "chickpea",
          "chickpea",
          "chickpea",
          "chickpea",
          "chickpea",
          "chickpea",
          "chickpea",
          "chickpea",
          "chickpea",
          "chickpea",
          "chickpea",
          "chickpea",
          "chickpea",
          "chickpea",
          "chickpea",
          "chickpea",
          "chickpea",
          "chickpea",
          "chickpea",
          "chickpea",
          "chickpea",
          "chickpea",
          "chickpea",
          "chickpea",
          "chickpea",
          "chickpea",
          "chickpea",
          "chickpea",
          "chickpea",
          "chickpea",
          "chickpea",
          "chickpea",
          "chickpea",
          "chickpea",
          "chickpea",
          "chickpea",
          "chickpea",
          "chickpea",
          "chickpea",
          "chickpea",
          "chickpea",
          "chickpea",
          "chickpea",
          "chickpea",
          "chickpea",
          "chickpea",
          "chickpea",
          "chickpea",
          "chickpea",
          "chickpea",
          "chickpea",
          "chickpea",
          "chickpea",
          "chickpea",
          "chickpea",
          "chickpea",
          "chickpea",
          "chickpea",
          "chickpea",
          "chickpea",
          "chickpea",
          "chickpea",
          "chickpea",
          "chickpea",
          "chickpea",
          "chickpea",
          "chickpea",
          "chickpea",
          "chickpea",
          "chickpea",
          "chickpea",
          "chickpea",
          "kidneybeans",
          "kidneybeans",
          "kidneybeans",
          "kidneybeans",
          "kidneybeans",
          "kidneybeans",
          "kidneybeans",
          "kidneybeans",
          "kidneybeans",
          "kidneybeans",
          "kidneybeans",
          "kidneybeans",
          "kidneybeans",
          "kidneybeans",
          "kidneybeans",
          "kidneybeans",
          "kidneybeans",
          "kidneybeans",
          "kidneybeans",
          "kidneybeans",
          "kidneybeans",
          "kidneybeans",
          "kidneybeans",
          "kidneybeans",
          "kidneybeans",
          "kidneybeans",
          "kidneybeans",
          "kidneybeans",
          "kidneybeans",
          "kidneybeans",
          "kidneybeans",
          "kidneybeans",
          "kidneybeans",
          "kidneybeans",
          "kidneybeans",
          "kidneybeans",
          "kidneybeans",
          "kidneybeans",
          "kidneybeans",
          "kidneybeans",
          "kidneybeans",
          "kidneybeans",
          "kidneybeans",
          "kidneybeans",
          "kidneybeans",
          "kidneybeans",
          "kidneybeans",
          "kidneybeans",
          "kidneybeans",
          "kidneybeans",
          "kidneybeans",
          "kidneybeans",
          "kidneybeans",
          "kidneybeans",
          "kidneybeans",
          "kidneybeans",
          "kidneybeans",
          "kidneybeans",
          "kidneybeans",
          "kidneybeans",
          "kidneybeans",
          "kidneybeans",
          "kidneybeans",
          "kidneybeans",
          "kidneybeans",
          "kidneybeans",
          "kidneybeans",
          "kidneybeans",
          "kidneybeans",
          "kidneybeans",
          "kidneybeans",
          "kidneybeans",
          "kidneybeans",
          "kidneybeans",
          "kidneybeans",
          "kidneybeans",
          "kidneybeans",
          "kidneybeans",
          "kidneybeans",
          "kidneybeans",
          "kidneybeans",
          "kidneybeans",
          "kidneybeans",
          "kidneybeans",
          "kidneybeans",
          "kidneybeans",
          "kidneybeans",
          "kidneybeans",
          "kidneybeans",
          "kidneybeans",
          "kidneybeans",
          "kidneybeans",
          "kidneybeans",
          "kidneybeans",
          "kidneybeans",
          "kidneybeans",
          "kidneybeans",
          "kidneybeans",
          "kidneybeans",
          "kidneybeans",
          "pigeonpeas",
          "pigeonpeas",
          "pigeonpeas",
          "pigeonpeas",
          "pigeonpeas",
          "pigeonpeas",
          "pigeonpeas",
          "pigeonpeas",
          "pigeonpeas",
          "pigeonpeas",
          "pigeonpeas",
          "pigeonpeas",
          "pigeonpeas",
          "pigeonpeas",
          "pigeonpeas",
          "pigeonpeas",
          "pigeonpeas",
          "pigeonpeas",
          "pigeonpeas",
          "pigeonpeas",
          "pigeonpeas",
          "pigeonpeas",
          "pigeonpeas",
          "pigeonpeas",
          "pigeonpeas",
          "pigeonpeas",
          "pigeonpeas",
          "pigeonpeas",
          "pigeonpeas",
          "pigeonpeas",
          "pigeonpeas",
          "pigeonpeas",
          "pigeonpeas",
          "pigeonpeas",
          "pigeonpeas",
          "pigeonpeas",
          "pigeonpeas",
          "pigeonpeas",
          "pigeonpeas",
          "pigeonpeas",
          "pigeonpeas",
          "pigeonpeas",
          "pigeonpeas",
          "pigeonpeas",
          "pigeonpeas",
          "pigeonpeas",
          "pigeonpeas",
          "pigeonpeas",
          "pigeonpeas",
          "pigeonpeas",
          "pigeonpeas",
          "pigeonpeas",
          "pigeonpeas",
          "pigeonpeas",
          "pigeonpeas",
          "pigeonpeas",
          "pigeonpeas",
          "pigeonpeas",
          "pigeonpeas",
          "pigeonpeas",
          "pigeonpeas",
          "pigeonpeas",
          "pigeonpeas",
          "pigeonpeas",
          "pigeonpeas",
          "pigeonpeas",
          "pigeonpeas",
          "pigeonpeas",
          "pigeonpeas",
          "pigeonpeas",
          "pigeonpeas",
          "pigeonpeas",
          "pigeonpeas",
          "pigeonpeas",
          "pigeonpeas",
          "pigeonpeas",
          "pigeonpeas",
          "pigeonpeas",
          "pigeonpeas",
          "pigeonpeas",
          "pigeonpeas",
          "pigeonpeas",
          "pigeonpeas",
          "pigeonpeas",
          "pigeonpeas",
          "pigeonpeas",
          "pigeonpeas",
          "pigeonpeas",
          "pigeonpeas",
          "pigeonpeas",
          "pigeonpeas",
          "pigeonpeas",
          "pigeonpeas",
          "pigeonpeas",
          "pigeonpeas",
          "pigeonpeas",
          "pigeonpeas",
          "pigeonpeas",
          "pigeonpeas",
          "pigeonpeas",
          "mothbeans",
          "mothbeans",
          "mothbeans",
          "mothbeans",
          "mothbeans",
          "mothbeans",
          "mothbeans",
          "mothbeans",
          "mothbeans",
          "mothbeans",
          "mothbeans",
          "mothbeans",
          "mothbeans",
          "mothbeans",
          "mothbeans",
          "mothbeans",
          "mothbeans",
          "mothbeans",
          "mothbeans",
          "mothbeans",
          "mothbeans",
          "mothbeans",
          "mothbeans",
          "mothbeans",
          "mothbeans",
          "mothbeans",
          "mothbeans",
          "mothbeans",
          "mothbeans",
          "mothbeans",
          "mothbeans",
          "mothbeans",
          "mothbeans",
          "mothbeans",
          "mothbeans",
          "mothbeans",
          "mothbeans",
          "mothbeans",
          "mothbeans",
          "mothbeans",
          "mothbeans",
          "mothbeans",
          "mothbeans",
          "mothbeans",
          "mothbeans",
          "mothbeans",
          "mothbeans",
          "mothbeans",
          "mothbeans",
          "mothbeans",
          "mothbeans",
          "mothbeans",
          "mothbeans",
          "mothbeans",
          "mothbeans",
          "mothbeans",
          "mothbeans",
          "mothbeans",
          "mothbeans",
          "mothbeans",
          "mothbeans",
          "mothbeans",
          "mothbeans",
          "mothbeans",
          "mothbeans",
          "mothbeans",
          "mothbeans",
          "mothbeans",
          "mothbeans",
          "mothbeans",
          "mothbeans",
          "mothbeans",
          "mothbeans",
          "mothbeans",
          "mothbeans",
          "mothbeans",
          "mothbeans",
          "mothbeans",
          "mothbeans",
          "mothbeans",
          "mothbeans",
          "mothbeans",
          "mothbeans",
          "mothbeans",
          "mothbeans",
          "mothbeans",
          "mothbeans",
          "mothbeans",
          "mothbeans",
          "mothbeans",
          "mothbeans",
          "mothbeans",
          "mothbeans",
          "mothbeans",
          "mothbeans",
          "mothbeans",
          "mothbeans",
          "mothbeans",
          "mothbeans",
          "mothbeans",
          "mungbean",
          "mungbean",
          "mungbean",
          "mungbean",
          "mungbean",
          "mungbean",
          "mungbean",
          "mungbean",
          "mungbean",
          "mungbean",
          "mungbean",
          "mungbean",
          "mungbean",
          "mungbean",
          "mungbean",
          "mungbean",
          "mungbean",
          "mungbean",
          "mungbean",
          "mungbean",
          "mungbean",
          "mungbean",
          "mungbean",
          "mungbean",
          "mungbean",
          "mungbean",
          "mungbean",
          "mungbean",
          "mungbean",
          "mungbean",
          "mungbean",
          "mungbean",
          "mungbean",
          "mungbean",
          "mungbean",
          "mungbean",
          "mungbean",
          "mungbean",
          "mungbean",
          "mungbean",
          "mungbean",
          "mungbean",
          "mungbean",
          "mungbean",
          "mungbean",
          "mungbean",
          "mungbean",
          "mungbean",
          "mungbean",
          "mungbean",
          "mungbean",
          "mungbean",
          "mungbean",
          "mungbean",
          "mungbean",
          "mungbean",
          "mungbean",
          "mungbean",
          "mungbean",
          "mungbean",
          "mungbean",
          "mungbean",
          "mungbean",
          "mungbean",
          "mungbean",
          "mungbean",
          "mungbean",
          "mungbean",
          "mungbean",
          "mungbean",
          "mungbean",
          "mungbean",
          "mungbean",
          "mungbean",
          "mungbean",
          "mungbean",
          "mungbean",
          "mungbean",
          "mungbean",
          "mungbean",
          "mungbean",
          "mungbean",
          "mungbean",
          "mungbean",
          "mungbean",
          "mungbean",
          "mungbean",
          "mungbean",
          "mungbean",
          "mungbean",
          "mungbean",
          "mungbean",
          "mungbean",
          "mungbean",
          "mungbean",
          "mungbean",
          "mungbean",
          "mungbean",
          "mungbean",
          "mungbean",
          "blackgram",
          "blackgram",
          "blackgram",
          "blackgram",
          "blackgram",
          "blackgram",
          "blackgram",
          "blackgram",
          "blackgram",
          "blackgram",
          "blackgram",
          "blackgram",
          "blackgram",
          "blackgram",
          "blackgram",
          "blackgram",
          "blackgram",
          "blackgram",
          "blackgram",
          "blackgram",
          "blackgram",
          "blackgram",
          "blackgram",
          "blackgram",
          "blackgram",
          "blackgram",
          "blackgram",
          "blackgram",
          "blackgram",
          "blackgram",
          "blackgram",
          "blackgram",
          "blackgram",
          "blackgram",
          "blackgram",
          "blackgram",
          "blackgram",
          "blackgram",
          "blackgram",
          "blackgram",
          "blackgram",
          "blackgram",
          "blackgram",
          "blackgram",
          "blackgram",
          "blackgram",
          "blackgram",
          "blackgram",
          "blackgram",
          "blackgram",
          "blackgram",
          "blackgram",
          "blackgram",
          "blackgram",
          "blackgram",
          "blackgram",
          "blackgram",
          "blackgram",
          "blackgram",
          "blackgram",
          "blackgram",
          "blackgram",
          "blackgram",
          "blackgram",
          "blackgram",
          "blackgram",
          "blackgram",
          "blackgram",
          "blackgram",
          "blackgram",
          "blackgram",
          "blackgram",
          "blackgram",
          "blackgram",
          "blackgram",
          "blackgram",
          "blackgram",
          "blackgram",
          "blackgram",
          "blackgram",
          "blackgram",
          "blackgram",
          "blackgram",
          "blackgram",
          "blackgram",
          "blackgram",
          "blackgram",
          "blackgram",
          "blackgram",
          "blackgram",
          "blackgram",
          "blackgram",
          "blackgram",
          "blackgram",
          "blackgram",
          "blackgram",
          "blackgram",
          "blackgram",
          "blackgram",
          "blackgram",
          "lentil",
          "lentil",
          "lentil",
          "lentil",
          "lentil",
          "lentil",
          "lentil",
          "lentil",
          "lentil",
          "lentil",
          "lentil",
          "lentil",
          "lentil",
          "lentil",
          "lentil",
          "lentil",
          "lentil",
          "lentil",
          "lentil",
          "lentil",
          "lentil",
          "lentil",
          "lentil",
          "lentil",
          "lentil",
          "lentil",
          "lentil",
          "lentil",
          "lentil",
          "lentil",
          "lentil",
          "lentil",
          "lentil",
          "lentil",
          "lentil",
          "lentil",
          "lentil",
          "lentil",
          "lentil",
          "lentil",
          "lentil",
          "lentil",
          "lentil",
          "lentil",
          "lentil",
          "lentil",
          "lentil",
          "lentil",
          "lentil",
          "lentil",
          "lentil",
          "lentil",
          "lentil",
          "lentil",
          "lentil",
          "lentil",
          "lentil",
          "lentil",
          "lentil",
          "lentil",
          "lentil",
          "lentil",
          "lentil",
          "lentil",
          "lentil",
          "lentil",
          "lentil",
          "lentil",
          "lentil",
          "lentil",
          "lentil",
          "lentil",
          "lentil",
          "lentil",
          "lentil",
          "lentil",
          "lentil",
          "lentil",
          "lentil",
          "lentil",
          "lentil",
          "lentil",
          "lentil",
          "lentil",
          "lentil",
          "lentil",
          "lentil",
          "lentil",
          "lentil",
          "lentil",
          "lentil",
          "lentil",
          "lentil",
          "lentil",
          "lentil",
          "lentil",
          "lentil",
          "lentil",
          "lentil",
          "lentil",
          "pomegranate",
          "pomegranate",
          "pomegranate",
          "pomegranate",
          "pomegranate",
          "pomegranate",
          "pomegranate",
          "pomegranate",
          "pomegranate",
          "pomegranate",
          "pomegranate",
          "pomegranate",
          "pomegranate",
          "pomegranate",
          "pomegranate",
          "pomegranate",
          "pomegranate",
          "pomegranate",
          "pomegranate",
          "pomegranate",
          "pomegranate",
          "pomegranate",
          "pomegranate",
          "pomegranate",
          "pomegranate",
          "pomegranate",
          "pomegranate",
          "pomegranate",
          "pomegranate",
          "pomegranate",
          "pomegranate",
          "pomegranate",
          "pomegranate",
          "pomegranate",
          "pomegranate",
          "pomegranate",
          "pomegranate",
          "pomegranate",
          "pomegranate",
          "pomegranate",
          "pomegranate",
          "pomegranate",
          "pomegranate",
          "pomegranate",
          "pomegranate",
          "pomegranate",
          "pomegranate",
          "pomegranate",
          "pomegranate",
          "pomegranate",
          "pomegranate",
          "pomegranate",
          "pomegranate",
          "pomegranate",
          "pomegranate",
          "pomegranate",
          "pomegranate",
          "pomegranate",
          "pomegranate",
          "pomegranate",
          "pomegranate",
          "pomegranate",
          "pomegranate",
          "pomegranate",
          "pomegranate",
          "pomegranate",
          "pomegranate",
          "pomegranate",
          "pomegranate",
          "pomegranate",
          "pomegranate",
          "pomegranate",
          "pomegranate",
          "pomegranate",
          "pomegranate",
          "pomegranate",
          "pomegranate",
          "pomegranate",
          "pomegranate",
          "pomegranate",
          "pomegranate",
          "pomegranate",
          "pomegranate",
          "pomegranate",
          "pomegranate",
          "pomegranate",
          "pomegranate",
          "pomegranate",
          "pomegranate",
          "pomegranate",
          "pomegranate",
          "pomegranate",
          "pomegranate",
          "pomegranate",
          "pomegranate",
          "pomegranate",
          "pomegranate",
          "pomegranate",
          "pomegranate",
          "pomegranate",
          "banana",
          "banana",
          "banana",
          "banana",
          "banana",
          "banana",
          "banana",
          "banana",
          "banana",
          "banana",
          "banana",
          "banana",
          "banana",
          "banana",
          "banana",
          "banana",
          "banana",
          "banana",
          "banana",
          "banana",
          "banana",
          "banana",
          "banana",
          "banana",
          "banana",
          "banana",
          "banana",
          "banana",
          "banana",
          "banana",
          "banana",
          "banana",
          "banana",
          "banana",
          "banana",
          "banana",
          "banana",
          "banana",
          "banana",
          "banana",
          "banana",
          "banana",
          "banana",
          "banana",
          "banana",
          "banana",
          "banana",
          "banana",
          "banana",
          "banana",
          "banana",
          "banana",
          "banana",
          "banana",
          "banana",
          "banana",
          "banana",
          "banana",
          "banana",
          "banana",
          "banana",
          "banana",
          "banana",
          "banana",
          "banana",
          "banana",
          "banana",
          "banana",
          "banana",
          "banana",
          "banana",
          "banana",
          "banana",
          "banana",
          "banana",
          "banana",
          "banana",
          "banana",
          "banana",
          "banana",
          "banana",
          "banana",
          "banana",
          "banana",
          "banana",
          "banana",
          "banana",
          "banana",
          "banana",
          "banana",
          "banana",
          "banana",
          "banana",
          "banana",
          "banana",
          "banana",
          "banana",
          "banana",
          "banana",
          "banana",
          "mango",
          "mango",
          "mango",
          "mango",
          "mango",
          "mango",
          "mango",
          "mango",
          "mango",
          "mango",
          "mango",
          "mango",
          "mango",
          "mango",
          "mango",
          "mango",
          "mango",
          "mango",
          "mango",
          "mango",
          "mango",
          "mango",
          "mango",
          "mango",
          "mango",
          "mango",
          "mango",
          "mango",
          "mango",
          "mango",
          "mango",
          "mango",
          "mango",
          "mango",
          "mango",
          "mango",
          "mango",
          "mango",
          "mango",
          "mango",
          "mango",
          "mango",
          "mango",
          "mango",
          "mango",
          "mango",
          "mango",
          "mango",
          "mango",
          "mango",
          "mango",
          "mango",
          "mango",
          "mango",
          "mango",
          "mango",
          "mango",
          "mango",
          "mango",
          "mango",
          "mango",
          "mango",
          "mango",
          "mango",
          "mango",
          "mango",
          "mango",
          "mango",
          "mango",
          "mango",
          "mango",
          "mango",
          "mango",
          "mango",
          "mango",
          "mango",
          "mango",
          "mango",
          "mango",
          "mango",
          "mango",
          "mango",
          "mango",
          "mango",
          "mango",
          "mango",
          "mango",
          "mango",
          "mango",
          "mango",
          "mango",
          "mango",
          "mango",
          "mango",
          "mango",
          "mango",
          "mango",
          "mango",
          "mango",
          "mango",
          "grapes",
          "grapes",
          "grapes",
          "grapes",
          "grapes",
          "grapes",
          "grapes",
          "grapes",
          "grapes",
          "grapes",
          "grapes",
          "grapes",
          "grapes",
          "grapes",
          "grapes",
          "grapes",
          "grapes",
          "grapes",
          "grapes",
          "grapes",
          "grapes",
          "grapes",
          "grapes",
          "grapes",
          "grapes",
          "grapes",
          "grapes",
          "grapes",
          "grapes",
          "grapes",
          "grapes",
          "grapes",
          "grapes",
          "grapes",
          "grapes",
          "grapes",
          "grapes",
          "grapes",
          "grapes",
          "grapes",
          "grapes",
          "grapes",
          "grapes",
          "grapes",
          "grapes",
          "grapes",
          "grapes",
          "grapes",
          "grapes",
          "grapes",
          "grapes",
          "grapes",
          "grapes",
          "grapes",
          "grapes",
          "grapes",
          "grapes",
          "grapes",
          "grapes",
          "grapes",
          "grapes",
          "grapes",
          "grapes",
          "grapes",
          "grapes",
          "grapes",
          "grapes",
          "grapes",
          "grapes",
          "grapes",
          "grapes",
          "grapes",
          "grapes",
          "grapes",
          "grapes",
          "grapes",
          "grapes",
          "grapes",
          "grapes",
          "grapes",
          "grapes",
          "grapes",
          "grapes",
          "grapes",
          "grapes",
          "grapes",
          "grapes",
          "grapes",
          "grapes",
          "grapes",
          "grapes",
          "grapes",
          "grapes",
          "grapes",
          "grapes",
          "grapes",
          "grapes",
          "grapes",
          "grapes",
          "grapes",
          "watermelon",
          "watermelon",
          "watermelon",
          "watermelon",
          "watermelon",
          "watermelon",
          "watermelon",
          "watermelon",
          "watermelon",
          "watermelon",
          "watermelon",
          "watermelon",
          "watermelon",
          "watermelon",
          "watermelon",
          "watermelon",
          "watermelon",
          "watermelon",
          "watermelon",
          "watermelon",
          "watermelon",
          "watermelon",
          "watermelon",
          "watermelon",
          "watermelon",
          "watermelon",
          "watermelon",
          "watermelon",
          "watermelon",
          "watermelon",
          "watermelon",
          "watermelon",
          "watermelon",
          "watermelon",
          "watermelon",
          "watermelon",
          "watermelon",
          "watermelon",
          "watermelon",
          "watermelon",
          "watermelon",
          "watermelon",
          "watermelon",
          "watermelon",
          "watermelon",
          "watermelon",
          "watermelon",
          "watermelon",
          "watermelon",
          "watermelon",
          "watermelon",
          "watermelon",
          "watermelon",
          "watermelon",
          "watermelon",
          "watermelon",
          "watermelon",
          "watermelon",
          "watermelon",
          "watermelon",
          "watermelon",
          "watermelon",
          "watermelon",
          "watermelon",
          "watermelon",
          "watermelon",
          "watermelon",
          "watermelon",
          "watermelon",
          "watermelon",
          "watermelon",
          "watermelon",
          "watermelon",
          "watermelon",
          "watermelon",
          "watermelon",
          "watermelon",
          "watermelon",
          "watermelon",
          "watermelon",
          "watermelon",
          "watermelon",
          "watermelon",
          "watermelon",
          "watermelon",
          "watermelon",
          "watermelon",
          "watermelon",
          "watermelon",
          "watermelon",
          "watermelon",
          "watermelon",
          "watermelon",
          "watermelon",
          "watermelon",
          "watermelon",
          "watermelon",
          "watermelon",
          "watermelon",
          "watermelon",
          "muskmelon",
          "muskmelon",
          "muskmelon",
          "muskmelon",
          "muskmelon",
          "muskmelon",
          "muskmelon",
          "muskmelon",
          "muskmelon",
          "muskmelon",
          "muskmelon",
          "muskmelon",
          "muskmelon",
          "muskmelon",
          "muskmelon",
          "muskmelon",
          "muskmelon",
          "muskmelon",
          "muskmelon",
          "muskmelon",
          "muskmelon",
          "muskmelon",
          "muskmelon",
          "muskmelon",
          "muskmelon",
          "muskmelon",
          "muskmelon",
          "muskmelon",
          "muskmelon",
          "muskmelon",
          "muskmelon",
          "muskmelon",
          "muskmelon",
          "muskmelon",
          "muskmelon",
          "muskmelon",
          "muskmelon",
          "muskmelon",
          "muskmelon",
          "muskmelon",
          "muskmelon",
          "muskmelon",
          "muskmelon",
          "muskmelon",
          "muskmelon",
          "muskmelon",
          "muskmelon",
          "muskmelon",
          "muskmelon",
          "muskmelon",
          "muskmelon",
          "muskmelon",
          "muskmelon",
          "muskmelon",
          "muskmelon",
          "muskmelon",
          "muskmelon",
          "muskmelon",
          "muskmelon",
          "muskmelon",
          "muskmelon",
          "muskmelon",
          "muskmelon",
          "muskmelon",
          "muskmelon",
          "muskmelon",
          "muskmelon",
          "muskmelon",
          "muskmelon",
          "muskmelon",
          "muskmelon",
          "muskmelon",
          "muskmelon",
          "muskmelon",
          "muskmelon",
          "muskmelon",
          "muskmelon",
          "muskmelon",
          "muskmelon",
          "muskmelon",
          "muskmelon",
          "muskmelon",
          "muskmelon",
          "muskmelon",
          "muskmelon",
          "muskmelon",
          "muskmelon",
          "muskmelon",
          "muskmelon",
          "muskmelon",
          "muskmelon",
          "muskmelon",
          "muskmelon",
          "muskmelon",
          "muskmelon",
          "muskmelon",
          "muskmelon",
          "muskmelon",
          "muskmelon",
          "muskmelon",
          "apple",
          "apple",
          "apple",
          "apple",
          "apple",
          "apple",
          "apple",
          "apple",
          "apple",
          "apple",
          "apple",
          "apple",
          "apple",
          "apple",
          "apple",
          "apple",
          "apple",
          "apple",
          "apple",
          "apple",
          "apple",
          "apple",
          "apple",
          "apple",
          "apple",
          "apple",
          "apple",
          "apple",
          "apple",
          "apple",
          "apple",
          "apple",
          "apple",
          "apple",
          "apple",
          "apple",
          "apple",
          "apple",
          "apple",
          "apple",
          "apple",
          "apple",
          "apple",
          "apple",
          "apple",
          "apple",
          "apple",
          "apple",
          "apple",
          "apple",
          "apple",
          "apple",
          "apple",
          "apple",
          "apple",
          "apple",
          "apple",
          "apple",
          "apple",
          "apple",
          "apple",
          "apple",
          "apple",
          "apple",
          "apple",
          "apple",
          "apple",
          "apple",
          "apple",
          "apple",
          "apple",
          "apple",
          "apple",
          "apple",
          "apple",
          "apple",
          "apple",
          "apple",
          "apple",
          "apple",
          "apple",
          "apple",
          "apple",
          "apple",
          "apple",
          "apple",
          "apple",
          "apple",
          "apple",
          "apple",
          "apple",
          "apple",
          "apple",
          "apple",
          "apple",
          "apple",
          "apple",
          "apple",
          "apple",
          "apple",
          "orange",
          "orange",
          "orange",
          "orange",
          "orange",
          "orange",
          "orange",
          "orange",
          "orange",
          "orange",
          "orange",
          "orange",
          "orange",
          "orange",
          "orange",
          "orange",
          "orange",
          "orange",
          "orange",
          "orange",
          "orange",
          "orange",
          "orange",
          "orange",
          "orange",
          "orange",
          "orange",
          "orange",
          "orange",
          "orange",
          "orange",
          "orange",
          "orange",
          "orange",
          "orange",
          "orange",
          "orange",
          "orange",
          "orange",
          "orange",
          "orange",
          "orange",
          "orange",
          "orange",
          "orange",
          "orange",
          "orange",
          "orange",
          "orange",
          "orange",
          "orange",
          "orange",
          "orange",
          "orange",
          "orange",
          "orange",
          "orange",
          "orange",
          "orange",
          "orange",
          "orange",
          "orange",
          "orange",
          "orange",
          "orange",
          "orange",
          "orange",
          "orange",
          "orange",
          "orange",
          "orange",
          "orange",
          "orange",
          "orange",
          "orange",
          "orange",
          "orange",
          "orange",
          "orange",
          "orange",
          "orange",
          "orange",
          "orange",
          "orange",
          "orange",
          "orange",
          "orange",
          "orange",
          "orange",
          "orange",
          "orange",
          "orange",
          "orange",
          "orange",
          "orange",
          "orange",
          "orange",
          "orange",
          "orange",
          "orange",
          "papaya",
          "papaya",
          "papaya",
          "papaya",
          "papaya",
          "papaya",
          "papaya",
          "papaya",
          "papaya",
          "papaya",
          "papaya",
          "papaya",
          "papaya",
          "papaya",
          "papaya",
          "papaya",
          "papaya",
          "papaya",
          "papaya",
          "papaya",
          "papaya",
          "papaya",
          "papaya",
          "papaya",
          "papaya",
          "papaya",
          "papaya",
          "papaya",
          "papaya",
          "papaya",
          "papaya",
          "papaya",
          "papaya",
          "papaya",
          "papaya",
          "papaya",
          "papaya",
          "papaya",
          "papaya",
          "papaya",
          "papaya",
          "papaya",
          "papaya",
          "papaya",
          "papaya",
          "papaya",
          "papaya",
          "papaya",
          "papaya",
          "papaya",
          "papaya",
          "papaya",
          "papaya",
          "papaya",
          "papaya",
          "papaya",
          "papaya",
          "papaya",
          "papaya",
          "papaya",
          "papaya",
          "papaya",
          "papaya",
          "papaya",
          "papaya",
          "papaya",
          "papaya",
          "papaya",
          "papaya",
          "papaya",
          "papaya",
          "papaya",
          "papaya",
          "papaya",
          "papaya",
          "papaya",
          "papaya",
          "papaya",
          "papaya",
          "papaya",
          "papaya",
          "papaya",
          "papaya",
          "papaya",
          "papaya",
          "papaya",
          "papaya",
          "papaya",
          "papaya",
          "papaya",
          "papaya",
          "papaya",
          "papaya",
          "papaya",
          "papaya",
          "papaya",
          "papaya",
          "papaya",
          "papaya",
          "papaya",
          "coconut",
          "coconut",
          "coconut",
          "coconut",
          "coconut",
          "coconut",
          "coconut",
          "coconut",
          "coconut",
          "coconut",
          "coconut",
          "coconut",
          "coconut",
          "coconut",
          "coconut",
          "coconut",
          "coconut",
          "coconut",
          "coconut",
          "coconut",
          "coconut",
          "coconut",
          "coconut",
          "coconut",
          "coconut",
          "coconut",
          "coconut",
          "coconut",
          "coconut",
          "coconut",
          "coconut",
          "coconut",
          "coconut",
          "coconut",
          "coconut",
          "coconut",
          "coconut",
          "coconut",
          "coconut",
          "coconut",
          "coconut",
          "coconut",
          "coconut",
          "coconut",
          "coconut",
          "coconut",
          "coconut",
          "coconut",
          "coconut",
          "coconut",
          "coconut",
          "coconut",
          "coconut",
          "coconut",
          "coconut",
          "coconut",
          "coconut",
          "coconut",
          "coconut",
          "coconut",
          "coconut",
          "coconut",
          "coconut",
          "coconut",
          "coconut",
          "coconut",
          "coconut",
          "coconut",
          "coconut",
          "coconut",
          "coconut",
          "coconut",
          "coconut",
          "coconut",
          "coconut",
          "coconut",
          "coconut",
          "coconut",
          "coconut",
          "coconut",
          "coconut",
          "coconut",
          "coconut",
          "coconut",
          "coconut",
          "coconut",
          "coconut",
          "coconut",
          "coconut",
          "coconut",
          "coconut",
          "coconut",
          "coconut",
          "coconut",
          "coconut",
          "coconut",
          "coconut",
          "coconut",
          "coconut",
          "coconut",
          "cotton",
          "cotton",
          "cotton",
          "cotton",
          "cotton",
          "cotton",
          "cotton",
          "cotton",
          "cotton",
          "cotton",
          "cotton",
          "cotton",
          "cotton",
          "cotton",
          "cotton",
          "cotton",
          "cotton",
          "cotton",
          "cotton",
          "cotton",
          "cotton",
          "cotton",
          "cotton",
          "cotton",
          "cotton",
          "cotton",
          "cotton",
          "cotton",
          "cotton",
          "cotton",
          "cotton",
          "cotton",
          "cotton",
          "cotton",
          "cotton",
          "cotton",
          "cotton",
          "cotton",
          "cotton",
          "cotton",
          "cotton",
          "cotton",
          "cotton",
          "cotton",
          "cotton",
          "cotton",
          "cotton",
          "cotton",
          "cotton",
          "cotton",
          "cotton",
          "cotton",
          "cotton",
          "cotton",
          "cotton",
          "cotton",
          "cotton",
          "cotton",
          "cotton",
          "cotton",
          "cotton",
          "cotton",
          "cotton",
          "cotton",
          "cotton",
          "cotton",
          "cotton",
          "cotton",
          "cotton",
          "cotton",
          "cotton",
          "cotton",
          "cotton",
          "cotton",
          "cotton",
          "cotton",
          "cotton",
          "cotton",
          "cotton",
          "cotton",
          "cotton",
          "cotton",
          "cotton",
          "cotton",
          "cotton",
          "cotton",
          "cotton",
          "cotton",
          "cotton",
          "cotton",
          "cotton",
          "cotton",
          "cotton",
          "cotton",
          "cotton",
          "cotton",
          "cotton",
          "cotton",
          "cotton",
          "cotton",
          "jute",
          "jute",
          "jute",
          "jute",
          "jute",
          "jute",
          "jute",
          "jute",
          "jute",
          "jute",
          "jute",
          "jute",
          "jute",
          "jute",
          "jute",
          "jute",
          "jute",
          "jute",
          "jute",
          "jute",
          "jute",
          "jute",
          "jute",
          "jute",
          "jute",
          "jute",
          "jute",
          "jute",
          "jute",
          "jute",
          "jute",
          "jute",
          "jute",
          "jute",
          "jute",
          "jute",
          "jute",
          "jute",
          "jute",
          "jute",
          "jute",
          "jute",
          "jute",
          "jute",
          "jute",
          "jute",
          "jute",
          "jute",
          "jute",
          "jute",
          "jute",
          "jute",
          "jute",
          "jute",
          "jute",
          "jute",
          "jute",
          "jute",
          "jute",
          "jute",
          "jute",
          "jute",
          "jute",
          "jute",
          "jute",
          "jute",
          "jute",
          "jute",
          "jute",
          "jute",
          "jute",
          "jute",
          "jute",
          "jute",
          "jute",
          "jute",
          "jute",
          "jute",
          "jute",
          "jute",
          "jute",
          "jute",
          "jute",
          "jute",
          "jute",
          "jute",
          "jute",
          "jute",
          "jute",
          "jute",
          "jute",
          "jute",
          "jute",
          "jute",
          "jute",
          "jute",
          "jute",
          "jute",
          "jute",
          "jute",
          "coffee",
          "coffee",
          "coffee",
          "coffee",
          "coffee",
          "coffee",
          "coffee",
          "coffee",
          "coffee",
          "coffee",
          "coffee",
          "coffee",
          "coffee",
          "coffee",
          "coffee",
          "coffee",
          "coffee",
          "coffee",
          "coffee",
          "coffee",
          "coffee",
          "coffee",
          "coffee",
          "coffee",
          "coffee",
          "coffee",
          "coffee",
          "coffee",
          "coffee",
          "coffee",
          "coffee",
          "coffee",
          "coffee",
          "coffee",
          "coffee",
          "coffee",
          "coffee",
          "coffee",
          "coffee",
          "coffee",
          "coffee",
          "coffee",
          "coffee",
          "coffee",
          "coffee",
          "coffee",
          "coffee",
          "coffee",
          "coffee",
          "coffee",
          "coffee",
          "coffee",
          "coffee",
          "coffee",
          "coffee",
          "coffee",
          "coffee",
          "coffee",
          "coffee",
          "coffee",
          "coffee",
          "coffee",
          "coffee",
          "coffee",
          "coffee",
          "coffee",
          "coffee",
          "coffee",
          "coffee",
          "coffee",
          "coffee",
          "coffee",
          "coffee",
          "coffee",
          "coffee",
          "coffee",
          "coffee",
          "coffee",
          "coffee",
          "coffee",
          "coffee",
          "coffee",
          "coffee",
          "coffee",
          "coffee",
          "coffee",
          "coffee",
          "coffee",
          "coffee",
          "coffee",
          "coffee",
          "coffee",
          "coffee",
          "coffee",
          "coffee",
          "coffee",
          "coffee",
          "coffee",
          "coffee",
          "coffee"
         ],
         "xaxis": "x",
         "y": [
          202.9355362,
          226.6555374,
          263.9642476,
          242.8640342,
          262.7173405,
          251.0549998,
          271.3248604,
          241.9741949,
          230.4462359,
          221.2091958,
          264.6148697,
          250.0832336,
          284.4364567,
          185.2773389,
          209.5869708,
          231.0863347,
          276.65524589999995,
          206.2611855,
          224.55501690000003,
          291.2986618000001,
          185.4974732,
          231.3843163,
          213.3560921,
          233.1075816,
          224.0581164,
          257.0038865,
          271.35861370000003,
          260.2634026,
          240.0810647,
          197.9791215,
          272.2017204,
          200.0882787,
          224.67572310000003,
          270.4417274,
          233.1321372,
          193.3473987,
          272.29990560000005,
          285.2493645,
          298.40184710000005,
          257.0343554,
          248.7183228,
          209.9001977,
          200.834898,
          298.5601175,
          265.5355937,
          183.6793207,
          196.95600080000003,
          233.0453455,
          210.8142087,
          253.7202781,
          219.9048349,
          208.5810155,
          195.0948311,
          227.3637009,
          286.5083725,
          283.9338466,
          217.3788583,
          267.97619480000003,
          191.9535738,
          277.9626192,
          245.1511304,
          245.6626799,
          279.5451717,
          202.3838319,
          263.6372176,
          182.5616319,
          198.6730942,
          243.5120414,
          263.1103304,
          269.5039162,
          204.8001847,
          260.8875056,
          295.6094492000001,
          192.3197536,
          257.4914906,
          278.0791793,
          280.4044392,
          185.9461429,
          194.5766559,
          200.9133156,
          182.9043504,
          195.3574542,
          223.3671883,
          186.7536773,
          220.1156708,
          231.7364957,
          242.3170629,
          182.6549356,
          233.7034975,
          230.22422230000004,
          290.67937830000005,
          241.20135130000003,
          218.9163567,
          248.2256491,
          256.9964761,
          194.2651719,
          295.9248796,
          287.5766935000001,
          183.6222657,
          188.413665,
          87.75953857,
          102.2662445,
          66.71995467,
          60.65171481,
          65.43835393,
          102.0861694,
          105.4654703,
          78.06639649,
          65.27798457,
          109.2162279,
          94.29712821,
          74.05474936,
          63.87020584,
          94.76189431,
          72.12375573,
          63.72358154,
          104.1626147,
          76.68456006,
          65.49730729,
          84.23613484,
          79.74078719,
          88.07753741,
          80.97573281,
          79.75328959999999,
          74.51490791,
          96.46380213,
          102.8301942,
          102.4852929,
          70.43473609,
          108.8303762,
          65.88951188,
          90.988051,
          64.40866039,
          63.03843397,
          87.9298085,
          107.4931917,
          60.95197486,
          109.7515385,
          91.76337172,
          94.26249353,
          71.07562236,
          76.72860067,
          69.21803098,
          101.7004306,
          106.6213157,
          66.29390357,
          91.26056654,
          109.024141,
          99.57981207,
          71.3195307,
          78.34604471,
          88.45361858,
          62.50351892,
          76.41312437,
          107.3198135,
          100.7689246,
          107.2681929,
          101.5952794,
          80.72515943,
          83.73280082,
          89.96220140000001,
          88.10234397,
          64.77791424,
          73.33636055,
          83.21030571,
          103.651438,
          84.22969177,
          96.59195302,
          67.96704792,
          83.20711308,
          87.85092352,
          95.71388473,
          67.61013737,
          97.59081274,
          64.23845455,
          75.82270467,
          88.17251033,
          104.2321615,
          67.10225139,
          67.72777298,
          103.2234212,
          107.2361366,
          75.03247667,
          78.16077693,
          105.0083144,
          62.49190812,
          107.9124111,
          74.52082026,
          62.91359494,
          69.93293255,
          108.5054416,
          78.96159541,
          79.84925393,
          93.62039175,
          85.75692395,
          82.34162918,
          108.7603001,
          70.23401597,
          65.50861389,
          98.73771338,
          88.55123143,
          79.92698081,
          68.54932919,
          88.51048983,
          79.26357665,
          92.68373702,
          74.6631118,
          82.61734721,
          81.84997529,
          81.98568791,
          93.55280105,
          74.58565097,
          78.96514709,
          80.7108745,
          70.18185181,
          71.58010169,
          73.50734019,
          82.52339655,
          66.96980581,
          90.46228334,
          71.31007253,
          85.74904898,
          89.31050665,
          85.52950164,
          72.94940441,
          72.32667516,
          74.87445574,
          94.70992037,
          83.74606679,
          78.92060234,
          83.75937135,
          76.57580954,
          91.76071648,
          76.32470713,
          89.73119396,
          93.35034262,
          81.20176515,
          81.70769297,
          83.74879344,
          77.54294240000002,
          77.92798682,
          82.2545577,
          70.52056697,
          72.78624223,
          85.24819851,
          85.37378769,
          75.6317566,
          89.61857826,
          75.49101167,
          86.05078037,
          80.25064637,
          78.26039559,
          75.57790384,
          72.9446671,
          90.7760707,
          77.81891424,
          78.06910795,
          85.57925437,
          69.40619137,
          76.32565249,
          80.6405403,
          80.11133840000002,
          91.94595352,
          87.51312796,
          94.00287214,
          88.4585692,
          84.78344008,
          68.97806542,
          88.68168643,
          65.23811143,
          65.78042032,
          74.63872762,
          82.69766829,
          69.64449182,
          87.27444866,
          70.87150577,
          92.06630306,
          79.20509212,
          68.81405149,
          72.85017344,
          79.45758333,
          65.11365631,
          80.4986291,
          73.64476535,
          81.52842690000001,
          88.6810311,
          68.4951189,
          78.44910564,
          77.33795356,
          94.78189594,
          94.03659867,
          78.69707199,
          69.15759062,
          90.82097601,
          76.77888672,
          67.9545435,
          73.0926704,
          69.09512477,
          89.60982451,
          81.78710463,
          128.256862,
          106.3598183,
          109.225556,
          140.3717815,
          76.64128258,
          143.09841709999995,
          60.91974792,
          104.7783947,
          132.9801054,
          130.0608093,
          143.7630894,
          87.99669731,
          144.1567454,
          134.3649948,
          88.06638775,
          69.63833855,
          116.5206923,
          86.21917578,
          137.1948633,
          108.3684316,
          67.71768947,
          144.7902323,
          69.44951585,
          121.9401369,
          82.68554379,
          139.7521543,
          108.3441414,
          96.77285817,
          100.6711761,
          87.05132890000002,
          64.19497947,
          105.4120514,
          61.13872036,
          106.158201,
          139.0302034,
          122.3886015,
          129.5650601,
          120.4509288,
          95.17028129,
          96.65888933,
          87.87869161,
          138.2362122,
          120.6913038,
          107.3850593,
          108.6434544,
          109.0193712,
          95.84253438,
          60.27552528,
          100.0497183,
          125.0972687,
          113.334026,
          103.2926407,
          75.45328039,
          62.21292186,
          98.77794225,
          107.6907964,
          63.38208822,
          87.66898664,
          138.414764,
          94.9533526,
          107.7315386,
          104.6252153,
          141.6056722,
          62.7089169,
          135.3315583,
          125.084915,
          107.4137246,
          63.59276673,
          146.4727237,
          119.6404412,
          126.7265372,
          134.1811718,
          135.33780330000002,
          100.118612,
          68.51253427,
          66.97053257,
          69.14681022,
          88.88796102,
          81.83420522,
          109.1013261,
          81.60211243,
          112.6616435,
          143.85849380000005,
          146.4548645,
          116.7324324,
          149.7441028,
          124.6118471,
          115.199245,
          84.64143632,
          129.3449326,
          130.3900798,
          80.15293435,
          64.02640797,
          139.2921004,
          76.14153904,
          73.36386477,
          100.5978728,
          84.06354115,
          133.1914419,
          104.2570723,
          122.6539694,
          163.7266551,
          103.3301803,
          142.33036769999995,
          184.6226709,
          149.299952,
          147.03614419999997,
          198.8298806,
          90.05422663,
          127.7767134,
          108.6333046,
          176.6165894,
          96.36222901,
          122.0146733,
          120.7435664,
          96.51524028,
          180.382234,
          107.4721605,
          161.48129630000005,
          121.5639121,
          194.5921148,
          179.2155874,
          192.4372194,
          114.2821387,
          139.64833169999997,
          132.7748215,
          186.5008581,
          157.0858232,
          139.6702541,
          177.3377996,
          94.46748008,
          161.7820226,
          108.5090168,
          150.87122019999995,
          168.5948318,
          197.3752649,
          91.72084869,
          180.716828,
          93.12330644,
          116.9106908,
          159.2649827,
          187.8961851,
          129.0064612,
          147.0414824,
          163.27474730000003,
          91.31256412,
          195.5697875,
          170.99198280000005,
          145.3728801,
          136.0456753,
          173.1686574,
          176.4134092,
          129.20286529999998,
          126.6738117,
          188.4928637,
          191.0658531,
          162.59277230000004,
          160.33374469999995,
          100.546816,
          105.03802749999998,
          192.3023991,
          148.25027859999997,
          197.1144011,
          118.3606557,
          100.4673278,
          191.0895109,
          195.787103,
          182.2688175,
          159.8938645,
          141.12507219999995,
          100.7791633,
          175.9303271,
          139.8710041,
          189.5208915,
          137.22796619999997,
          134.8596466,
          174.5723999,
          101.6073988,
          153.2504506,
          177.5764304,
          91.95792434,
          162.5931264,
          155.3705624,
          165.4113371,
          180.9009998,
          136.82743119999998,
          159.689339,
          178.8998611,
          165.40535400000005,
          109.1821183,
          185.2039114,
          149.063196,
          180.6465282,
          96.74706956,
          124.6028153,
          198.1403003,
          172.40168,
          186.9226052,
          173.11069819999997,
          122.4564203,
          32.67891866,
          36.5037914,
          36.92629678,
          72.98016599,
          32.05025323,
          71.6266696,
          73.44775287,
          66.35634104,
          36.94255012,
          61.32935611,
          53.56783314,
          67.43488235,
          44.94317432,
          34.96933295,
          74.44330654,
          53.39249517,
          68.04039813,
          45.78172762,
          74.32635105,
          32.76742894,
          35.1051197,
          72.66666443,
          48.25207759,
          40.89732789,
          32.55919573,
          31.87416982,
          53.1205277,
          62.74803826,
          46.19374559,
          41.53749535,
          58.99536268,
          41.0550915,
          33.84110759,
          55.50429227,
          57.02891698,
          44.11622138,
          42.24783476,
          66.1761456,
          72.19245835,
          55.053805,
          65.07981523,
          38.48678973,
          62.20279647,
          70.79934452,
          64.16167699,
          31.83192392,
          50.28438729,
          58.27600682,
          36.99362831,
          64.25520357,
          55.60523179,
          48.46797044,
          70.4713043,
          34.03335472,
          68.54877876,
          52.0810886,
          57.04826619,
          63.77192383,
          60.74583498,
          71.12710390000002,
          64.53027638,
          40.85534718,
          69.66289997,
          61.86633917,
          64.58559639,
          44.13827124,
          35.73403813,
          33.95825723,
          71.90018566,
          38.34303462,
          59.18953429,
          36.91852635,
          52.13580529,
          55.21606732,
          40.82840673,
          36.01203025,
          34.7426459,
          53.78769958,
          46.0203959,
          52.92929636,
          45.43669946,
          68.80141783,
          43.87801983,
          64.56807592,
          38.31597852,
          50.1978269,
          44.86052932,
          55.51932414,
          35.37493212,
          30.92014047,
          32.71129281,
          33.48919022,
          47.95406479,
          35.03404425,
          65.67591794,
          42.44054315,
          70.10472076,
          63.9187654,
          38.53254678,
          32.81296548,
          54.73367631,
          38.7976407,
          55.296354,
          36.35720652,
          44.75215854,
          42.99498978,
          56.48265193,
          53.01899249,
          41.82490236,
          46.75690086,
          59.87232071,
          44.64407105,
          44.01206619,
          45.91011391,
          37.54602719,
          40.77872823,
          42.83053902,
          51.52617423,
          49.11964582,
          57.65901369,
          43.1386631,
          48.54598575,
          56.76278363,
          37.31236904,
          56.51103293,
          37.01110438,
          50.47333854,
          57.79863368,
          44.56598352,
          56.68833819,
          59.87065439,
          48.48319335,
          48.56690235,
          43.80041104,
          36.94616965,
          53.43228915,
          50.49913241,
          45.04467075,
          58.37249772,
          40.12044158,
          51.09802625,
          58.86687093,
          56.04995423,
          58.41394143,
          54.96121262,
          49.61865305,
          52.84626009,
          55.03723979,
          54.62243308,
          59.03629954,
          52.93031105,
          56.52558045,
          53.15223123,
          50.46746116,
          39.23831035,
          44.17580911,
          45.48591922,
          56.09542002,
          41.39081525,
          57.99524359,
          43.15411472,
          50.91511275,
          43.78420984,
          49.50812624,
          36.45012824,
          37.45680611,
          53.79732545,
          37.44800463,
          54.7960127,
          40.53173216,
          50.9246554,
          56.01913159,
          58.18713162,
          48.9366954,
          42.02483277,
          43.05130077,
          39.26137642,
          50.01534317,
          51.53848218,
          53.35486977,
          36.12042927,
          38.14476781,
          40.16545979,
          50.66487502,
          43.95183726,
          58.29933073,
          43.25095608,
          44.47427436,
          59.84499208,
          43.4826194,
          49.4897245,
          48.30159325,
          41.013132,
          43.12063289,
          44.30070517,
          58.52974279,
          43.25726752,
          37.2464655,
          56.12443206,
          52.55469976,
          71.89090748,
          67.15096376,
          70.23207557,
          73.23573601,
          72.49507741,
          62.26242533,
          66.85510868,
          68.02199825,
          73.67166182,
          73.84949872,
          69.28607828,
          64.55882254,
          67.53021213,
          66.63830637,
          70.86340755,
          67.1367443,
          68.97097538,
          69.75555541,
          71.50569456,
          61.91208707,
          74.01229707,
          74.91559514,
          71.78615328,
          63.02473185,
          61.19250859,
          65.62859526,
          63.49726331,
          65.81655892,
          70.1415139,
          74.61649888,
          65.82045699999999,
          69.24464096,
          70.88787207,
          61.46892873,
          64.72797143,
          62.3061735,
          69.85112265,
          73.58663968,
          66.37171179,
          74.86960831,
          65.66436565,
          60.4693835,
          72.43169115,
          63.57445989,
          70.25496749,
          71.48327008,
          63.1830529,
          70.27184748,
          60.41790253,
          72.17818157,
          67.83345933,
          70.0866434,
          69.40878198,
          62.30278274,
          61.16350463,
          71.72980375,
          69.43895491,
          68.91754359,
          63.85668948,
          61.71111448,
          67.47677295,
          65.24194361,
          74.24459122,
          69.5274407,
          71.36947525,
          68.64685069,
          73.44678678,
          67.32520551,
          73.40452716,
          69.46020927,
          74.62068748,
          71.21006868,
          64.32887142,
          63.29900785,
          69.68862306,
          63.51822045,
          64.11411069,
          63.46546487,
          63.02169909,
          72.50669768,
          70.40795007,
          62.78730907,
          73.37686831,
          62.31842057,
          62.2737345,
          64.42177127,
          68.83924882,
          71.16331975,
          65.45328463,
          74.22238583,
          71.64631281,
          62.83469851,
          66.47264636,
          66.69096751,
          74.16699119,
          64.89517488,
          64.77651469,
          68.56507978,
          61.83876146,
          63.37784443,
          43.35795377,
          46.83130119,
          46.80452595,
          46.6352865,
          46.13833007,
          53.46622584,
          50.89110726,
          50.90994463,
          36.46946971,
          35.15426171,
          49.14337177,
          52.55730112,
          42.96018627,
          49.02366803,
          41.78219834,
          38.71834464,
          49.78102578,
          51.92057267,
          54.93937710000001,
          50.89732989,
          44.93261911,
          49.39111479,
          44.43177543,
          48.77790371,
          40.37113729,
          47.89645224,
          46.05333124,
          54.49044154,
          49.04015558,
          53.14531023,
          48.60449438,
          53.13946695,
          45.42616802,
          44.07819743,
          49.37369982,
          41.02682925,
          44.08562546,
          49.47371773,
          45.36521251,
          37.81123974,
          48.80253285,
          42.72374404,
          45.40277297,
          52.39881209,
          49.73922097,
          38.30411077,
          35.75107592,
          44.95654782,
          48.33941188,
          35.03484812,
          44.23629285,
          36.18678721,
          50.43306085,
          54.37814199,
          47.26052494,
          38.21370568,
          35.36831423,
          37.11395801,
          37.15824966,
          48.28137482,
          53.40906048,
          42.89509057,
          41.7704893,
          35.69674138,
          48.06491307,
          45.49683991,
          53.31508572,
          39.18374505,
          42.19740397,
          37.46160727,
          51.54922825,
          50.6128521,
          46.90725077,
          49.55213308,
          41.45486619,
          36.68284038,
          39.00992137,
          52.50812701,
          47.01510708,
          42.87274897,
          53.04669416,
          46.48280681,
          49.94043064,
          36.5011366,
          50.17067771,
          46.62370222,
          53.12442925,
          44.23913012,
          41.61080544,
          36.10211371,
          51.02372773,
          51.56461082,
          45.20841071,
          46.10585191,
          47.9271552,
          52.60285259,
          38.07659414,
          40.8106299,
          53.10207889,
          40.74536757,
          111.9684622,
          108.0458926,
          102.5184759,
          110.2316633,
          109.3905998,
          109.4169192,
          104.8955643,
          106.9659201,
          108.0423555,
          109.3930157,
          104.7693804,
          105.7595811,
          108.3168858,
          104.5375109,
          107.6836871,
          108.5468633,
          104.8216333,
          102.8593382,
          108.0756727,
          105.64999070000002,
          111.6631582,
          112.4349689,
          107.3416913,
          105.1834976,
          111.2818551,
          109.0946323,
          102.8013275,
          106.8704803,
          108.4758509,
          102.860084,
          103.1969341,
          111.0196744,
          104.3739878,
          111.28005159999998,
          104.0277061,
          108.22872759999998,
          111.2232716,
          103.8799347,
          104.6735454,
          111.2787584,
          108.065579,
          104.7847006,
          109.8695196,
          110.9653137,
          106.9216033,
          109.2853418,
          106.0380805,
          112.459697,
          110.2437841,
          106.2817706,
          107.1951707,
          105.2240743,
          107.5660804,
          109.66239740000002,
          103.3183074,
          110.4606459,
          102.5538035,
          111.0217929,
          106.3602023,
          104.617522,
          104.991282,
          103.0295938,
          109.4429934,
          106.8685636,
          111.3779693,
          105.6209954,
          110.9633894,
          110.6956184,
          103.7084055,
          102.6488846,
          110.4432293,
          104.6843243,
          111.1382096,
          105.4766591,
          108.6793978,
          105.529185,
          112.1926517,
          111.71620159999998,
          107.6435771,
          104.88188999999998,
          109.2537734,
          105.6917856,
          106.61905,
          106.1606833,
          110.5764023,
          107.6103211,
          112.4750941,
          109.0357597,
          109.91309840000002,
          103.6012114,
          106.977723,
          110.0932899,
          106.128338,
          104.4407083,
          107.0050976,
          112.337046,
          102.8186358,
          106.2784673,
          109.8076178,
          108.3121789,
          92.82840911,
          101.0494791,
          104.9378,
          90.10978128,
          113.2297373,
          114.5357503,
          97.32531705,
          99.34482238,
          113.8729798,
          100.0075679,
          98.75084366,
          100.1692639,
          118.2761894,
          99.72430835,
          108.3957179,
          98.66679427,
          119.84797,
          108.66464,
          102.7867717,
          116.1616839,
          118.6858263,
          98.21747528,
          91.46442491,
          105.0776992,
          112.0700033,
          92.07835761,
          90.66727868,
          93.10247183,
          98.16752001,
          109.5408614,
          117.2878912,
          94.31102057,
          119.218154,
          102.4633775,
          109.575944,
          91.34276507,
          112.9794804,
          112.0777152,
          118.6730366,
          117.536781,
          107.3944717,
          116.5531455,
          112.3982055,
          110.3262123,
          110.2511102,
          110.4408803,
          116.3019555,
          119.08561709999998,
          108.8547508,
          118.2583441,
          91.40508414,
          95.12322062,
          109.9825551,
          102.2099836,
          109.022564,
          117.229079,
          112.1355384,
          111.0162259,
          99.20961514,
          115.8586081,
          119.695765,
          110.10323,
          109.2768851,
          109.2486647,
          108.8616474,
          110.1331182,
          104.4812858,
          90.43495443,
          119.4765557,
          118.99235729999998,
          90.94554618,
          114.2005455,
          91.06493353,
          96.45042585,
          113.1161095,
          92.78133617,
          94.32961456,
          91.73358569,
          100.6619171,
          98.00403016,
          103.5045395,
          95.83016448,
          97.55986676,
          94.68180316,
          90.45142867,
          90.24211529,
          96.47800391,
          111.0843029,
          100.5123341,
          99.46950465,
          105.4220251,
          91.99964712,
          109.0921631,
          108.3690513,
          108.5501443,
          90.81250457,
          103.7040783,
          94.37987496,
          92.15524332,
          98.12565829,
          90.09586854,
          98.67527561,
          95.85118326,
          95.70525913,
          92.19721736,
          98.00687989,
          97.72843182,
          93.75441586,
          95.3713484,
          98.46768642,
          94.11213345,
          97.31258083,
          99.35408185,
          89.85646496,
          91.87312479,
          94.42850522,
          91.55845821,
          97.41054011,
          95.74606104,
          98.33351125,
          99.9834242,
          99.61465679,
          94.62954663,
          98.63333684,
          97.01331604,
          90.28624348,
          90.65022183,
          91.82271568,
          90.82549241,
          92.09609766,
          100.2585673,
          92.99739415,
          100.2160615,
          98.81596545,
          98.00644238,
          91.67241761,
          95.99487068,
          97.38741498,
          95.8445641,
          100.8124659,
          90.21633216,
          90.14047759,
          97.41586402,
          93.36718816,
          97.76832322,
          95.257992,
          92.37238878,
          91.63074547,
          92.26439205,
          96.27792547,
          94.49161372,
          90.29643888,
          90.40332704,
          90.89173106,
          95.23444287,
          100.7586226,
          96.59816497,
          99.642454,
          97.55155537,
          90.40260445,
          92.84991507,
          93.30247448,
          92.21318555,
          94.76322976,
          98.28583013,
          91.01152997,
          91.09745581,
          91.405983,
          89.78216168,
          97.51952041,
          89.98024312,
          95.94035356,
          95.89898581,
          100.3060719,
          89.74409017,
          97.4611918,
          91.46664318,
          89.59371481,
          95.04871605,
          97.79072474,
          93.53197359,
          91.77522598,
          96.23520043,
          96.63721027,
          96.38808001,
          98.05089394,
          91.22881052,
          98.57025046,
          90.38503469,
          96.08745082,
          94.67344737,
          89.29147581,
          97.45373619,
          91.54560427,
          95.8946444,
          93.17221967,
          100.7720705,
          93.92375879,
          91.88766069,
          91.10190759,
          67.12534492,
          68.38135469,
          68.73932528,
          66.83872293,
          65.34440794,
          70.39906054,
          66.76285469,
          69.63122027,
          66.77844567,
          73.88467027,
          74.91506217,
          66.02765219,
          68.06417307,
          65.84748763,
          67.235765,
          73.02882766,
          68.23963161,
          71.40654520000002,
          69.66256816,
          65.52279323,
          72.24230804,
          66.93065667,
          69.17281221,
          70.08200379,
          69.75734306,
          68.66813363,
          73.23901752,
          67.10439401,
          65.70148216,
          69.30772897,
          74.53557341,
          73.28712806,
          66.53946559,
          66.38448261,
          68.69420397,
          71.55665483,
          71.06611222,
          73.01026829,
          67.92204319,
          65.06962486,
          71.18289431,
          67.03840888,
          74.40198861,
          65.3973168,
          65.70430027,
          71.43001582,
          73.34232097,
          68.68895899,
          70.95666003,
          74.62834921,
          67.39173790000001,
          65.01095312,
          71.29813872,
          66.13442813,
          65.29821120000001,
          71.63437433,
          71.60102999,
          73.55807954,
          67.15094741,
          65.90227462,
          70.68098614,
          67.27398640000001,
          74.03030056,
          74.10225057,
          65.80006004,
          73.67984885,
          66.05911698,
          69.706113,
          66.48490371,
          74.08101744,
          69.8671263,
          69.81855775,
          74.82144653,
          69.39630398,
          69.30927185,
          74.19664838,
          72.37127689,
          68.8503047,
          71.03001556,
          69.92107482,
          69.71518491,
          73.69529586,
          66.57462809,
          69.27779761,
          66.83113717,
          70.31782647,
          74.10919422,
          73.06862952,
          66.34234944,
          73.77063744,
          70.75633584,
          74.46411148,
          69.92092839,
          69.44115171,
          71.40043037,
          68.42802444,
          66.70016285,
          70.42508897,
          66.5964488,
          66.00817551,
          53.65742581,
          46.87420883,
          57.04147057,
          57.95826144,
          41.87540028,
          49.11618732,
          57.79652846,
          59.46338556,
          54.60159289,
          44.07843475,
          57.72799157,
          53.78929956,
          57.57343233,
          40.794305,
          43.08961827,
          44.22066914,
          57.74091817,
          57.44942094,
          58.79889057,
          44.20656987,
          59.65590798,
          49.48575692,
          56.45229202,
          40.12650421,
          46.05122728,
          46.85176955,
          48.32113628,
          57.23028471,
          55.29563514,
          48.45978627,
          48.01138482,
          54.82963379,
          57.26773002,
          51.19470197,
          49.43050977,
          53.33484977,
          44.3993381,
          54.30660782,
          46.06193778,
          48.47833278,
          56.47941847,
          43.52897517,
          42.10681516,
          57.40847165,
          51.75212401,
          57.05709413,
          58.48160844,
          55.74073582,
          55.49541453,
          49.29456609,
          49.08553937,
          50.55710813,
          54.65423596,
          51.70497792,
          48.11248366,
          51.26046418,
          48.58241822,
          54.22722466,
          56.39962921,
          51.70699144,
          56.34144589,
          44.63907691,
          46.06382209,
          45.24690619,
          40.32161859,
          44.20899581,
          54.76576239999999,
          48.31219031,
          53.14626213,
          49.52320689,
          58.97878791,
          46.59207341,
          59.67927244,
          42.91292205,
          59.75980023,
          41.16554802,
          51.51033554,
          47.81847573,
          50.78669728,
          40.228644,
          43.87712348,
          48.75859458,
          44.2068997,
          57.51549686,
          40.71210074,
          59.26519444,
          54.38748495,
          46.76837499,
          47.46447019,
          56.72496677,
          48.99390828,
          42.00660251,
          54.49960057,
          56.31866159,
          47.72078245,
          58.28697664,
          48.32428609,
          41.53218699,
          43.97193745,
          58.54876687,
          28.08253201,
          26.32405487,
          22.52497327,
          20.76223014,
          28.16057247,
          26.26243014,
          21.30290472,
          25.93496537,
          25.21609113,
          26.23838511,
          29.86681385,
          29.1194739,
          25.33014238,
          21.08484101,
          21.58992507,
          20.88620369,
          26.83924845,
          21.26034986,
          26.70581328,
          29.1102594,
          28.78654515,
          23.66620626,
          27.56918621,
          27.95602304,
          20.36001144,
          24.52020164,
          23.69586761,
          22.68766503,
          22.81863447,
          28.70627683,
          26.52364146,
          23.44398467,
          23.56130173,
          29.44008034,
          28.69113835,
          25.37828397,
          21.7508774,
          28.36535596,
          23.28207838,
          25.1290048,
          26.51924782,
          26.47844429,
          24.93861254,
          21.19014526,
          20.21126747,
          22.21807088,
          20.49035619,
          21.9653077,
          25.16359891,
          23.49535234,
          27.27899847,
          26.30820876,
          26.85422624,
          21.90440445,
          20.66127836,
          20.76212031,
          28.94766949,
          26.01909355,
          28.75226067,
          24.4514648,
          25.09484511,
          22.84203589,
          24.34814338,
          20.39020503,
          21.17924769,
          21.0000988,
          22.06207161,
          27.8659442,
          27.598717800000006,
          26.0365768,
          21.01796432,
          21.84869328,
          24.15591199,
          26.88372572,
          25.32159689,
          21.61893763,
          24.05207925,
          22.25838137,
          24.44267592,
          22.06994464,
          21.44532907,
          28.83568362,
          29.11187663,
          23.20076686,
          23.28618248,
          24.84266123,
          24.69720481,
          27.26588346,
          26.48240255,
          27.14509034,
          20.76582087,
          27.21244021,
          28.22908103,
          28.98574189,
          25.08146686,
          21.13545688,
          24.20007242,
          23.0362503,
          23.65747461,
          24.7458198,
          110.4317855,
          114.0512495,
          116.0396587,
          122.233323,
          116.07779309999998,
          117.7296726,
          105.5473627,
          121.1349176,
          117.0761277,
          112.66765890000002,
          106.1417017,
          123.5977843,
          108.183792,
          105.3558408,
          104.2298028,
          102.2648546,
          104.4267991,
          108.3405879,
          114.8407725,
          104.64729859999998,
          107.8737015,
          121.4977331,
          109.8852597,
          115.1781396,
          119.1025189,
          109.06584709999998,
          105.6941544,
          107.855225,
          102.8017203,
          104.5086618,
          107.17281909999998,
          108.62118329999998,
          122.1952483,
          104.5412275,
          101.8474768,
          124.3915101,
          116.7366261,
          120.1593771,
          107.1843273,
          120.4359949,
          112.3126628,
          123.5900822,
          105.0241329,
          102.8045658,
          124.9831618,
          117.6102915,
          120.05866709999998,
          100.6192543,
          121.8961665,
          112.8954016,
          113.0688155,
          107.9868949,
          111.7763395,
          114.7399101,
          124.2179699,
          105.0508234,
          105.4004751,
          100.9343903,
          109.5966791,
          116.6912176,
          118.3979065,
          117.53140259999998,
          109.5852253,
          103.6838922,
          103.0548094,
          114.7412734,
          116.9256766,
          116.7036582,
          109.3383552,
          115.4789148,
          115.3830068,
          107.7697413,
          105.8554351,
          104.9116663,
          122.1449949,
          121.6622761,
          118.6044645,
          108.2166601,
          121.6961761,
          102.5565807,
          122.5391946,
          107.0289866,
          117.6602827,
          100.825956,
          112.9203223,
          123.6495149,
          118.68327250000002,
          113.7759219,
          113.9760462,
          110.712841,
          102.7230739,
          116.7431319,
          122.7418744,
          113.0381382,
          110.9804014,
          119.6335548,
          100.1173443,
          120.6310784,
          115.3611268,
          124.4683112,
          119.035002,
          101.2847738,
          111.2266885,
          114.6659511,
          111.1727497,
          114.1339416,
          112.5424199,
          114.41617859999998,
          106.0711985,
          102.6958703,
          118.4901697,
          117.36952959999998,
          109.6894658,
          100.1961762,
          116.3796525,
          111.78037340000002,
          103.5684926,
          102.835632,
          103.923226,
          111.2948115,
          101.4705704,
          116.450422,
          105.2132259,
          110.3332655,
          110.6823944,
          115.7659902,
          117.3688104,
          115.56837759999998,
          110.22231229999998,
          119.1709113,
          113.3302105,
          116.7173125,
          108.4161706,
          119.3941064,
          116.5084074,
          116.8130969,
          106.8118019,
          119.6946577,
          112.9834361,
          117.5293447,
          103.5771468,
          109.8585753,
          119.3936976,
          112.7194284,
          102.1906333,
          115.9787989,
          107.9873218,
          101.5164589,
          100.1967854,
          108.82891709999998,
          104.4224145,
          115.3560318,
          102.4550786,
          112.50905159999998,
          109.7571416,
          112.6738296,
          102.944161,
          109.4711098,
          105.3437825,
          109.1549823,
          111.7793889,
          107.4142681,
          118.0069295,
          106.2944879,
          111.83919509999998,
          106.2696156,
          117.6236473,
          109.7513927,
          113.1169398,
          116.7555937,
          110.6857506,
          119.39167179999998,
          106.060149,
          112.7715925,
          117.9733424,
          104.7052254,
          108.0638166,
          106.69552040000002,
          108.0054343,
          100.1737964,
          101.1456947,
          101.139435,
          115.5650287,
          113.25373,
          106.362551,
          101.4819888,
          110.0447896,
          109.9455062,
          117.1311498,
          115.1989301,
          100.7896871,
          108.0230792,
          107.4287664,
          116.8020848,
          118.32719679999998,
          113.328978,
          114.3117197,
          113.9995146,
          107.0862095,
          103.2005992,
          243.0745066,
          88.46607497,
          119.2653877,
          235.6133585,
          196.2408242,
          203.4044028,
          197.5282582,
          191.7760562,
          202.0572747,
          186.6762324,
          197.402901,
          47.271547,
          232.7046126,
          63.62250788,
          141.1736926,
          172.47880619999995,
          77.71566883,
          78.85085502,
          149.91075569999995,
          105.8841531,
          51.07048113,
          62.62377075,
          110.562229,
          238.5008779,
          132.7923586,
          206.3999208,
          248.8592986,
          127.2509777,
          120.9512466,
          122.7628653,
          64.4478499,
          40.35153141,
          209.8678411,
          59.49373381,
          117.8201907,
          98.54047745,
          182.026807,
          207.0735119,
          74.876786,
          218.2299187,
          179.27208069999998,
          183.49095,
          78.80996390000001,
          103.8235658,
          165.7412972,
          136.8277041,
          48.83810592,
          199.3096432,
          214.41038480000003,
          63.68794608,
          211.8529059,
          209.4083305,
          181.527598,
          97.26336657,
          163.9069365,
          63.35298768,
          54.01872359,
          79.27201575,
          246.36132680000003,
          231.5153161,
          135.16945249999998,
          114.778071,
          144.66564440000005,
          75.95295,
          115.8163936,
          71.73759526,
          41.5856585,
          75.24521981,
          87.53393983,
          141.3381168,
          82.83061083,
          149.8488208,
          161.68920930000004,
          88.1300769,
          172.3458448,
          218.142147,
          93.7942847,
          210.2735346,
          234.8466111,
          52.95477913,
          159.6577388,
          62.68710535,
          174.40123369999995,
          241.8202079,
          240.4795923,
          126.8069869,
          92.11877372,
          234.496633,
          46.44279118,
          62.50689682,
          108.4103158,
          218.09088140000003,
          104.4218596,
          240.6863901,
          54.77830202,
          149.1199989,
          102.2708231,
          239.7427554,
          188.5181422,
          208.3357976,
          224.5903664,
          224.3206759,
          151.0761899,
          179.8248944,
          181.6942283,
          184.7624496,
          150.9502632,
          147.8888994,
          178.8116076,
          189.67113490000003,
          145.54144130000003,
          198.8234862,
          144.3331315,
          157.91715369999997,
          215.9195049,
          204.7206567,
          199.7936345,
          172.0540491,
          218.0055713,
          157.2388553,
          171.7575545,
          172.48136409999995,
          156.6732553,
          205.5463111,
          150.05003119999995,
          171.6262299,
          142.9403233,
          178.9635457,
          209.84539930000005,
          149.2433497,
          132.1491176,
          134.84190690000003,
          194.9022136,
          171.9457959,
          204.9603677,
          160.73069909999995,
          218.5241851,
          218.080385,
          208.1181381,
          194.3100272,
          145.41723869999996,
          160.389421,
          156.76508230000005,
          165.8092179,
          192.7678575,
          150.2012138,
          144.6261698,
          174.796583,
          211.2506267,
          224.70069530000004,
          135.4186222,
          162.8432736,
          131.24514140000002,
          145.0583117,
          199.8778403,
          214.4128874,
          145.9298935,
          171.65163959999995,
          131.2116167,
          222.803013,
          157.7592626,
          141.3220576,
          205.5720367,
          131.09000759999998,
          201.8258633,
          224.4016682,
          191.006688,
          215.1968037,
          212.867626,
          167.0470997,
          142.1430003,
          147.16824590000004,
          148.8398374,
          134.1279669,
          192.9036306,
          191.2996157,
          134.83703480000003,
          143.533473,
          178.7297725,
          144.15711090000005,
          182.4482352,
          224.83157290000003,
          148.30036919999995,
          195.4115025,
          209.540094,
          164.9182225,
          213.9011021,
          131.3387935,
          135.1272491,
          174.62564809999995,
          154.06212209999995,
          165.82487319999996,
          225.6323656,
          188.9252083,
          221.2258168,
          203.9283708,
          191.7723087,
          149.2220255,
          152.42387119999995,
          166.5712879,
          90.8022356,
          71.29581071,
          90.75616738,
          89.76050416,
          88.43618918,
          78.58494391,
          96.32600992,
          64.23026638,
          72.49800885,
          71.94608134,
          71.84080724,
          79.81328183,
          69.91563467,
          89.799462,
          90.94342484,
          64.02949379,
          86.76287924,
          69.08056728,
          86.06411872,
          89.1188212,
          99.36898373,
          78.59595817,
          86.00758678,
          93.46595573,
          95.0191318,
          87.54004943,
          81.49543437,
          67.05961949,
          86.55517751,
          64.61444234,
          71.67870701,
          79.56866268,
          80.36146974,
          97.10087029,
          88.54479121,
          88.94245493,
          90.42224164,
          80.96157332,
          84.63148859,
          61.82980133,
          65.0247867,
          90.41694635,
          81.05902285,
          99.93100821,
          91.9223468,
          75.13617229,
          90.4547185,
          78.82199603,
          80.03995829,
          84.62419032,
          77.55176318,
          86.84998693,
          70.65644296,
          62.64174227,
          66.48339303,
          91.6389565,
          84.12536744,
          98.60457373,
          67.08022574,
          95.4262599,
          83.46532547,
          65.54475812,
          91.39578861,
          66.19426787,
          60.65381719,
          93.51042684,
          70.40557612,
          76.13090645,
          62.51388670000001,
          66.26555904,
          61.94626051,
          72.82902109,
          88.57395505,
          99.75336197,
          90.07326633,
          70.97358303,
          76.88582484,
          74.14169043,
          99.39557151,
          60.79645852,
          90.64770699,
          80.11272117,
          97.76600619,
          85.24963302,
          93.50153555,
          78.58488484,
          67.06459777,
          69.31153566,
          77.03421249,
          71.85436078,
          74.8984994,
          92.23645249,
          69.45072055,
          92.91915074,
          81.15072105,
          74.94136567,
          91.49697481,
          63.88079866,
          76.63669195,
          65.35747011,
          151.8869972,
          161.2469997,
          196.6249511,
          175.60866969999995,
          190.4242157,
          190.5577618,
          185.7446728,
          169.11680280000004,
          182.2685447,
          169.33884650000005,
          150.2498675,
          189.4263485,
          199.83629130000003,
          151.4935635,
          195.8645552,
          164.2697011,
          164.49703730000004,
          191.9649389,
          169.8391177,
          181.2783964,
          153.8990984,
          174.78764109999997,
          173.1017097,
          151.9035477,
          184.9800516,
          197.1220049,
          174.5071843,
          168.7848886,
          183.8270791,
          180.1237765,
          186.2337571,
          150.31661519999997,
          162.2847429,
          199.4766779,
          184.4633281,
          159.5718087,
          167.72306319999996,
          196.6587013,
          166.13658859999995,
          153.63902119999997,
          175.572958,
          197.2101782,
          196.469984,
          166.2160846,
          179.1630865,
          166.6415254,
          150.6326874,
          163.3488091,
          186.6898282,
          176.1516409,
          168.0432282,
          155.3851533,
          193.2418382,
          160.6217342,
          182.2582277,
          152.6194403,
          181.2915605,
          189.9711184,
          177.22330480000005,
          159.92109340000005,
          187.1735424,
          169.4168014,
          188.6372826,
          153.7447398,
          167.0576456,
          192.2316221,
          154.83908469999997,
          185.25947,
          192.4931257,
          176.5268267,
          195.7571622,
          156.3616174,
          157.1215052,
          175.1742112,
          154.8238864,
          153.91998069999997,
          169.92882340000003,
          176.8604109,
          176.103677,
          183.4065252,
          160.0889553,
          171.4892533,
          193.1007598,
          171.4716375,
          157.8548562,
          190.312216,
          152.9801697,
          199.3355744,
          187.3096148,
          180.2513601,
          172.64426540000005,
          193.71418280000003,
          184.7674863,
          193.8778713,
          150.2355238,
          177.5147313,
          154.6608736,
          190.7886386,
          190.9684885,
          159.3223075,
          191.6549412,
          144.68613359999995,
          136.73250919999998,
          147.27578180000003,
          122.2103248,
          139.3670753,
          164.4971875,
          129.8765443,
          122.8392822,
          171.37644619999998,
          140.63052130000003,
          189.0944824,
          165.6872119,
          135.1386537,
          148.98125249999995,
          135.0119649,
          161.8944624,
          175.7260273,
          194.1755471,
          124.2261737,
          195.7733251,
          190.2257843,
          196.2736367,
          148.6977358,
          144.6576424,
          180.5059257,
          192.4280381,
          167.43580749999995,
          191.3980675,
          117.3113562,
          197.6439711,
          119.6324109,
          126.1752206,
          120.6494434,
          191.4508931,
          117.9389993,
          168.26442869999997,
          115.1564012,
          122.6847408,
          176.90209240000004,
          124.4135035,
          148.37712019999995,
          181.6368274,
          153.477776,
          193.7461968,
          190.2440566,
          199.4735636,
          139.8619431,
          133.1120232,
          156.15438980000005,
          139.5013171,
          196.6492664,
          130.6377143,
          130.3797119,
          192.8736822,
          177.816092,
          161.5279095,
          122.4073418,
          168.8383605,
          184.4103931,
          177.31761609999995,
          152.0616227,
          121.5586297,
          156.1457255,
          171.6976946,
          185.1568059,
          163.27087319999995,
          175.3723314,
          147.8035305,
          192.7121236,
          193.5866233,
          115.2325531,
          161.3432535,
          163.62694960000005,
          129.5481144,
          192.4288139,
          136.3027766,
          162.57696059999995,
          171.8839938,
          194.8773479,
          134.6803969,
          158.86088869999998,
          126.8073984,
          137.70440469999997,
          143.9955548,
          156.6810374,
          145.105065,
          142.8610793,
          153.12016440000005,
          186.1728203,
          141.48316440000005,
          181.4170812,
          188.5506536,
          183.468585,
          166.2549307,
          177.7745075,
          127.92461000000002,
          173.32283859999995,
          127.1752928,
          140.9370415
         ],
         "yaxis": "y"
        }
       ],
       "layout": {
        "legend": {
         "tracegroupgap": 0
        },
        "margin": {
         "t": 60
        },
        "template": {
         "data": {
          "bar": [
           {
            "error_x": {
             "color": "#2a3f5f"
            },
            "error_y": {
             "color": "#2a3f5f"
            },
            "marker": {
             "line": {
              "color": "#E5ECF6",
              "width": 0.5
             },
             "pattern": {
              "fillmode": "overlay",
              "size": 10,
              "solidity": 0.2
             }
            },
            "type": "bar"
           }
          ],
          "barpolar": [
           {
            "marker": {
             "line": {
              "color": "#E5ECF6",
              "width": 0.5
             },
             "pattern": {
              "fillmode": "overlay",
              "size": 10,
              "solidity": 0.2
             }
            },
            "type": "barpolar"
           }
          ],
          "carpet": [
           {
            "aaxis": {
             "endlinecolor": "#2a3f5f",
             "gridcolor": "white",
             "linecolor": "white",
             "minorgridcolor": "white",
             "startlinecolor": "#2a3f5f"
            },
            "baxis": {
             "endlinecolor": "#2a3f5f",
             "gridcolor": "white",
             "linecolor": "white",
             "minorgridcolor": "white",
             "startlinecolor": "#2a3f5f"
            },
            "type": "carpet"
           }
          ],
          "choropleth": [
           {
            "colorbar": {
             "outlinewidth": 0,
             "ticks": ""
            },
            "type": "choropleth"
           }
          ],
          "contour": [
           {
            "colorbar": {
             "outlinewidth": 0,
             "ticks": ""
            },
            "colorscale": [
             [
              0,
              "#0d0887"
             ],
             [
              0.1111111111111111,
              "#46039f"
             ],
             [
              0.2222222222222222,
              "#7201a8"
             ],
             [
              0.3333333333333333,
              "#9c179e"
             ],
             [
              0.4444444444444444,
              "#bd3786"
             ],
             [
              0.5555555555555556,
              "#d8576b"
             ],
             [
              0.6666666666666666,
              "#ed7953"
             ],
             [
              0.7777777777777778,
              "#fb9f3a"
             ],
             [
              0.8888888888888888,
              "#fdca26"
             ],
             [
              1,
              "#f0f921"
             ]
            ],
            "type": "contour"
           }
          ],
          "contourcarpet": [
           {
            "colorbar": {
             "outlinewidth": 0,
             "ticks": ""
            },
            "type": "contourcarpet"
           }
          ],
          "heatmap": [
           {
            "colorbar": {
             "outlinewidth": 0,
             "ticks": ""
            },
            "colorscale": [
             [
              0,
              "#0d0887"
             ],
             [
              0.1111111111111111,
              "#46039f"
             ],
             [
              0.2222222222222222,
              "#7201a8"
             ],
             [
              0.3333333333333333,
              "#9c179e"
             ],
             [
              0.4444444444444444,
              "#bd3786"
             ],
             [
              0.5555555555555556,
              "#d8576b"
             ],
             [
              0.6666666666666666,
              "#ed7953"
             ],
             [
              0.7777777777777778,
              "#fb9f3a"
             ],
             [
              0.8888888888888888,
              "#fdca26"
             ],
             [
              1,
              "#f0f921"
             ]
            ],
            "type": "heatmap"
           }
          ],
          "heatmapgl": [
           {
            "colorbar": {
             "outlinewidth": 0,
             "ticks": ""
            },
            "colorscale": [
             [
              0,
              "#0d0887"
             ],
             [
              0.1111111111111111,
              "#46039f"
             ],
             [
              0.2222222222222222,
              "#7201a8"
             ],
             [
              0.3333333333333333,
              "#9c179e"
             ],
             [
              0.4444444444444444,
              "#bd3786"
             ],
             [
              0.5555555555555556,
              "#d8576b"
             ],
             [
              0.6666666666666666,
              "#ed7953"
             ],
             [
              0.7777777777777778,
              "#fb9f3a"
             ],
             [
              0.8888888888888888,
              "#fdca26"
             ],
             [
              1,
              "#f0f921"
             ]
            ],
            "type": "heatmapgl"
           }
          ],
          "histogram": [
           {
            "marker": {
             "pattern": {
              "fillmode": "overlay",
              "size": 10,
              "solidity": 0.2
             }
            },
            "type": "histogram"
           }
          ],
          "histogram2d": [
           {
            "colorbar": {
             "outlinewidth": 0,
             "ticks": ""
            },
            "colorscale": [
             [
              0,
              "#0d0887"
             ],
             [
              0.1111111111111111,
              "#46039f"
             ],
             [
              0.2222222222222222,
              "#7201a8"
             ],
             [
              0.3333333333333333,
              "#9c179e"
             ],
             [
              0.4444444444444444,
              "#bd3786"
             ],
             [
              0.5555555555555556,
              "#d8576b"
             ],
             [
              0.6666666666666666,
              "#ed7953"
             ],
             [
              0.7777777777777778,
              "#fb9f3a"
             ],
             [
              0.8888888888888888,
              "#fdca26"
             ],
             [
              1,
              "#f0f921"
             ]
            ],
            "type": "histogram2d"
           }
          ],
          "histogram2dcontour": [
           {
            "colorbar": {
             "outlinewidth": 0,
             "ticks": ""
            },
            "colorscale": [
             [
              0,
              "#0d0887"
             ],
             [
              0.1111111111111111,
              "#46039f"
             ],
             [
              0.2222222222222222,
              "#7201a8"
             ],
             [
              0.3333333333333333,
              "#9c179e"
             ],
             [
              0.4444444444444444,
              "#bd3786"
             ],
             [
              0.5555555555555556,
              "#d8576b"
             ],
             [
              0.6666666666666666,
              "#ed7953"
             ],
             [
              0.7777777777777778,
              "#fb9f3a"
             ],
             [
              0.8888888888888888,
              "#fdca26"
             ],
             [
              1,
              "#f0f921"
             ]
            ],
            "type": "histogram2dcontour"
           }
          ],
          "mesh3d": [
           {
            "colorbar": {
             "outlinewidth": 0,
             "ticks": ""
            },
            "type": "mesh3d"
           }
          ],
          "parcoords": [
           {
            "line": {
             "colorbar": {
              "outlinewidth": 0,
              "ticks": ""
             }
            },
            "type": "parcoords"
           }
          ],
          "pie": [
           {
            "automargin": true,
            "type": "pie"
           }
          ],
          "scatter": [
           {
            "fillpattern": {
             "fillmode": "overlay",
             "size": 10,
             "solidity": 0.2
            },
            "type": "scatter"
           }
          ],
          "scatter3d": [
           {
            "line": {
             "colorbar": {
              "outlinewidth": 0,
              "ticks": ""
             }
            },
            "marker": {
             "colorbar": {
              "outlinewidth": 0,
              "ticks": ""
             }
            },
            "type": "scatter3d"
           }
          ],
          "scattercarpet": [
           {
            "marker": {
             "colorbar": {
              "outlinewidth": 0,
              "ticks": ""
             }
            },
            "type": "scattercarpet"
           }
          ],
          "scattergeo": [
           {
            "marker": {
             "colorbar": {
              "outlinewidth": 0,
              "ticks": ""
             }
            },
            "type": "scattergeo"
           }
          ],
          "scattergl": [
           {
            "marker": {
             "colorbar": {
              "outlinewidth": 0,
              "ticks": ""
             }
            },
            "type": "scattergl"
           }
          ],
          "scattermapbox": [
           {
            "marker": {
             "colorbar": {
              "outlinewidth": 0,
              "ticks": ""
             }
            },
            "type": "scattermapbox"
           }
          ],
          "scatterpolar": [
           {
            "marker": {
             "colorbar": {
              "outlinewidth": 0,
              "ticks": ""
             }
            },
            "type": "scatterpolar"
           }
          ],
          "scatterpolargl": [
           {
            "marker": {
             "colorbar": {
              "outlinewidth": 0,
              "ticks": ""
             }
            },
            "type": "scatterpolargl"
           }
          ],
          "scatterternary": [
           {
            "marker": {
             "colorbar": {
              "outlinewidth": 0,
              "ticks": ""
             }
            },
            "type": "scatterternary"
           }
          ],
          "surface": [
           {
            "colorbar": {
             "outlinewidth": 0,
             "ticks": ""
            },
            "colorscale": [
             [
              0,
              "#0d0887"
             ],
             [
              0.1111111111111111,
              "#46039f"
             ],
             [
              0.2222222222222222,
              "#7201a8"
             ],
             [
              0.3333333333333333,
              "#9c179e"
             ],
             [
              0.4444444444444444,
              "#bd3786"
             ],
             [
              0.5555555555555556,
              "#d8576b"
             ],
             [
              0.6666666666666666,
              "#ed7953"
             ],
             [
              0.7777777777777778,
              "#fb9f3a"
             ],
             [
              0.8888888888888888,
              "#fdca26"
             ],
             [
              1,
              "#f0f921"
             ]
            ],
            "type": "surface"
           }
          ],
          "table": [
           {
            "cells": {
             "fill": {
              "color": "#EBF0F8"
             },
             "line": {
              "color": "white"
             }
            },
            "header": {
             "fill": {
              "color": "#C8D4E3"
             },
             "line": {
              "color": "white"
             }
            },
            "type": "table"
           }
          ]
         },
         "layout": {
          "annotationdefaults": {
           "arrowcolor": "#2a3f5f",
           "arrowhead": 0,
           "arrowwidth": 1
          },
          "autotypenumbers": "strict",
          "coloraxis": {
           "colorbar": {
            "outlinewidth": 0,
            "ticks": ""
           }
          },
          "colorscale": {
           "diverging": [
            [
             0,
             "#8e0152"
            ],
            [
             0.1,
             "#c51b7d"
            ],
            [
             0.2,
             "#de77ae"
            ],
            [
             0.3,
             "#f1b6da"
            ],
            [
             0.4,
             "#fde0ef"
            ],
            [
             0.5,
             "#f7f7f7"
            ],
            [
             0.6,
             "#e6f5d0"
            ],
            [
             0.7,
             "#b8e186"
            ],
            [
             0.8,
             "#7fbc41"
            ],
            [
             0.9,
             "#4d9221"
            ],
            [
             1,
             "#276419"
            ]
           ],
           "sequential": [
            [
             0,
             "#0d0887"
            ],
            [
             0.1111111111111111,
             "#46039f"
            ],
            [
             0.2222222222222222,
             "#7201a8"
            ],
            [
             0.3333333333333333,
             "#9c179e"
            ],
            [
             0.4444444444444444,
             "#bd3786"
            ],
            [
             0.5555555555555556,
             "#d8576b"
            ],
            [
             0.6666666666666666,
             "#ed7953"
            ],
            [
             0.7777777777777778,
             "#fb9f3a"
            ],
            [
             0.8888888888888888,
             "#fdca26"
            ],
            [
             1,
             "#f0f921"
            ]
           ],
           "sequentialminus": [
            [
             0,
             "#0d0887"
            ],
            [
             0.1111111111111111,
             "#46039f"
            ],
            [
             0.2222222222222222,
             "#7201a8"
            ],
            [
             0.3333333333333333,
             "#9c179e"
            ],
            [
             0.4444444444444444,
             "#bd3786"
            ],
            [
             0.5555555555555556,
             "#d8576b"
            ],
            [
             0.6666666666666666,
             "#ed7953"
            ],
            [
             0.7777777777777778,
             "#fb9f3a"
            ],
            [
             0.8888888888888888,
             "#fdca26"
            ],
            [
             1,
             "#f0f921"
            ]
           ]
          },
          "colorway": [
           "#636efa",
           "#EF553B",
           "#00cc96",
           "#ab63fa",
           "#FFA15A",
           "#19d3f3",
           "#FF6692",
           "#B6E880",
           "#FF97FF",
           "#FECB52"
          ],
          "font": {
           "color": "#2a3f5f"
          },
          "geo": {
           "bgcolor": "white",
           "lakecolor": "white",
           "landcolor": "#E5ECF6",
           "showlakes": true,
           "showland": true,
           "subunitcolor": "white"
          },
          "hoverlabel": {
           "align": "left"
          },
          "hovermode": "closest",
          "mapbox": {
           "style": "light"
          },
          "paper_bgcolor": "white",
          "plot_bgcolor": "#E5ECF6",
          "polar": {
           "angularaxis": {
            "gridcolor": "white",
            "linecolor": "white",
            "ticks": ""
           },
           "bgcolor": "#E5ECF6",
           "radialaxis": {
            "gridcolor": "white",
            "linecolor": "white",
            "ticks": ""
           }
          },
          "scene": {
           "xaxis": {
            "backgroundcolor": "#E5ECF6",
            "gridcolor": "white",
            "gridwidth": 2,
            "linecolor": "white",
            "showbackground": true,
            "ticks": "",
            "zerolinecolor": "white"
           },
           "yaxis": {
            "backgroundcolor": "#E5ECF6",
            "gridcolor": "white",
            "gridwidth": 2,
            "linecolor": "white",
            "showbackground": true,
            "ticks": "",
            "zerolinecolor": "white"
           },
           "zaxis": {
            "backgroundcolor": "#E5ECF6",
            "gridcolor": "white",
            "gridwidth": 2,
            "linecolor": "white",
            "showbackground": true,
            "ticks": "",
            "zerolinecolor": "white"
           }
          },
          "shapedefaults": {
           "line": {
            "color": "#2a3f5f"
           }
          },
          "ternary": {
           "aaxis": {
            "gridcolor": "white",
            "linecolor": "white",
            "ticks": ""
           },
           "baxis": {
            "gridcolor": "white",
            "linecolor": "white",
            "ticks": ""
           },
           "bgcolor": "#E5ECF6",
           "caxis": {
            "gridcolor": "white",
            "linecolor": "white",
            "ticks": ""
           }
          },
          "title": {
           "x": 0.05
          },
          "xaxis": {
           "automargin": true,
           "gridcolor": "white",
           "linecolor": "white",
           "ticks": "",
           "title": {
            "standoff": 15
           },
           "zerolinecolor": "white",
           "zerolinewidth": 2
          },
          "yaxis": {
           "automargin": true,
           "gridcolor": "white",
           "linecolor": "white",
           "ticks": "",
           "title": {
            "standoff": 15
           },
           "zerolinecolor": "white",
           "zerolinewidth": 2
          }
         }
        },
        "xaxis": {
         "anchor": "y",
         "domain": [
          0,
          1
         ],
         "title": {
          "text": "label"
         }
        },
        "yaxis": {
         "anchor": "x",
         "domain": [
          0,
          1
         ],
         "title": {
          "text": "rainfall"
         }
        }
       }
      }
     },
     "metadata": {},
     "output_type": "display_data"
    }
   ],
   "source": [
    "#Rainfall Distribution Per Crop\n",
    "\n",
    "rainfall_per_crop = px.scatter(crop, x='label', y='rainfall')\n",
    "rainfall_per_crop.show()\n",
    "\n"
   ]
  },
  {
   "cell_type": "markdown",
   "metadata": {},
   "source": []
  },
  {
   "cell_type": "code",
   "execution_count": 15,
   "metadata": {},
   "outputs": [
    {
     "data": {
      "application/vnd.plotly.v1+json": {
       "config": {
        "plotlyServerURL": "https://plot.ly"
       },
       "data": [
        {
         "marker": {
          "color": "dodgerblue"
         },
         "name": "Potash",
         "type": "bar",
         "x": [
          "apple",
          "banana",
          "blackgram",
          "chickpea",
          "coconut",
          "coffee",
          "cotton",
          "grapes",
          "jute",
          "kidneybeans",
          "lentil",
          "maize",
          "mango",
          "mothbeans",
          "mungbean",
          "muskmelon",
          "orange",
          "papaya",
          "pigeonpeas",
          "pomegranate",
          "rice",
          "watermelon"
         ],
         "y": [
          199.89,
          50.05,
          19.24,
          79.92,
          30.59,
          29.94,
          19.56,
          200.11,
          39.99,
          20.05,
          19.41,
          19.79,
          29.92,
          20.23,
          19.87,
          50.08,
          10.01,
          50.04,
          20.29,
          40.21,
          39.87,
          50.22
         ]
        },
        {
         "marker": {
          "color": "indianred"
         },
         "name": "Nitrogen",
         "type": "bar",
         "x": [
          "apple",
          "banana",
          "blackgram",
          "chickpea",
          "coconut",
          "coffee",
          "cotton",
          "grapes",
          "jute",
          "kidneybeans",
          "lentil",
          "maize",
          "mango",
          "mothbeans",
          "mungbean",
          "muskmelon",
          "orange",
          "papaya",
          "pigeonpeas",
          "pomegranate",
          "rice",
          "watermelon"
         ],
         "y": [
          20.8,
          100.23,
          40.02,
          40.09,
          21.98,
          101.2,
          117.77,
          23.18,
          78.4,
          20.75,
          18.77,
          77.76,
          20.07,
          21.44,
          20.99,
          100.32,
          19.58,
          49.88,
          20.73,
          18.87,
          79.89,
          99.42
         ]
        },
        {
         "marker": {
          "color": "springgreen"
         },
         "name": "Phosphorous",
         "type": "bar",
         "x": [
          "apple",
          "banana",
          "blackgram",
          "chickpea",
          "coconut",
          "coffee",
          "cotton",
          "grapes",
          "jute",
          "kidneybeans",
          "lentil",
          "maize",
          "mango",
          "mothbeans",
          "mungbean",
          "muskmelon",
          "orange",
          "papaya",
          "pigeonpeas",
          "pomegranate",
          "rice",
          "watermelon"
         ],
         "y": [
          134.22,
          82.01,
          67.47,
          67.79,
          16.93,
          28.74,
          46.24,
          132.53,
          46.86,
          67.54,
          68.36,
          48.44,
          27.18,
          48.01,
          47.28,
          17.72,
          16.55,
          59.05,
          67.73,
          18.75,
          47.58,
          17
         ]
        }
       ],
       "layout": {
        "barmode": "group",
        "plot_bgcolor": "white",
        "template": {
         "data": {
          "bar": [
           {
            "error_x": {
             "color": "#2a3f5f"
            },
            "error_y": {
             "color": "#2a3f5f"
            },
            "marker": {
             "line": {
              "color": "#E5ECF6",
              "width": 0.5
             },
             "pattern": {
              "fillmode": "overlay",
              "size": 10,
              "solidity": 0.2
             }
            },
            "type": "bar"
           }
          ],
          "barpolar": [
           {
            "marker": {
             "line": {
              "color": "#E5ECF6",
              "width": 0.5
             },
             "pattern": {
              "fillmode": "overlay",
              "size": 10,
              "solidity": 0.2
             }
            },
            "type": "barpolar"
           }
          ],
          "carpet": [
           {
            "aaxis": {
             "endlinecolor": "#2a3f5f",
             "gridcolor": "white",
             "linecolor": "white",
             "minorgridcolor": "white",
             "startlinecolor": "#2a3f5f"
            },
            "baxis": {
             "endlinecolor": "#2a3f5f",
             "gridcolor": "white",
             "linecolor": "white",
             "minorgridcolor": "white",
             "startlinecolor": "#2a3f5f"
            },
            "type": "carpet"
           }
          ],
          "choropleth": [
           {
            "colorbar": {
             "outlinewidth": 0,
             "ticks": ""
            },
            "type": "choropleth"
           }
          ],
          "contour": [
           {
            "colorbar": {
             "outlinewidth": 0,
             "ticks": ""
            },
            "colorscale": [
             [
              0,
              "#0d0887"
             ],
             [
              0.1111111111111111,
              "#46039f"
             ],
             [
              0.2222222222222222,
              "#7201a8"
             ],
             [
              0.3333333333333333,
              "#9c179e"
             ],
             [
              0.4444444444444444,
              "#bd3786"
             ],
             [
              0.5555555555555556,
              "#d8576b"
             ],
             [
              0.6666666666666666,
              "#ed7953"
             ],
             [
              0.7777777777777778,
              "#fb9f3a"
             ],
             [
              0.8888888888888888,
              "#fdca26"
             ],
             [
              1,
              "#f0f921"
             ]
            ],
            "type": "contour"
           }
          ],
          "contourcarpet": [
           {
            "colorbar": {
             "outlinewidth": 0,
             "ticks": ""
            },
            "type": "contourcarpet"
           }
          ],
          "heatmap": [
           {
            "colorbar": {
             "outlinewidth": 0,
             "ticks": ""
            },
            "colorscale": [
             [
              0,
              "#0d0887"
             ],
             [
              0.1111111111111111,
              "#46039f"
             ],
             [
              0.2222222222222222,
              "#7201a8"
             ],
             [
              0.3333333333333333,
              "#9c179e"
             ],
             [
              0.4444444444444444,
              "#bd3786"
             ],
             [
              0.5555555555555556,
              "#d8576b"
             ],
             [
              0.6666666666666666,
              "#ed7953"
             ],
             [
              0.7777777777777778,
              "#fb9f3a"
             ],
             [
              0.8888888888888888,
              "#fdca26"
             ],
             [
              1,
              "#f0f921"
             ]
            ],
            "type": "heatmap"
           }
          ],
          "heatmapgl": [
           {
            "colorbar": {
             "outlinewidth": 0,
             "ticks": ""
            },
            "colorscale": [
             [
              0,
              "#0d0887"
             ],
             [
              0.1111111111111111,
              "#46039f"
             ],
             [
              0.2222222222222222,
              "#7201a8"
             ],
             [
              0.3333333333333333,
              "#9c179e"
             ],
             [
              0.4444444444444444,
              "#bd3786"
             ],
             [
              0.5555555555555556,
              "#d8576b"
             ],
             [
              0.6666666666666666,
              "#ed7953"
             ],
             [
              0.7777777777777778,
              "#fb9f3a"
             ],
             [
              0.8888888888888888,
              "#fdca26"
             ],
             [
              1,
              "#f0f921"
             ]
            ],
            "type": "heatmapgl"
           }
          ],
          "histogram": [
           {
            "marker": {
             "pattern": {
              "fillmode": "overlay",
              "size": 10,
              "solidity": 0.2
             }
            },
            "type": "histogram"
           }
          ],
          "histogram2d": [
           {
            "colorbar": {
             "outlinewidth": 0,
             "ticks": ""
            },
            "colorscale": [
             [
              0,
              "#0d0887"
             ],
             [
              0.1111111111111111,
              "#46039f"
             ],
             [
              0.2222222222222222,
              "#7201a8"
             ],
             [
              0.3333333333333333,
              "#9c179e"
             ],
             [
              0.4444444444444444,
              "#bd3786"
             ],
             [
              0.5555555555555556,
              "#d8576b"
             ],
             [
              0.6666666666666666,
              "#ed7953"
             ],
             [
              0.7777777777777778,
              "#fb9f3a"
             ],
             [
              0.8888888888888888,
              "#fdca26"
             ],
             [
              1,
              "#f0f921"
             ]
            ],
            "type": "histogram2d"
           }
          ],
          "histogram2dcontour": [
           {
            "colorbar": {
             "outlinewidth": 0,
             "ticks": ""
            },
            "colorscale": [
             [
              0,
              "#0d0887"
             ],
             [
              0.1111111111111111,
              "#46039f"
             ],
             [
              0.2222222222222222,
              "#7201a8"
             ],
             [
              0.3333333333333333,
              "#9c179e"
             ],
             [
              0.4444444444444444,
              "#bd3786"
             ],
             [
              0.5555555555555556,
              "#d8576b"
             ],
             [
              0.6666666666666666,
              "#ed7953"
             ],
             [
              0.7777777777777778,
              "#fb9f3a"
             ],
             [
              0.8888888888888888,
              "#fdca26"
             ],
             [
              1,
              "#f0f921"
             ]
            ],
            "type": "histogram2dcontour"
           }
          ],
          "mesh3d": [
           {
            "colorbar": {
             "outlinewidth": 0,
             "ticks": ""
            },
            "type": "mesh3d"
           }
          ],
          "parcoords": [
           {
            "line": {
             "colorbar": {
              "outlinewidth": 0,
              "ticks": ""
             }
            },
            "type": "parcoords"
           }
          ],
          "pie": [
           {
            "automargin": true,
            "type": "pie"
           }
          ],
          "scatter": [
           {
            "fillpattern": {
             "fillmode": "overlay",
             "size": 10,
             "solidity": 0.2
            },
            "type": "scatter"
           }
          ],
          "scatter3d": [
           {
            "line": {
             "colorbar": {
              "outlinewidth": 0,
              "ticks": ""
             }
            },
            "marker": {
             "colorbar": {
              "outlinewidth": 0,
              "ticks": ""
             }
            },
            "type": "scatter3d"
           }
          ],
          "scattercarpet": [
           {
            "marker": {
             "colorbar": {
              "outlinewidth": 0,
              "ticks": ""
             }
            },
            "type": "scattercarpet"
           }
          ],
          "scattergeo": [
           {
            "marker": {
             "colorbar": {
              "outlinewidth": 0,
              "ticks": ""
             }
            },
            "type": "scattergeo"
           }
          ],
          "scattergl": [
           {
            "marker": {
             "colorbar": {
              "outlinewidth": 0,
              "ticks": ""
             }
            },
            "type": "scattergl"
           }
          ],
          "scattermapbox": [
           {
            "marker": {
             "colorbar": {
              "outlinewidth": 0,
              "ticks": ""
             }
            },
            "type": "scattermapbox"
           }
          ],
          "scatterpolar": [
           {
            "marker": {
             "colorbar": {
              "outlinewidth": 0,
              "ticks": ""
             }
            },
            "type": "scatterpolar"
           }
          ],
          "scatterpolargl": [
           {
            "marker": {
             "colorbar": {
              "outlinewidth": 0,
              "ticks": ""
             }
            },
            "type": "scatterpolargl"
           }
          ],
          "scatterternary": [
           {
            "marker": {
             "colorbar": {
              "outlinewidth": 0,
              "ticks": ""
             }
            },
            "type": "scatterternary"
           }
          ],
          "surface": [
           {
            "colorbar": {
             "outlinewidth": 0,
             "ticks": ""
            },
            "colorscale": [
             [
              0,
              "#0d0887"
             ],
             [
              0.1111111111111111,
              "#46039f"
             ],
             [
              0.2222222222222222,
              "#7201a8"
             ],
             [
              0.3333333333333333,
              "#9c179e"
             ],
             [
              0.4444444444444444,
              "#bd3786"
             ],
             [
              0.5555555555555556,
              "#d8576b"
             ],
             [
              0.6666666666666666,
              "#ed7953"
             ],
             [
              0.7777777777777778,
              "#fb9f3a"
             ],
             [
              0.8888888888888888,
              "#fdca26"
             ],
             [
              1,
              "#f0f921"
             ]
            ],
            "type": "surface"
           }
          ],
          "table": [
           {
            "cells": {
             "fill": {
              "color": "#EBF0F8"
             },
             "line": {
              "color": "white"
             }
            },
            "header": {
             "fill": {
              "color": "#C8D4E3"
             },
             "line": {
              "color": "white"
             }
            },
            "type": "table"
           }
          ]
         },
         "layout": {
          "annotationdefaults": {
           "arrowcolor": "#2a3f5f",
           "arrowhead": 0,
           "arrowwidth": 1
          },
          "autotypenumbers": "strict",
          "coloraxis": {
           "colorbar": {
            "outlinewidth": 0,
            "ticks": ""
           }
          },
          "colorscale": {
           "diverging": [
            [
             0,
             "#8e0152"
            ],
            [
             0.1,
             "#c51b7d"
            ],
            [
             0.2,
             "#de77ae"
            ],
            [
             0.3,
             "#f1b6da"
            ],
            [
             0.4,
             "#fde0ef"
            ],
            [
             0.5,
             "#f7f7f7"
            ],
            [
             0.6,
             "#e6f5d0"
            ],
            [
             0.7,
             "#b8e186"
            ],
            [
             0.8,
             "#7fbc41"
            ],
            [
             0.9,
             "#4d9221"
            ],
            [
             1,
             "#276419"
            ]
           ],
           "sequential": [
            [
             0,
             "#0d0887"
            ],
            [
             0.1111111111111111,
             "#46039f"
            ],
            [
             0.2222222222222222,
             "#7201a8"
            ],
            [
             0.3333333333333333,
             "#9c179e"
            ],
            [
             0.4444444444444444,
             "#bd3786"
            ],
            [
             0.5555555555555556,
             "#d8576b"
            ],
            [
             0.6666666666666666,
             "#ed7953"
            ],
            [
             0.7777777777777778,
             "#fb9f3a"
            ],
            [
             0.8888888888888888,
             "#fdca26"
            ],
            [
             1,
             "#f0f921"
            ]
           ],
           "sequentialminus": [
            [
             0,
             "#0d0887"
            ],
            [
             0.1111111111111111,
             "#46039f"
            ],
            [
             0.2222222222222222,
             "#7201a8"
            ],
            [
             0.3333333333333333,
             "#9c179e"
            ],
            [
             0.4444444444444444,
             "#bd3786"
            ],
            [
             0.5555555555555556,
             "#d8576b"
            ],
            [
             0.6666666666666666,
             "#ed7953"
            ],
            [
             0.7777777777777778,
             "#fb9f3a"
            ],
            [
             0.8888888888888888,
             "#fdca26"
            ],
            [
             1,
             "#f0f921"
            ]
           ]
          },
          "colorway": [
           "#636efa",
           "#EF553B",
           "#00cc96",
           "#ab63fa",
           "#FFA15A",
           "#19d3f3",
           "#FF6692",
           "#B6E880",
           "#FF97FF",
           "#FECB52"
          ],
          "font": {
           "color": "#2a3f5f"
          },
          "geo": {
           "bgcolor": "white",
           "lakecolor": "white",
           "landcolor": "#E5ECF6",
           "showlakes": true,
           "showland": true,
           "subunitcolor": "white"
          },
          "hoverlabel": {
           "align": "left"
          },
          "hovermode": "closest",
          "mapbox": {
           "style": "light"
          },
          "paper_bgcolor": "white",
          "plot_bgcolor": "#E5ECF6",
          "polar": {
           "angularaxis": {
            "gridcolor": "white",
            "linecolor": "white",
            "ticks": ""
           },
           "bgcolor": "#E5ECF6",
           "radialaxis": {
            "gridcolor": "white",
            "linecolor": "white",
            "ticks": ""
           }
          },
          "scene": {
           "xaxis": {
            "backgroundcolor": "#E5ECF6",
            "gridcolor": "white",
            "gridwidth": 2,
            "linecolor": "white",
            "showbackground": true,
            "ticks": "",
            "zerolinecolor": "white"
           },
           "yaxis": {
            "backgroundcolor": "#E5ECF6",
            "gridcolor": "white",
            "gridwidth": 2,
            "linecolor": "white",
            "showbackground": true,
            "ticks": "",
            "zerolinecolor": "white"
           },
           "zaxis": {
            "backgroundcolor": "#E5ECF6",
            "gridcolor": "white",
            "gridwidth": 2,
            "linecolor": "white",
            "showbackground": true,
            "ticks": "",
            "zerolinecolor": "white"
           }
          },
          "shapedefaults": {
           "line": {
            "color": "#2a3f5f"
           }
          },
          "ternary": {
           "aaxis": {
            "gridcolor": "white",
            "linecolor": "white",
            "ticks": ""
           },
           "baxis": {
            "gridcolor": "white",
            "linecolor": "white",
            "ticks": ""
           },
           "bgcolor": "#E5ECF6",
           "caxis": {
            "gridcolor": "white",
            "linecolor": "white",
            "ticks": ""
           }
          },
          "title": {
           "x": 0.05
          },
          "xaxis": {
           "automargin": true,
           "gridcolor": "white",
           "linecolor": "white",
           "ticks": "",
           "title": {
            "standoff": 15
           },
           "zerolinecolor": "white",
           "zerolinewidth": 2
          },
          "yaxis": {
           "automargin": true,
           "gridcolor": "white",
           "linecolor": "white",
           "ticks": "",
           "title": {
            "standoff": 15
           },
           "zerolinecolor": "white",
           "zerolinewidth": 2
          }
         }
        },
        "title": {
         "text": "N-P-K values comparision between crops"
        },
        "xaxis": {
         "tickangle": -45
        }
       }
      }
     },
     "metadata": {},
     "output_type": "display_data"
    }
   ],
   "source": [
    "# N-P-K Values comparison between crops\n",
    "\n",
    "fig = go.Figure()\n",
    "fig.add_trace(go.Bar(\n",
    "    x=crop_summary.index,\n",
    "    y=crop_summary['K'],\n",
    "    name='Potash',\n",
    "    marker_color='dodgerblue'\n",
    "))\n",
    "fig.add_trace(go.Bar(\n",
    "    x=crop_summary.index,\n",
    "    y=crop_summary['N'],\n",
    "    name='Nitrogen',\n",
    "    marker_color='indianred'\n",
    "))\n",
    "fig.add_trace(go.Bar(\n",
    "    x=crop_summary.index,\n",
    "    y=crop_summary['P'],\n",
    "    name='Phosphorous',\n",
    "    marker_color='springgreen'\n",
    "))\n",
    "\n",
    "\n",
    "fig.update_layout(title=\"N-P-K values comparision between crops\",\n",
    "                  plot_bgcolor='white',\n",
    "                  barmode='group',\n",
    "                  xaxis_tickangle=-45)\n",
    "\n",
    "fig.show()\n"
   ]
  },
  {
   "cell_type": "markdown",
   "metadata": {},
   "source": []
  },
  {
   "cell_type": "code",
   "execution_count": 16,
   "metadata": {},
   "outputs": [
    {
     "data": {
      "application/vnd.plotly.v1+json": {
       "config": {
        "plotlyServerURL": "https://plot.ly"
       },
       "data": [
        {
         "marker": {
          "color": "#F88379"
         },
         "name": "Most humidity required",
         "orientation": "h",
         "text": [
          81.8752275212,
          82.2728215389,
          85.16037529360001,
          85.49997454300001,
          90.1255037895,
          92.17020876340001,
          92.3333828756,
          92.34280196089999,
          92.4033876826,
          94.84427180610001
         ],
         "textposition": "inside",
         "texttemplate": "%{text}",
         "type": "bar",
         "x": [
          81.8752275212,
          82.2728215389,
          85.16037529360001,
          85.49997454300001,
          90.1255037895,
          92.17020876340001,
          92.3333828756,
          92.34280196089999,
          92.4033876826,
          94.84427180610001
         ],
         "xaxis": "x",
         "y": [
          "grapes",
          "rice",
          "watermelon",
          "mungbean",
          "pomegranate",
          "orange",
          "apple",
          "muskmelon",
          "papaya",
          "coconut"
         ],
         "yaxis": "y"
        },
        {
         "marker": {
          "color": "#C2b280"
         },
         "name": "Least humidity required",
         "orientation": "h",
         "text": [
          79.6398642063,
          65.1184255887,
          65.0922494467,
          64.8047846785,
          58.8698463003,
          53.16041802790001,
          50.1565726953,
          48.0616330847,
          21.6053567295,
          16.8604394237
         ],
         "textposition": "inside",
         "texttemplate": "%{text}",
         "type": "bar",
         "x": [
          79.6398642063,
          65.1184255887,
          65.0922494467,
          64.8047846785,
          58.8698463003,
          53.16041802790001,
          50.1565726953,
          48.0616330847,
          21.6053567295,
          16.8604394237
         ],
         "xaxis": "x2",
         "y": [
          "jute",
          "blackgram",
          "maize",
          "lentil",
          "coffee",
          "mothbeans",
          "mango",
          "pigeonpeas",
          "kidneybeans",
          "chickpea"
         ],
         "yaxis": "y2"
        }
       ],
       "layout": {
        "font": {
         "color": "black",
         "size": 12
        },
        "height": 500,
        "plot_bgcolor": "white",
        "template": {
         "data": {
          "bar": [
           {
            "error_x": {
             "color": "#2a3f5f"
            },
            "error_y": {
             "color": "#2a3f5f"
            },
            "marker": {
             "line": {
              "color": "#E5ECF6",
              "width": 0.5
             },
             "pattern": {
              "fillmode": "overlay",
              "size": 10,
              "solidity": 0.2
             }
            },
            "type": "bar"
           }
          ],
          "barpolar": [
           {
            "marker": {
             "line": {
              "color": "#E5ECF6",
              "width": 0.5
             },
             "pattern": {
              "fillmode": "overlay",
              "size": 10,
              "solidity": 0.2
             }
            },
            "type": "barpolar"
           }
          ],
          "carpet": [
           {
            "aaxis": {
             "endlinecolor": "#2a3f5f",
             "gridcolor": "white",
             "linecolor": "white",
             "minorgridcolor": "white",
             "startlinecolor": "#2a3f5f"
            },
            "baxis": {
             "endlinecolor": "#2a3f5f",
             "gridcolor": "white",
             "linecolor": "white",
             "minorgridcolor": "white",
             "startlinecolor": "#2a3f5f"
            },
            "type": "carpet"
           }
          ],
          "choropleth": [
           {
            "colorbar": {
             "outlinewidth": 0,
             "ticks": ""
            },
            "type": "choropleth"
           }
          ],
          "contour": [
           {
            "colorbar": {
             "outlinewidth": 0,
             "ticks": ""
            },
            "colorscale": [
             [
              0,
              "#0d0887"
             ],
             [
              0.1111111111111111,
              "#46039f"
             ],
             [
              0.2222222222222222,
              "#7201a8"
             ],
             [
              0.3333333333333333,
              "#9c179e"
             ],
             [
              0.4444444444444444,
              "#bd3786"
             ],
             [
              0.5555555555555556,
              "#d8576b"
             ],
             [
              0.6666666666666666,
              "#ed7953"
             ],
             [
              0.7777777777777778,
              "#fb9f3a"
             ],
             [
              0.8888888888888888,
              "#fdca26"
             ],
             [
              1,
              "#f0f921"
             ]
            ],
            "type": "contour"
           }
          ],
          "contourcarpet": [
           {
            "colorbar": {
             "outlinewidth": 0,
             "ticks": ""
            },
            "type": "contourcarpet"
           }
          ],
          "heatmap": [
           {
            "colorbar": {
             "outlinewidth": 0,
             "ticks": ""
            },
            "colorscale": [
             [
              0,
              "#0d0887"
             ],
             [
              0.1111111111111111,
              "#46039f"
             ],
             [
              0.2222222222222222,
              "#7201a8"
             ],
             [
              0.3333333333333333,
              "#9c179e"
             ],
             [
              0.4444444444444444,
              "#bd3786"
             ],
             [
              0.5555555555555556,
              "#d8576b"
             ],
             [
              0.6666666666666666,
              "#ed7953"
             ],
             [
              0.7777777777777778,
              "#fb9f3a"
             ],
             [
              0.8888888888888888,
              "#fdca26"
             ],
             [
              1,
              "#f0f921"
             ]
            ],
            "type": "heatmap"
           }
          ],
          "heatmapgl": [
           {
            "colorbar": {
             "outlinewidth": 0,
             "ticks": ""
            },
            "colorscale": [
             [
              0,
              "#0d0887"
             ],
             [
              0.1111111111111111,
              "#46039f"
             ],
             [
              0.2222222222222222,
              "#7201a8"
             ],
             [
              0.3333333333333333,
              "#9c179e"
             ],
             [
              0.4444444444444444,
              "#bd3786"
             ],
             [
              0.5555555555555556,
              "#d8576b"
             ],
             [
              0.6666666666666666,
              "#ed7953"
             ],
             [
              0.7777777777777778,
              "#fb9f3a"
             ],
             [
              0.8888888888888888,
              "#fdca26"
             ],
             [
              1,
              "#f0f921"
             ]
            ],
            "type": "heatmapgl"
           }
          ],
          "histogram": [
           {
            "marker": {
             "pattern": {
              "fillmode": "overlay",
              "size": 10,
              "solidity": 0.2
             }
            },
            "type": "histogram"
           }
          ],
          "histogram2d": [
           {
            "colorbar": {
             "outlinewidth": 0,
             "ticks": ""
            },
            "colorscale": [
             [
              0,
              "#0d0887"
             ],
             [
              0.1111111111111111,
              "#46039f"
             ],
             [
              0.2222222222222222,
              "#7201a8"
             ],
             [
              0.3333333333333333,
              "#9c179e"
             ],
             [
              0.4444444444444444,
              "#bd3786"
             ],
             [
              0.5555555555555556,
              "#d8576b"
             ],
             [
              0.6666666666666666,
              "#ed7953"
             ],
             [
              0.7777777777777778,
              "#fb9f3a"
             ],
             [
              0.8888888888888888,
              "#fdca26"
             ],
             [
              1,
              "#f0f921"
             ]
            ],
            "type": "histogram2d"
           }
          ],
          "histogram2dcontour": [
           {
            "colorbar": {
             "outlinewidth": 0,
             "ticks": ""
            },
            "colorscale": [
             [
              0,
              "#0d0887"
             ],
             [
              0.1111111111111111,
              "#46039f"
             ],
             [
              0.2222222222222222,
              "#7201a8"
             ],
             [
              0.3333333333333333,
              "#9c179e"
             ],
             [
              0.4444444444444444,
              "#bd3786"
             ],
             [
              0.5555555555555556,
              "#d8576b"
             ],
             [
              0.6666666666666666,
              "#ed7953"
             ],
             [
              0.7777777777777778,
              "#fb9f3a"
             ],
             [
              0.8888888888888888,
              "#fdca26"
             ],
             [
              1,
              "#f0f921"
             ]
            ],
            "type": "histogram2dcontour"
           }
          ],
          "mesh3d": [
           {
            "colorbar": {
             "outlinewidth": 0,
             "ticks": ""
            },
            "type": "mesh3d"
           }
          ],
          "parcoords": [
           {
            "line": {
             "colorbar": {
              "outlinewidth": 0,
              "ticks": ""
             }
            },
            "type": "parcoords"
           }
          ],
          "pie": [
           {
            "automargin": true,
            "type": "pie"
           }
          ],
          "scatter": [
           {
            "fillpattern": {
             "fillmode": "overlay",
             "size": 10,
             "solidity": 0.2
            },
            "type": "scatter"
           }
          ],
          "scatter3d": [
           {
            "line": {
             "colorbar": {
              "outlinewidth": 0,
              "ticks": ""
             }
            },
            "marker": {
             "colorbar": {
              "outlinewidth": 0,
              "ticks": ""
             }
            },
            "type": "scatter3d"
           }
          ],
          "scattercarpet": [
           {
            "marker": {
             "colorbar": {
              "outlinewidth": 0,
              "ticks": ""
             }
            },
            "type": "scattercarpet"
           }
          ],
          "scattergeo": [
           {
            "marker": {
             "colorbar": {
              "outlinewidth": 0,
              "ticks": ""
             }
            },
            "type": "scattergeo"
           }
          ],
          "scattergl": [
           {
            "marker": {
             "colorbar": {
              "outlinewidth": 0,
              "ticks": ""
             }
            },
            "type": "scattergl"
           }
          ],
          "scattermapbox": [
           {
            "marker": {
             "colorbar": {
              "outlinewidth": 0,
              "ticks": ""
             }
            },
            "type": "scattermapbox"
           }
          ],
          "scatterpolar": [
           {
            "marker": {
             "colorbar": {
              "outlinewidth": 0,
              "ticks": ""
             }
            },
            "type": "scatterpolar"
           }
          ],
          "scatterpolargl": [
           {
            "marker": {
             "colorbar": {
              "outlinewidth": 0,
              "ticks": ""
             }
            },
            "type": "scatterpolargl"
           }
          ],
          "scatterternary": [
           {
            "marker": {
             "colorbar": {
              "outlinewidth": 0,
              "ticks": ""
             }
            },
            "type": "scatterternary"
           }
          ],
          "surface": [
           {
            "colorbar": {
             "outlinewidth": 0,
             "ticks": ""
            },
            "colorscale": [
             [
              0,
              "#0d0887"
             ],
             [
              0.1111111111111111,
              "#46039f"
             ],
             [
              0.2222222222222222,
              "#7201a8"
             ],
             [
              0.3333333333333333,
              "#9c179e"
             ],
             [
              0.4444444444444444,
              "#bd3786"
             ],
             [
              0.5555555555555556,
              "#d8576b"
             ],
             [
              0.6666666666666666,
              "#ed7953"
             ],
             [
              0.7777777777777778,
              "#fb9f3a"
             ],
             [
              0.8888888888888888,
              "#fdca26"
             ],
             [
              1,
              "#f0f921"
             ]
            ],
            "type": "surface"
           }
          ],
          "table": [
           {
            "cells": {
             "fill": {
              "color": "#EBF0F8"
             },
             "line": {
              "color": "white"
             }
            },
            "header": {
             "fill": {
              "color": "#C8D4E3"
             },
             "line": {
              "color": "white"
             }
            },
            "type": "table"
           }
          ]
         },
         "layout": {
          "annotationdefaults": {
           "arrowcolor": "#2a3f5f",
           "arrowhead": 0,
           "arrowwidth": 1
          },
          "autotypenumbers": "strict",
          "coloraxis": {
           "colorbar": {
            "outlinewidth": 0,
            "ticks": ""
           }
          },
          "colorscale": {
           "diverging": [
            [
             0,
             "#8e0152"
            ],
            [
             0.1,
             "#c51b7d"
            ],
            [
             0.2,
             "#de77ae"
            ],
            [
             0.3,
             "#f1b6da"
            ],
            [
             0.4,
             "#fde0ef"
            ],
            [
             0.5,
             "#f7f7f7"
            ],
            [
             0.6,
             "#e6f5d0"
            ],
            [
             0.7,
             "#b8e186"
            ],
            [
             0.8,
             "#7fbc41"
            ],
            [
             0.9,
             "#4d9221"
            ],
            [
             1,
             "#276419"
            ]
           ],
           "sequential": [
            [
             0,
             "#0d0887"
            ],
            [
             0.1111111111111111,
             "#46039f"
            ],
            [
             0.2222222222222222,
             "#7201a8"
            ],
            [
             0.3333333333333333,
             "#9c179e"
            ],
            [
             0.4444444444444444,
             "#bd3786"
            ],
            [
             0.5555555555555556,
             "#d8576b"
            ],
            [
             0.6666666666666666,
             "#ed7953"
            ],
            [
             0.7777777777777778,
             "#fb9f3a"
            ],
            [
             0.8888888888888888,
             "#fdca26"
            ],
            [
             1,
             "#f0f921"
            ]
           ],
           "sequentialminus": [
            [
             0,
             "#0d0887"
            ],
            [
             0.1111111111111111,
             "#46039f"
            ],
            [
             0.2222222222222222,
             "#7201a8"
            ],
            [
             0.3333333333333333,
             "#9c179e"
            ],
            [
             0.4444444444444444,
             "#bd3786"
            ],
            [
             0.5555555555555556,
             "#d8576b"
            ],
            [
             0.6666666666666666,
             "#ed7953"
            ],
            [
             0.7777777777777778,
             "#fb9f3a"
            ],
            [
             0.8888888888888888,
             "#fdca26"
            ],
            [
             1,
             "#f0f921"
            ]
           ]
          },
          "colorway": [
           "#636efa",
           "#EF553B",
           "#00cc96",
           "#ab63fa",
           "#FFA15A",
           "#19d3f3",
           "#FF6692",
           "#B6E880",
           "#FF97FF",
           "#FECB52"
          ],
          "font": {
           "color": "#2a3f5f"
          },
          "geo": {
           "bgcolor": "white",
           "lakecolor": "white",
           "landcolor": "#E5ECF6",
           "showlakes": true,
           "showland": true,
           "subunitcolor": "white"
          },
          "hoverlabel": {
           "align": "left"
          },
          "hovermode": "closest",
          "mapbox": {
           "style": "light"
          },
          "paper_bgcolor": "white",
          "plot_bgcolor": "#E5ECF6",
          "polar": {
           "angularaxis": {
            "gridcolor": "white",
            "linecolor": "white",
            "ticks": ""
           },
           "bgcolor": "#E5ECF6",
           "radialaxis": {
            "gridcolor": "white",
            "linecolor": "white",
            "ticks": ""
           }
          },
          "scene": {
           "xaxis": {
            "backgroundcolor": "#E5ECF6",
            "gridcolor": "white",
            "gridwidth": 2,
            "linecolor": "white",
            "showbackground": true,
            "ticks": "",
            "zerolinecolor": "white"
           },
           "yaxis": {
            "backgroundcolor": "#E5ECF6",
            "gridcolor": "white",
            "gridwidth": 2,
            "linecolor": "white",
            "showbackground": true,
            "ticks": "",
            "zerolinecolor": "white"
           },
           "zaxis": {
            "backgroundcolor": "#E5ECF6",
            "gridcolor": "white",
            "gridwidth": 2,
            "linecolor": "white",
            "showbackground": true,
            "ticks": "",
            "zerolinecolor": "white"
           }
          },
          "shapedefaults": {
           "line": {
            "color": "#2a3f5f"
           }
          },
          "ternary": {
           "aaxis": {
            "gridcolor": "white",
            "linecolor": "white",
            "ticks": ""
           },
           "baxis": {
            "gridcolor": "white",
            "linecolor": "white",
            "ticks": ""
           },
           "bgcolor": "#E5ECF6",
           "caxis": {
            "gridcolor": "white",
            "linecolor": "white",
            "ticks": ""
           }
          },
          "title": {
           "x": 0.05
          },
          "xaxis": {
           "automargin": true,
           "gridcolor": "white",
           "linecolor": "white",
           "ticks": "",
           "title": {
            "standoff": 15
           },
           "zerolinecolor": "white",
           "zerolinewidth": 2
          },
          "yaxis": {
           "automargin": true,
           "gridcolor": "white",
           "linecolor": "white",
           "ticks": "",
           "title": {
            "standoff": 15
           },
           "zerolinecolor": "white",
           "zerolinewidth": 2
          }
         }
        },
        "title": {
         "text": "HUMIDITY DISTRIBUTION"
        },
        "xaxis": {
         "anchor": "y",
         "domain": [
          0,
          0.45
         ],
         "showgrid": false
        },
        "xaxis2": {
         "anchor": "y2",
         "domain": [
          0.55,
          1
         ],
         "showgrid": false
        },
        "yaxis": {
         "anchor": "x",
         "domain": [
          0,
          1
         ],
         "showgrid": false
        },
        "yaxis2": {
         "anchor": "x2",
         "domain": [
          0,
          1
         ],
         "showgrid": false
        }
       }
      }
     },
     "metadata": {},
     "output_type": "display_data"
    }
   ],
   "source": [
    "# Humidity Distribution To show crops that need humidity the most to the least\n",
    "\n",
    "colorarr = ['#0592D0','#Cd7f32', '#E97451', '#Bdb76b', '#954535', '#C2b280', '#808000','#C2b280', '#E4d008', '#9acd32', '#Eedc82', '#E4d96f',\n",
    "           '#32cd32','#39ff14','#00ff7f', '#008080', '#36454f', '#F88379', '#Ff4500', '#Ffb347', '#A94064', '#E75480', '#Ffb6c1', '#E5e4e2',\n",
    "           '#Faf0e6', '#8c92ac', '#Dbd7d2','#A7a6ba', '#B38b6d']\n",
    "\n",
    "humidity_summary = crop_summary.sort_values(by='humidity', ascending=False)\n",
    "  \n",
    "fig = make_subplots(rows=1, cols=2)\n",
    "\n",
    "top = {\n",
    "    'y' : humidity_summary['humidity'][0:10].sort_values().index,\n",
    "    'x' : humidity_summary['humidity'][0:10].sort_values()\n",
    "}\n",
    "\n",
    "last = {\n",
    "    'y' : humidity_summary['humidity'][-10:].index,\n",
    "    'x' : humidity_summary['humidity'][-10:]\n",
    "}\n",
    "\n",
    "fig.add_trace(\n",
    "    go.Bar(top,\n",
    "           name=\"Most humidity required\",\n",
    "           marker_color=random.choice(colorarr),\n",
    "           orientation='h',\n",
    "          text=top['x']),\n",
    "    \n",
    "    row=1, col=1\n",
    ")\n",
    "\n",
    "fig.add_trace(\n",
    "    go.Bar(last,\n",
    "           name=\"Least humidity required\",\n",
    "           marker_color=random.choice(colorarr),\n",
    "           orientation='h',\n",
    "          text=last['x']),\n",
    "    row=1, col=2\n",
    ")\n",
    "fig.update_traces(texttemplate='%{text}', textposition='inside')\n",
    "fig.update_layout(title_text=\"HUMIDITY DISTRIBUTION\",\n",
    "                  plot_bgcolor='white',\n",
    "                  font_size=12, \n",
    "                  font_color='black',\n",
    "                 height=500)\n",
    "\n",
    "fig.update_xaxes(showgrid=False)\n",
    "fig.update_yaxes(showgrid=False)\n",
    "fig.show()"
   ]
  },
  {
   "cell_type": "markdown",
   "metadata": {},
   "source": []
  },
  {
   "cell_type": "code",
   "execution_count": 17,
   "metadata": {},
   "outputs": [
    {
     "data": {
      "text/plain": [
       "<seaborn.axisgrid.JointGrid at 0x7f9e15078a00>"
      ]
     },
     "execution_count": 17,
     "metadata": {},
     "output_type": "execute_result"
    },
    {
     "data": {
      "image/png": "[encoded data removed]",
      "text/plain": [
       "<Figure size 1000x1000 with 3 Axes>"
      ]
     },
     "metadata": {},
     "output_type": "display_data"
    }
   ],
   "source": [
    "sns.jointplot(x=\"rainfall\",y=\"humidity\",data=crop[(crop['temperature']<40) & \n",
    "                                                  (crop['rainfall']>40)],height=10,hue=\"label\")\n",
    "\n"
   ]
  },
  {
   "cell_type": "markdown",
   "metadata": {},
   "source": []
  },
  {
   "cell_type": "code",
   "execution_count": 18,
   "metadata": {},
   "outputs": [
    {
     "data": {
      "application/vnd.plotly.v1+json": {
       "config": {
        "plotlyServerURL": "https://plot.ly"
       },
       "data": [
        {
         "domain": {
          "x": [
           0,
           0.16799999999999998
          ],
          "y": [
           0,
           1
          ]
         },
         "hole": 0.4,
         "hoverinfo": "label+percent+name",
         "labels": [
          "Nitrogen(N)",
          "Phosphorous(P)",
          "Potash(K)"
         ],
         "name": "Rice",
         "type": "pie",
         "values": [
          79.89,
          47.58,
          39.87
         ]
        },
        {
         "domain": {
          "x": [
           0.208,
           0.376
          ],
          "y": [
           0,
           1
          ]
         },
         "hole": 0.4,
         "hoverinfo": "label+percent+name",
         "labels": [
          "Nitrogen(N)",
          "Phosphorous(P)",
          "Potash(K)"
         ],
         "name": "KidneyBeans",
         "type": "pie",
         "values": [
          20.75,
          67.54,
          20.05
         ]
        },
        {
         "domain": {
          "x": [
           0.416,
           0.584
          ],
          "y": [
           0,
           1
          ]
         },
         "hole": 0.4,
         "hoverinfo": "label+percent+name",
         "labels": [
          "Nitrogen(N)",
          "Phosphorous(P)",
          "Potash(K)"
         ],
         "name": "Maize",
         "type": "pie",
         "values": [
          77.76,
          48.44,
          19.79
         ]
        },
        {
         "domain": {
          "x": [
           0.832,
           1
          ],
          "y": [
           0,
           1
          ]
         },
         "hole": 0.4,
         "hoverinfo": "label+percent+name",
         "labels": [
          "Nitrogen(N)",
          "Phosphorous(P)",
          "Potash(K)"
         ],
         "name": "Lentil",
         "type": "pie",
         "values": [
          18.77,
          68.36,
          19.41
         ]
        }
       ],
       "layout": {
        "annotations": [
         {
          "font": {
           "size": 15
          },
          "showarrow": false,
          "text": "Rice",
          "x": 0.06,
          "y": 0.8
         },
         {
          "font": {
           "size": 15
          },
          "showarrow": false,
          "text": "KidneyBeans",
          "x": 0.26,
          "y": 0.8
         },
         {
          "font": {
           "size": 15
          },
          "showarrow": false,
          "text": "Maize",
          "x": 0.74,
          "y": 0.8
         },
         {
          "font": {
           "size": 15
          },
          "showarrow": false,
          "text": "Lentil",
          "x": 0.94,
          "y": 0.8
         }
        ],
        "template": {
         "data": {
          "bar": [
           {
            "error_x": {
             "color": "#2a3f5f"
            },
            "error_y": {
             "color": "#2a3f5f"
            },
            "marker": {
             "line": {
              "color": "#E5ECF6",
              "width": 0.5
             },
             "pattern": {
              "fillmode": "overlay",
              "size": 10,
              "solidity": 0.2
             }
            },
            "type": "bar"
           }
          ],
          "barpolar": [
           {
            "marker": {
             "line": {
              "color": "#E5ECF6",
              "width": 0.5
             },
             "pattern": {
              "fillmode": "overlay",
              "size": 10,
              "solidity": 0.2
             }
            },
            "type": "barpolar"
           }
          ],
          "carpet": [
           {
            "aaxis": {
             "endlinecolor": "#2a3f5f",
             "gridcolor": "white",
             "linecolor": "white",
             "minorgridcolor": "white",
             "startlinecolor": "#2a3f5f"
            },
            "baxis": {
             "endlinecolor": "#2a3f5f",
             "gridcolor": "white",
             "linecolor": "white",
             "minorgridcolor": "white",
             "startlinecolor": "#2a3f5f"
            },
            "type": "carpet"
           }
          ],
          "choropleth": [
           {
            "colorbar": {
             "outlinewidth": 0,
             "ticks": ""
            },
            "type": "choropleth"
           }
          ],
          "contour": [
           {
            "colorbar": {
             "outlinewidth": 0,
             "ticks": ""
            },
            "colorscale": [
             [
              0,
              "#0d0887"
             ],
             [
              0.1111111111111111,
              "#46039f"
             ],
             [
              0.2222222222222222,
              "#7201a8"
             ],
             [
              0.3333333333333333,
              "#9c179e"
             ],
             [
              0.4444444444444444,
              "#bd3786"
             ],
             [
              0.5555555555555556,
              "#d8576b"
             ],
             [
              0.6666666666666666,
              "#ed7953"
             ],
             [
              0.7777777777777778,
              "#fb9f3a"
             ],
             [
              0.8888888888888888,
              "#fdca26"
             ],
             [
              1,
              "#f0f921"
             ]
            ],
            "type": "contour"
           }
          ],
          "contourcarpet": [
           {
            "colorbar": {
             "outlinewidth": 0,
             "ticks": ""
            },
            "type": "contourcarpet"
           }
          ],
          "heatmap": [
           {
            "colorbar": {
             "outlinewidth": 0,
             "ticks": ""
            },
            "colorscale": [
             [
              0,
              "#0d0887"
             ],
             [
              0.1111111111111111,
              "#46039f"
             ],
             [
              0.2222222222222222,
              "#7201a8"
             ],
             [
              0.3333333333333333,
              "#9c179e"
             ],
             [
              0.4444444444444444,
              "#bd3786"
             ],
             [
              0.5555555555555556,
              "#d8576b"
             ],
             [
              0.6666666666666666,
              "#ed7953"
             ],
             [
              0.7777777777777778,
              "#fb9f3a"
             ],
             [
              0.8888888888888888,
              "#fdca26"
             ],
             [
              1,
              "#f0f921"
             ]
            ],
            "type": "heatmap"
           }
          ],
          "heatmapgl": [
           {
            "colorbar": {
             "outlinewidth": 0,
             "ticks": ""
            },
            "colorscale": [
             [
              0,
              "#0d0887"
             ],
             [
              0.1111111111111111,
              "#46039f"
             ],
             [
              0.2222222222222222,
              "#7201a8"
             ],
             [
              0.3333333333333333,
              "#9c179e"
             ],
             [
              0.4444444444444444,
              "#bd3786"
             ],
             [
              0.5555555555555556,
              "#d8576b"
             ],
             [
              0.6666666666666666,
              "#ed7953"
             ],
             [
              0.7777777777777778,
              "#fb9f3a"
             ],
             [
              0.8888888888888888,
              "#fdca26"
             ],
             [
              1,
              "#f0f921"
             ]
            ],
            "type": "heatmapgl"
           }
          ],
          "histogram": [
           {
            "marker": {
             "pattern": {
              "fillmode": "overlay",
              "size": 10,
              "solidity": 0.2
             }
            },
            "type": "histogram"
           }
          ],
          "histogram2d": [
           {
            "colorbar": {
             "outlinewidth": 0,
             "ticks": ""
            },
            "colorscale": [
             [
              0,
              "#0d0887"
             ],
             [
              0.1111111111111111,
              "#46039f"
             ],
             [
              0.2222222222222222,
              "#7201a8"
             ],
             [
              0.3333333333333333,
              "#9c179e"
             ],
             [
              0.4444444444444444,
              "#bd3786"
             ],
             [
              0.5555555555555556,
              "#d8576b"
             ],
             [
              0.6666666666666666,
              "#ed7953"
             ],
             [
              0.7777777777777778,
              "#fb9f3a"
             ],
             [
              0.8888888888888888,
              "#fdca26"
             ],
             [
              1,
              "#f0f921"
             ]
            ],
            "type": "histogram2d"
           }
          ],
          "histogram2dcontour": [
           {
            "colorbar": {
             "outlinewidth": 0,
             "ticks": ""
            },
            "colorscale": [
             [
              0,
              "#0d0887"
             ],
             [
              0.1111111111111111,
              "#46039f"
             ],
             [
              0.2222222222222222,
              "#7201a8"
             ],
             [
              0.3333333333333333,
              "#9c179e"
             ],
             [
              0.4444444444444444,
              "#bd3786"
             ],
             [
              0.5555555555555556,
              "#d8576b"
             ],
             [
              0.6666666666666666,
              "#ed7953"
             ],
             [
              0.7777777777777778,
              "#fb9f3a"
             ],
             [
              0.8888888888888888,
              "#fdca26"
             ],
             [
              1,
              "#f0f921"
             ]
            ],
            "type": "histogram2dcontour"
           }
          ],
          "mesh3d": [
           {
            "colorbar": {
             "outlinewidth": 0,
             "ticks": ""
            },
            "type": "mesh3d"
           }
          ],
          "parcoords": [
           {
            "line": {
             "colorbar": {
              "outlinewidth": 0,
              "ticks": ""
             }
            },
            "type": "parcoords"
           }
          ],
          "pie": [
           {
            "automargin": true,
            "type": "pie"
           }
          ],
          "scatter": [
           {
            "fillpattern": {
             "fillmode": "overlay",
             "size": 10,
             "solidity": 0.2
            },
            "type": "scatter"
           }
          ],
          "scatter3d": [
           {
            "line": {
             "colorbar": {
              "outlinewidth": 0,
              "ticks": ""
             }
            },
            "marker": {
             "colorbar": {
              "outlinewidth": 0,
              "ticks": ""
             }
            },
            "type": "scatter3d"
           }
          ],
          "scattercarpet": [
           {
            "marker": {
             "colorbar": {
              "outlinewidth": 0,
              "ticks": ""
             }
            },
            "type": "scattercarpet"
           }
          ],
          "scattergeo": [
           {
            "marker": {
             "colorbar": {
              "outlinewidth": 0,
              "ticks": ""
             }
            },
            "type": "scattergeo"
           }
          ],
          "scattergl": [
           {
            "marker": {
             "colorbar": {
              "outlinewidth": 0,
              "ticks": ""
             }
            },
            "type": "scattergl"
           }
          ],
          "scattermapbox": [
           {
            "marker": {
             "colorbar": {
              "outlinewidth": 0,
              "ticks": ""
             }
            },
            "type": "scattermapbox"
           }
          ],
          "scatterpolar": [
           {
            "marker": {
             "colorbar": {
              "outlinewidth": 0,
              "ticks": ""
             }
            },
            "type": "scatterpolar"
           }
          ],
          "scatterpolargl": [
           {
            "marker": {
             "colorbar": {
              "outlinewidth": 0,
              "ticks": ""
             }
            },
            "type": "scatterpolargl"
           }
          ],
          "scatterternary": [
           {
            "marker": {
             "colorbar": {
              "outlinewidth": 0,
              "ticks": ""
             }
            },
            "type": "scatterternary"
           }
          ],
          "surface": [
           {
            "colorbar": {
             "outlinewidth": 0,
             "ticks": ""
            },
            "colorscale": [
             [
              0,
              "#0d0887"
             ],
             [
              0.1111111111111111,
              "#46039f"
             ],
             [
              0.2222222222222222,
              "#7201a8"
             ],
             [
              0.3333333333333333,
              "#9c179e"
             ],
             [
              0.4444444444444444,
              "#bd3786"
             ],
             [
              0.5555555555555556,
              "#d8576b"
             ],
             [
              0.6666666666666666,
              "#ed7953"
             ],
             [
              0.7777777777777778,
              "#fb9f3a"
             ],
             [
              0.8888888888888888,
              "#fdca26"
             ],
             [
              1,
              "#f0f921"
             ]
            ],
            "type": "surface"
           }
          ],
          "table": [
           {
            "cells": {
             "fill": {
              "color": "#EBF0F8"
             },
             "line": {
              "color": "white"
             }
            },
            "header": {
             "fill": {
              "color": "#C8D4E3"
             },
             "line": {
              "color": "white"
             }
            },
            "type": "table"
           }
          ]
         },
         "layout": {
          "annotationdefaults": {
           "arrowcolor": "#2a3f5f",
           "arrowhead": 0,
           "arrowwidth": 1
          },
          "autotypenumbers": "strict",
          "coloraxis": {
           "colorbar": {
            "outlinewidth": 0,
            "ticks": ""
           }
          },
          "colorscale": {
           "diverging": [
            [
             0,
             "#8e0152"
            ],
            [
             0.1,
             "#c51b7d"
            ],
            [
             0.2,
             "#de77ae"
            ],
            [
             0.3,
             "#f1b6da"
            ],
            [
             0.4,
             "#fde0ef"
            ],
            [
             0.5,
             "#f7f7f7"
            ],
            [
             0.6,
             "#e6f5d0"
            ],
            [
             0.7,
             "#b8e186"
            ],
            [
             0.8,
             "#7fbc41"
            ],
            [
             0.9,
             "#4d9221"
            ],
            [
             1,
             "#276419"
            ]
           ],
           "sequential": [
            [
             0,
             "#0d0887"
            ],
            [
             0.1111111111111111,
             "#46039f"
            ],
            [
             0.2222222222222222,
             "#7201a8"
            ],
            [
             0.3333333333333333,
             "#9c179e"
            ],
            [
             0.4444444444444444,
             "#bd3786"
            ],
            [
             0.5555555555555556,
             "#d8576b"
            ],
            [
             0.6666666666666666,
             "#ed7953"
            ],
            [
             0.7777777777777778,
             "#fb9f3a"
            ],
            [
             0.8888888888888888,
             "#fdca26"
            ],
            [
             1,
             "#f0f921"
            ]
           ],
           "sequentialminus": [
            [
             0,
             "#0d0887"
            ],
            [
             0.1111111111111111,
             "#46039f"
            ],
            [
             0.2222222222222222,
             "#7201a8"
            ],
            [
             0.3333333333333333,
             "#9c179e"
            ],
            [
             0.4444444444444444,
             "#bd3786"
            ],
            [
             0.5555555555555556,
             "#d8576b"
            ],
            [
             0.6666666666666666,
             "#ed7953"
            ],
            [
             0.7777777777777778,
             "#fb9f3a"
            ],
            [
             0.8888888888888888,
             "#fdca26"
            ],
            [
             1,
             "#f0f921"
            ]
           ]
          },
          "colorway": [
           "#636efa",
           "#EF553B",
           "#00cc96",
           "#ab63fa",
           "#FFA15A",
           "#19d3f3",
           "#FF6692",
           "#B6E880",
           "#FF97FF",
           "#FECB52"
          ],
          "font": {
           "color": "#2a3f5f"
          },
          "geo": {
           "bgcolor": "white",
           "lakecolor": "white",
           "landcolor": "#E5ECF6",
           "showlakes": true,
           "showland": true,
           "subunitcolor": "white"
          },
          "hoverlabel": {
           "align": "left"
          },
          "hovermode": "closest",
          "mapbox": {
           "style": "light"
          },
          "paper_bgcolor": "white",
          "plot_bgcolor": "#E5ECF6",
          "polar": {
           "angularaxis": {
            "gridcolor": "white",
            "linecolor": "white",
            "ticks": ""
           },
           "bgcolor": "#E5ECF6",
           "radialaxis": {
            "gridcolor": "white",
            "linecolor": "white",
            "ticks": ""
           }
          },
          "scene": {
           "xaxis": {
            "backgroundcolor": "#E5ECF6",
            "gridcolor": "white",
            "gridwidth": 2,
            "linecolor": "white",
            "showbackground": true,
            "ticks": "",
            "zerolinecolor": "white"
           },
           "yaxis": {
            "backgroundcolor": "#E5ECF6",
            "gridcolor": "white",
            "gridwidth": 2,
            "linecolor": "white",
            "showbackground": true,
            "ticks": "",
            "zerolinecolor": "white"
           },
           "zaxis": {
            "backgroundcolor": "#E5ECF6",
            "gridcolor": "white",
            "gridwidth": 2,
            "linecolor": "white",
            "showbackground": true,
            "ticks": "",
            "zerolinecolor": "white"
           }
          },
          "shapedefaults": {
           "line": {
            "color": "#2a3f5f"
           }
          },
          "ternary": {
           "aaxis": {
            "gridcolor": "white",
            "linecolor": "white",
            "ticks": ""
           },
           "baxis": {
            "gridcolor": "white",
            "linecolor": "white",
            "ticks": ""
           },
           "bgcolor": "#E5ECF6",
           "caxis": {
            "gridcolor": "white",
            "linecolor": "white",
            "ticks": ""
           }
          },
          "title": {
           "x": 0.05
          },
          "xaxis": {
           "automargin": true,
           "gridcolor": "white",
           "linecolor": "white",
           "ticks": "",
           "title": {
            "standoff": 15
           },
           "zerolinecolor": "white",
           "zerolinewidth": 2
          },
          "yaxis": {
           "automargin": true,
           "gridcolor": "white",
           "linecolor": "white",
           "ticks": "",
           "title": {
            "standoff": 15
           },
           "zerolinecolor": "white",
           "zerolinewidth": 2
          }
         }
        },
        "title": {
         "text": "NPK ratio for rice, kidneybeans,  maize, lentil"
        }
       }
      }
     },
     "metadata": {},
     "output_type": "display_data"
    }
   ],
   "source": [
    "labels = ['Nitrogen(N)','Phosphorous(P)','Potash(K)']\n",
    "fig = make_subplots(rows=1, cols=5, specs=[[{'type':'domain'}, {'type':'domain'},\n",
    "                                            {'type':'domain'}, {'type':'domain'}, \n",
    "                                            {'type':'domain'}]])\n",
    "\n",
    "rice_npk = crop_summary[crop_summary.index=='rice']\n",
    "values = [rice_npk['N'][0], rice_npk['P'][0], rice_npk['K'][0]]\n",
    "fig.add_trace(go.Pie(labels=labels, values=values,name=\"Rice\"),1, 1)\n",
    "\n",
    "kidneybeans_npk = crop_summary[crop_summary.index=='kidneybeans']\n",
    "values = [kidneybeans_npk['N'][0], kidneybeans_npk['P'][0], kidneybeans_npk['K'][0]]\n",
    "fig.add_trace(go.Pie(labels=labels, values=values,name=\"KidneyBeans\"),1, 2)\n",
    "\n",
    "maize_npk = crop_summary[crop_summary.index=='maize']\n",
    "values = [maize_npk['N'][0], maize_npk['P'][0], maize_npk['K'][0]]\n",
    "fig.add_trace(go.Pie(labels=labels, values=values,name=\"Maize\"),1, 3)\n",
    "\n",
    "lentil_npk = crop_summary[crop_summary.index=='lentil']\n",
    "values = [lentil_npk['N'][0], lentil_npk['P'][0], lentil_npk['K'][0]]\n",
    "fig.add_trace(go.Pie(labels=labels, values=values,name=\"Lentil\"),1, 5)\n",
    "\n",
    "fig.update_traces(hole=.4, hoverinfo=\"label+percent+name\")\n",
    "fig.update_layout(\n",
    "    title_text=\"NPK ratio for rice, kidneybeans,  maize, lentil\",\n",
    "    annotations=[dict(text='Rice',x=0.06,y=0.8, font_size=15, showarrow=False),\n",
    "                 dict(text='KidneyBeans',x=0.26,y=0.8, font_size=15, showarrow=False),\n",
    "                 dict(text='Maize',x=0.74,y=0.8, font_size=15, showarrow=False),\n",
    "                dict(text='Lentil',x=0.94,y=0.8, font_size=15, showarrow=False)])\n",
    "fig.show()"
   ]
  },
  {
   "cell_type": "markdown",
   "metadata": {},
   "source": []
  },
  {
   "cell_type": "markdown",
   "metadata": {},
   "source": [
    "# Feature Selection Of Independent and Target variables"
   ]
  },
  {
   "cell_type": "code",
   "execution_count": 19,
   "metadata": {},
   "outputs": [],
   "source": [
    "X = crop.drop('label', axis=1)\n",
    "y = crop['label']"
   ]
  },
  {
   "cell_type": "code",
   "execution_count": 20,
   "metadata": {},
   "outputs": [],
   "source": [
    "acc = []\n",
    "model = []"
   ]
  },
  {
   "cell_type": "code",
   "execution_count": 21,
   "metadata": {},
   "outputs": [],
   "source": [
    "# SPLITTING THE DATA\n",
    "\n",
    "from sklearn.model_selection import train_test_split\n",
    "X_train, X_test, y_train, y_test = train_test_split(X,y,test_size = 0.2,\n",
    "                                                    shuffle = True, random_state =2)\n"
   ]
  },
  {
   "cell_type": "code",
   "execution_count": 22,
   "metadata": {},
   "outputs": [
    {
     "name": "stdout",
     "output_type": "stream",
     "text": [
      "==========================\n",
      "Train Data Shape\n",
      "(1760, 7)\n",
      "(1760,)\n",
      "===========================\n",
      "Test Data Shape\n",
      "(440, 7)\n",
      "(440,)\n"
     ]
    }
   ],
   "source": [
    "print(\"==========================\")\n",
    "print(\"Train Data Shape\")\n",
    "print(X_train.shape)\n",
    "print(y_train.shape)\n",
    "print(\"===========================\")\n",
    "print(\"Test Data Shape\")\n",
    "print(X_test.shape)\n",
    "print(y_test.shape)"
   ]
  },
  {
   "cell_type": "code",
   "execution_count": 23,
   "metadata": {},
   "outputs": [],
   "source": [
    "# Scale the features using MinMaxScaler\n",
    "\n",
    "from sklearn.preprocessing import MinMaxScaler\n",
    "ms = MinMaxScaler()\n",
    "\n",
    "X_train = ms.fit_transform(X_train)\n",
    "X_test = ms.transform(X_test)"
   ]
  },
  {
   "cell_type": "code",
   "execution_count": 24,
   "metadata": {},
   "outputs": [
    {
     "data": {
      "text/plain": [
       "array([[0.80714286, 0.23571429, 0.1       , ..., 0.76071051, 0.60393611,\n",
       "        0.25238444],\n",
       "       [0.2       , 0.21428571, 0.085     , ..., 0.84542489, 0.56790336,\n",
       "        0.14256792],\n",
       "       [0.07857143, 0.4       , 0.08      , ..., 0.10209972, 0.31527862,\n",
       "        0.41384053],\n",
       "       ...,\n",
       "       [0.16428571, 0.24285714, 0.085     , ..., 0.7899586 , 0.52253655,\n",
       "        0.07841231],\n",
       "       [0.83571429, 0.54285714, 0.24      , ..., 0.74592957, 0.31147497,\n",
       "        0.28007559],\n",
       "       [0.27857143, 0.13571429, 0.045     , ..., 0.89407786, 0.57298809,\n",
       "        0.30863709]])"
      ]
     },
     "execution_count": 24,
     "metadata": {},
     "output_type": "execute_result"
    }
   ],
   "source": [
    "X_train"
   ]
  },
  {
   "cell_type": "code",
   "execution_count": 25,
   "metadata": {},
   "outputs": [],
   "source": [
    "# STANDARIZATION\n",
    "\n",
    "from sklearn.preprocessing import StandardScaler\n",
    "sc = StandardScaler()\n",
    "\n",
    "\n",
    "sc.fit(X_train)\n",
    "X_train = sc.transform(X_train)\n",
    "X_test = sc.transform(X_test)\n"
   ]
  },
  {
   "cell_type": "code",
   "execution_count": 26,
   "metadata": {},
   "outputs": [
    {
     "data": {
      "text/plain": [
       "array([[ 1.69991833, -0.48450066, -0.46654299, ...,  0.36534732,\n",
       "         1.20356233, -0.23551865],\n",
       "       [-0.60720953, -0.57443434, -0.52452593, ...,  0.69004063,\n",
       "         0.90389393, -0.79201637],\n",
       "       [-1.0686351 ,  0.20499088, -0.54385357, ..., -2.15897647,\n",
       "        -1.19707381,  0.58266376],\n",
       "       ...,\n",
       "       [-0.74292293, -0.45452277, -0.52452593, ...,  0.4774494 ,\n",
       "         0.52659831, -1.11712642],\n",
       "       [ 1.80848906,  0.80454873,  0.07463107, ...,  0.30869492,\n",
       "        -1.22870711, -0.09519312],\n",
       "       [-0.30864004, -0.90419116, -0.67914709, ...,  0.87651775,\n",
       "         0.94618139,  0.04954294]])"
      ]
     },
     "execution_count": 26,
     "metadata": {},
     "output_type": "execute_result"
    }
   ],
   "source": [
    "X_train"
   ]
  },
  {
   "cell_type": "markdown",
   "metadata": {},
   "source": [
    "# DATA MODELLING CLASSIFICATION ALGORITHMS"
   ]
  },
  {
   "cell_type": "markdown",
   "metadata": {},
   "source": [
    "DECISION TREES"
   ]
  },
  {
   "cell_type": "code",
   "execution_count": 27,
   "metadata": {},
   "outputs": [
    {
     "data": {
      "text/plain": [
       "0.9"
      ]
     },
     "execution_count": 27,
     "metadata": {},
     "output_type": "execute_result"
    }
   ],
   "source": [
    "from sklearn.tree import DecisionTreeClassifier\n",
    "crop_dt = DecisionTreeClassifier(criterion='entropy', random_state=2, max_depth=5)\n",
    "\n",
    "crop_dt.fit(X_train, y_train)\n",
    "crop_dt.score(X_test, y_test) "
   ]
  },
  {
   "cell_type": "code",
   "execution_count": 28,
   "metadata": {},
   "outputs": [
    {
     "name": "stdout",
     "output_type": "stream",
     "text": [
      "Decision Tree's Accuracy is:  90.0\n",
      "              precision    recall  f1-score   support\n",
      "\n",
      "       apple       1.00      1.00      1.00        13\n",
      "      banana       1.00      1.00      1.00        17\n",
      "   blackgram       0.59      1.00      0.74        16\n",
      "    chickpea       1.00      1.00      1.00        21\n",
      "     coconut       0.91      1.00      0.95        21\n",
      "      coffee       1.00      1.00      1.00        22\n",
      "      cotton       1.00      1.00      1.00        20\n",
      "      grapes       1.00      1.00      1.00        18\n",
      "        jute       0.74      0.93      0.83        28\n",
      " kidneybeans       0.00      0.00      0.00        14\n",
      "      lentil       0.68      1.00      0.81        23\n",
      "       maize       1.00      1.00      1.00        21\n",
      "       mango       1.00      1.00      1.00        26\n",
      "   mothbeans       0.00      0.00      0.00        19\n",
      "    mungbean       1.00      1.00      1.00        24\n",
      "   muskmelon       1.00      1.00      1.00        23\n",
      "      orange       1.00      1.00      1.00        29\n",
      "      papaya       1.00      0.84      0.91        19\n",
      "  pigeonpeas       0.62      1.00      0.77        18\n",
      " pomegranate       1.00      1.00      1.00        17\n",
      "        rice       1.00      0.62      0.77        16\n",
      "  watermelon       1.00      1.00      1.00        15\n",
      "\n",
      "    accuracy                           0.90       440\n",
      "   macro avg       0.84      0.88      0.85       440\n",
      "weighted avg       0.86      0.90      0.87       440\n",
      "\n"
     ]
    }
   ],
   "source": [
    "#PREDICTING VALUES \n",
    "dt_pred = crop_dt.predict(X_test)\n",
    "\n",
    "from sklearn.metrics import accuracy_score\n",
    "x = accuracy_score(y_test, dt_pred)\n",
    "acc.append(x)\n",
    "model.append('Decision Tree')\n",
    "print(\"Decision Tree's Accuracy is: \", x*100)\n",
    "\n",
    "print(classification_report(y_test,dt_pred))"
   ]
  },
  {
   "cell_type": "code",
   "execution_count": 29,
   "metadata": {},
   "outputs": [
    {
     "name": "stdout",
     "output_type": "stream",
     "text": [
      "Cross validation score:  [0.93636364 0.90909091 0.91818182 0.87045455 0.93636364]\n"
     ]
    }
   ],
   "source": [
    "# Cross Validation\n",
    "\n",
    "score = cross_val_score(crop_dt, X, y, cv=5)\n",
    "print('Cross validation score: ',score)\n",
    "\n"
   ]
  },
  {
   "cell_type": "code",
   "execution_count": 30,
   "metadata": {},
   "outputs": [
    {
     "name": "stdout",
     "output_type": "stream",
     "text": [
      "Training accuracy=  0.8818181818181818\n",
      "Testing accuracy=  0.9\n"
     ]
    }
   ],
   "source": [
    "#Finding The Accuracy of the Train set and Test set\n",
    "\n",
    "#Train Accuracy\n",
    "train_score = crop_dt.score(X_train, y_train)\n",
    "print(\"Training accuracy= \", crop_dt.score(X_train, y_train))\n",
    "\n",
    "#Test Accuracy\n",
    "test_score = crop_dt.score(X_test, y_test)\n",
    "print(\"Testing accuracy= \", crop_dt.score(X_test, y_test))"
   ]
  },
  {
   "cell_type": "markdown",
   "metadata": {},
   "source": [
    "RANDOM FOREST"
   ]
  },
  {
   "cell_type": "code",
   "execution_count": 31,
   "metadata": {},
   "outputs": [
    {
     "data": {
      "text/plain": [
       "0.990909090909091"
      ]
     },
     "execution_count": 31,
     "metadata": {},
     "output_type": "execute_result"
    }
   ],
   "source": [
    "from sklearn.ensemble import RandomForestClassifier\n",
    "\n",
    "crop_rf = RandomForestClassifier(n_estimators=20, random_state=0)\n",
    "crop_rf.fit(X_train, y_train)\n",
    "crop_rf.score(X_test, y_test)"
   ]
  },
  {
   "cell_type": "code",
   "execution_count": 32,
   "metadata": {},
   "outputs": [
    {
     "name": "stdout",
     "output_type": "stream",
     "text": [
      "Random Forest Accuracy is:  99.0909090909091\n",
      "              precision    recall  f1-score   support\n",
      "\n",
      "       apple       1.00      1.00      1.00        13\n",
      "      banana       1.00      1.00      1.00        17\n",
      "   blackgram       0.94      1.00      0.97        16\n",
      "    chickpea       1.00      1.00      1.00        21\n",
      "     coconut       1.00      1.00      1.00        21\n",
      "      coffee       1.00      1.00      1.00        22\n",
      "      cotton       1.00      1.00      1.00        20\n",
      "      grapes       1.00      1.00      1.00        18\n",
      "        jute       0.90      1.00      0.95        28\n",
      " kidneybeans       1.00      1.00      1.00        14\n",
      "      lentil       1.00      1.00      1.00        23\n",
      "       maize       1.00      1.00      1.00        21\n",
      "       mango       1.00      1.00      1.00        26\n",
      "   mothbeans       1.00      0.95      0.97        19\n",
      "    mungbean       1.00      1.00      1.00        24\n",
      "   muskmelon       1.00      1.00      1.00        23\n",
      "      orange       1.00      1.00      1.00        29\n",
      "      papaya       1.00      1.00      1.00        19\n",
      "  pigeonpeas       1.00      1.00      1.00        18\n",
      " pomegranate       1.00      1.00      1.00        17\n",
      "        rice       1.00      0.81      0.90        16\n",
      "  watermelon       1.00      1.00      1.00        15\n",
      "\n",
      "    accuracy                           0.99       440\n",
      "   macro avg       0.99      0.99      0.99       440\n",
      "weighted avg       0.99      0.99      0.99       440\n",
      "\n"
     ]
    }
   ],
   "source": [
    "#Predictions \n",
    "\n",
    "rf_pred = crop_rf.predict(X_test)\n",
    "\n",
    "x = metrics.accuracy_score(y_test, rf_pred)\n",
    "acc.append(x)\n",
    "model.append('Random Forest')\n",
    "print(\"Random Forest Accuracy is: \", x*100)\n",
    "print(classification_report(y_test, rf_pred))"
   ]
  },
  {
   "cell_type": "code",
   "execution_count": 33,
   "metadata": {},
   "outputs": [
    {
     "name": "stdout",
     "output_type": "stream",
     "text": [
      "The Cross Validation Score: [0.9986376  0.9904502  0.98908595]\n"
     ]
    }
   ],
   "source": [
    "#CROSS VALIDATION\n",
    "\n",
    "score = cross_val_score(crop_rf, X, y, cv=3)\n",
    "print(\"The Cross Validation Score:\",score)"
   ]
  },
  {
   "cell_type": "code",
   "execution_count": 34,
   "metadata": {},
   "outputs": [
    {
     "name": "stdout",
     "output_type": "stream",
     "text": [
      "Train Accuracy: 1.0\n",
      "Testing accuracy =  0.990909090909091\n"
     ]
    }
   ],
   "source": [
    "#Accuracy Of The Test and Training Sets \n",
    "#Train SCore\n",
    "train_score = crop_rf.score(X_train, y_train)\n",
    "print(\"Train Accuracy:\", crop_rf.score(X_train, y_train))\n",
    "\n",
    "#Test Score\n",
    "test_score = crop_rf.score(X_test, y_test)\n",
    "print(\"Testing accuracy = \",crop_rf.score(X_test, y_test))"
   ]
  },
  {
   "cell_type": "markdown",
   "metadata": {},
   "source": [
    "GAUSSSIAN NAIVE BAYES CLASSIFIER"
   ]
  },
  {
   "cell_type": "code",
   "execution_count": 35,
   "metadata": {},
   "outputs": [
    {
     "data": {
      "text/plain": [
       "0.990909090909091"
      ]
     },
     "execution_count": 35,
     "metadata": {},
     "output_type": "execute_result"
    }
   ],
   "source": [
    "from sklearn.naive_bayes import GaussianNB\n",
    "crop_NB = GaussianNB()\n",
    "\n",
    "crop_NB.fit(X_train, y_train)\n",
    "crop_NB.score(X_test, y_test)"
   ]
  },
  {
   "cell_type": "code",
   "execution_count": 36,
   "metadata": {},
   "outputs": [
    {
     "name": "stdout",
     "output_type": "stream",
     "text": [
      "Naive Bayes Accuracy is:  99.0909090909091\n",
      "              precision    recall  f1-score   support\n",
      "\n",
      "       apple       1.00      1.00      1.00        13\n",
      "      banana       1.00      1.00      1.00        17\n",
      "   blackgram       1.00      1.00      1.00        16\n",
      "    chickpea       1.00      1.00      1.00        21\n",
      "     coconut       1.00      1.00      1.00        21\n",
      "      coffee       1.00      1.00      1.00        22\n",
      "      cotton       1.00      1.00      1.00        20\n",
      "      grapes       1.00      1.00      1.00        18\n",
      "        jute       0.88      1.00      0.93        28\n",
      " kidneybeans       1.00      1.00      1.00        14\n",
      "      lentil       1.00      1.00      1.00        23\n",
      "       maize       1.00      1.00      1.00        21\n",
      "       mango       1.00      1.00      1.00        26\n",
      "   mothbeans       1.00      1.00      1.00        19\n",
      "    mungbean       1.00      1.00      1.00        24\n",
      "   muskmelon       1.00      1.00      1.00        23\n",
      "      orange       1.00      1.00      1.00        29\n",
      "      papaya       1.00      1.00      1.00        19\n",
      "  pigeonpeas       1.00      1.00      1.00        18\n",
      " pomegranate       1.00      1.00      1.00        17\n",
      "        rice       1.00      0.75      0.86        16\n",
      "  watermelon       1.00      1.00      1.00        15\n",
      "\n",
      "    accuracy                           0.99       440\n",
      "   macro avg       0.99      0.99      0.99       440\n",
      "weighted avg       0.99      0.99      0.99       440\n",
      "\n"
     ]
    }
   ],
   "source": [
    "#PREDICTIONS\n",
    "\n",
    "NB_pred = crop_NB.predict(X_test)\n",
    "x = metrics.accuracy_score(y_test, NB_pred)\n",
    "acc.append(x)\n",
    "model.append('Naive Bayes')\n",
    "\n",
    "print(\"Naive Bayes Accuracy is: \", x*100)\n",
    "print(classification_report(y_test, NB_pred))"
   ]
  },
  {
   "cell_type": "code",
   "execution_count": 37,
   "metadata": {},
   "outputs": [
    {
     "name": "stdout",
     "output_type": "stream",
     "text": [
      "Cross validation score:  [0.99772727 0.99545455 0.99545455 0.99545455 0.99090909]\n"
     ]
    }
   ],
   "source": [
    "score = cross_val_score(crop_NB, X, y, cv=5)\n",
    "print('Cross validation score: ',score)"
   ]
  },
  {
   "cell_type": "code",
   "execution_count": 38,
   "metadata": {},
   "outputs": [
    {
     "name": "stdout",
     "output_type": "stream",
     "text": [
      "Training accuracy =  0.9960227272727272\n",
      "Testing accuracy =  0.990909090909091\n"
     ]
    }
   ],
   "source": [
    "#Print Train Accuracy\n",
    "nb_train_accuracy = crop_NB.score(X_train, y_train)\n",
    "print(\"Training accuracy = \",crop_NB.score(X_train, y_train))\n",
    "#Print Test Accuracy\n",
    "nb_test_accuracy = crop_NB.score(X_test, y_test)\n",
    "print(\"Testing accuracy = \",crop_NB.score(X_test,y_test))"
   ]
  },
  {
   "cell_type": "markdown",
   "metadata": {},
   "source": [
    "EXTREME GRADIENT BOOSTING "
   ]
  },
  {
   "cell_type": "code",
   "execution_count": 39,
   "metadata": {},
   "outputs": [
    {
     "data": {
      "text/plain": [
       "0.0"
      ]
     },
     "execution_count": 39,
     "metadata": {},
     "output_type": "execute_result"
    }
   ],
   "source": [
    "# Mostly XGBoost models use data that must be encoded before training it whereby thr categorical transformers like labelencoders are used to change categorical daya to numerical data.\n",
    "#Therefore:\n",
    "from sklearn.preprocessing import LabelEncoder\n",
    "le = LabelEncoder()\n",
    "y_train = le.fit_transform(y_train)\n",
    "\n",
    "#Apply the XGBoost model for training\n",
    "from xgboost import XGBClassifier\n",
    "crop_XGB = XGBClassifier()\n",
    "crop_XGB.fit(X_train, y_train)\n",
    "crop_XGB.score(X_test, y_test)\n",
    "\n",
    "\n",
    "\n"
   ]
  },
  {
   "cell_type": "code",
   "execution_count": 40,
   "metadata": {},
   "outputs": [],
   "source": [
    "#PREDICTIONS\n",
    "\n",
    "XGB_pred = crop_XGB.predict(X_test)\n",
    "x = metrics.accuracy_score(y_test, XGB_pred)\n",
    "acc.append(x)\n",
    "\n",
    "\n",
    "\n"
   ]
  },
  {
   "cell_type": "markdown",
   "metadata": {},
   "source": [
    "# KNN PREDICTIONS "
   ]
  },
  {
   "cell_type": "code",
   "execution_count": 46,
   "metadata": {},
   "outputs": [],
   "source": [
    "from sklearn.neighbors import KNeighborsClassifier\n",
    "from sklearn.model_selection import GridSearchCV\n",
    "from sklearn.metrics import  accuracy_score, f1_score,recall_score,classification_report, confusion_matrix\n",
    "from sklearn.pipeline import Pipeline \n",
    "from sklearn.model_selection import cross_val_score\n",
    "\n",
    "crop_knn = KNeighborsClassifier()\n",
    "crop_knn.fit(X_train, y_train)\n",
    "crop_knn.score(X_test, y_test)\n",
    "knn_pred = crop_knn.predict(X_test)\n",
    "\n"
   ]
  },
  {
   "cell_type": "code",
   "execution_count": 47,
   "metadata": {},
   "outputs": [
    {
     "name": "stdout",
     "output_type": "stream",
     "text": [
      "Training Accuracy of KNN is 0.9857954545454546\n",
      "Test Accuracy of KNN is 0.0 \n",
      "\n"
     ]
    }
   ],
   "source": [
    "# accuracy score, confusion matrix and classification report of knn\n",
    "\n",
    "knn_acc = accuracy_score(y_test, knn_pred)\n",
    "\n",
    "print(f\"Training Accuracy of KNN is {accuracy_score(y_train, crop_knn.predict(X_train))}\")\n",
    "print(f\"Test Accuracy of KNN is {knn_acc} \\n\")"
   ]
  },
  {
   "cell_type": "markdown",
   "metadata": {},
   "source": []
  },
  {
   "cell_type": "markdown",
   "metadata": {},
   "source": [
    "# ACCURACY COMPARISON"
   ]
  },
  {
   "cell_type": "code",
   "execution_count": 41,
   "metadata": {},
   "outputs": [
    {
     "ename": "TypeError",
     "evalue": "Vertical orientation requires numeric `y` variable.",
     "output_type": "error",
     "traceback": [
      "\u001b[0;31m---------------------------------------------------------------------------\u001b[0m",
      "\u001b[0;31mTypeError\u001b[0m                                 Traceback (most recent call last)",
      "\u001b[0;32m/tmp/ipykernel_54344/391975540.py\u001b[0m in \u001b[0;36m<cell line: 5>\u001b[0;34m()\u001b[0m\n\u001b[1;32m      3\u001b[0m \u001b[0mplt\u001b[0m\u001b[0;34m.\u001b[0m\u001b[0mxlabel\u001b[0m\u001b[0;34m(\u001b[0m\u001b[0;34m'Accuracy'\u001b[0m\u001b[0;34m)\u001b[0m\u001b[0;34m\u001b[0m\u001b[0;34m\u001b[0m\u001b[0m\n\u001b[1;32m      4\u001b[0m \u001b[0mplt\u001b[0m\u001b[0;34m.\u001b[0m\u001b[0mylabel\u001b[0m\u001b[0;34m(\u001b[0m\u001b[0;34m'ML Algorithms'\u001b[0m\u001b[0;34m)\u001b[0m\u001b[0;34m\u001b[0m\u001b[0;34m\u001b[0m\u001b[0m\n\u001b[0;32m----> 5\u001b[0;31m \u001b[0msns\u001b[0m\u001b[0;34m.\u001b[0m\u001b[0mbarplot\u001b[0m\u001b[0;34m(\u001b[0m\u001b[0mX\u001b[0m \u001b[0;34m=\u001b[0m \u001b[0macc\u001b[0m\u001b[0;34m,\u001b[0m\u001b[0my\u001b[0m \u001b[0;34m=\u001b[0m \u001b[0mmodel\u001b[0m\u001b[0;34m,\u001b[0m\u001b[0mpalette\u001b[0m\u001b[0;34m=\u001b[0m\u001b[0;34m'viridis'\u001b[0m\u001b[0;34m)\u001b[0m\u001b[0;34m\u001b[0m\u001b[0;34m\u001b[0m\u001b[0m\n\u001b[0m\u001b[1;32m      6\u001b[0m \u001b[0mplt\u001b[0m\u001b[0;34m.\u001b[0m\u001b[0msavefig\u001b[0m\u001b[0;34m(\u001b[0m\u001b[0;34m'plot.png'\u001b[0m\u001b[0;34m,\u001b[0m \u001b[0mdpi\u001b[0m\u001b[0;34m=\u001b[0m\u001b[0;36m300\u001b[0m\u001b[0;34m,\u001b[0m \u001b[0mbbox_inches\u001b[0m\u001b[0;34m=\u001b[0m\u001b[0;34m'tight'\u001b[0m\u001b[0;34m)\u001b[0m\u001b[0;34m\u001b[0m\u001b[0;34m\u001b[0m\u001b[0m\n",
      "\u001b[0;32m~/.local/lib/python3.10/site-packages/seaborn/categorical.py\u001b[0m in \u001b[0;36mbarplot\u001b[0;34m(data, x, y, hue, order, hue_order, estimator, errorbar, n_boot, units, seed, orient, color, palette, saturation, width, errcolor, errwidth, capsize, dodge, ci, ax, **kwargs)\u001b[0m\n\u001b[1;32m   2753\u001b[0m         \u001b[0mestimator\u001b[0m \u001b[0;34m=\u001b[0m \u001b[0;34m\"size\"\u001b[0m\u001b[0;34m\u001b[0m\u001b[0;34m\u001b[0m\u001b[0m\n\u001b[1;32m   2754\u001b[0m \u001b[0;34m\u001b[0m\u001b[0m\n\u001b[0;32m-> 2755\u001b[0;31m     plotter = _BarPlotter(x, y, hue, data, order, hue_order,\n\u001b[0m\u001b[1;32m   2756\u001b[0m                           \u001b[0mestimator\u001b[0m\u001b[0;34m,\u001b[0m \u001b[0merrorbar\u001b[0m\u001b[0;34m,\u001b[0m \u001b[0mn_boot\u001b[0m\u001b[0;34m,\u001b[0m \u001b[0munits\u001b[0m\u001b[0;34m,\u001b[0m \u001b[0mseed\u001b[0m\u001b[0;34m,\u001b[0m\u001b[0;34m\u001b[0m\u001b[0;34m\u001b[0m\u001b[0m\n\u001b[1;32m   2757\u001b[0m                           \u001b[0morient\u001b[0m\u001b[0;34m,\u001b[0m \u001b[0mcolor\u001b[0m\u001b[0;34m,\u001b[0m \u001b[0mpalette\u001b[0m\u001b[0;34m,\u001b[0m \u001b[0msaturation\u001b[0m\u001b[0;34m,\u001b[0m\u001b[0;34m\u001b[0m\u001b[0;34m\u001b[0m\u001b[0m\n",
      "\u001b[0;32m~/.local/lib/python3.10/site-packages/seaborn/categorical.py\u001b[0m in \u001b[0;36m__init__\u001b[0;34m(self, x, y, hue, data, order, hue_order, estimator, errorbar, n_boot, units, seed, orient, color, palette, saturation, width, errcolor, errwidth, capsize, dodge)\u001b[0m\n\u001b[1;32m   1528\u001b[0m                  errcolor, errwidth, capsize, dodge):\n\u001b[1;32m   1529\u001b[0m         \u001b[0;34m\"\"\"Initialize the plotter.\"\"\"\u001b[0m\u001b[0;34m\u001b[0m\u001b[0;34m\u001b[0m\u001b[0m\n\u001b[0;32m-> 1530\u001b[0;31m         self.establish_variables(x, y, hue, data, orient,\n\u001b[0m\u001b[1;32m   1531\u001b[0m                                  order, hue_order, units)\n\u001b[1;32m   1532\u001b[0m         \u001b[0mself\u001b[0m\u001b[0;34m.\u001b[0m\u001b[0mestablish_colors\u001b[0m\u001b[0;34m(\u001b[0m\u001b[0mcolor\u001b[0m\u001b[0;34m,\u001b[0m \u001b[0mpalette\u001b[0m\u001b[0;34m,\u001b[0m \u001b[0msaturation\u001b[0m\u001b[0;34m)\u001b[0m\u001b[0;34m\u001b[0m\u001b[0;34m\u001b[0m\u001b[0m\n",
      "\u001b[0;32m~/.local/lib/python3.10/site-packages/seaborn/categorical.py\u001b[0m in \u001b[0;36mestablish_variables\u001b[0;34m(self, x, y, hue, data, orient, order, hue_order, units)\u001b[0m\n\u001b[1;32m    542\u001b[0m \u001b[0;34m\u001b[0m\u001b[0m\n\u001b[1;32m    543\u001b[0m             \u001b[0;31m# Figure out the plotting orientation\u001b[0m\u001b[0;34m\u001b[0m\u001b[0;34m\u001b[0m\u001b[0m\n\u001b[0;32m--> 544\u001b[0;31m             orient = infer_orient(\n\u001b[0m\u001b[1;32m    545\u001b[0m                 \u001b[0mx\u001b[0m\u001b[0;34m,\u001b[0m \u001b[0my\u001b[0m\u001b[0;34m,\u001b[0m \u001b[0morient\u001b[0m\u001b[0;34m,\u001b[0m \u001b[0mrequire_numeric\u001b[0m\u001b[0;34m=\u001b[0m\u001b[0mself\u001b[0m\u001b[0;34m.\u001b[0m\u001b[0mrequire_numeric\u001b[0m\u001b[0;34m\u001b[0m\u001b[0;34m\u001b[0m\u001b[0m\n\u001b[1;32m    546\u001b[0m             )\n",
      "\u001b[0;32m~/.local/lib/python3.10/site-packages/seaborn/_oldcore.py\u001b[0m in \u001b[0;36minfer_orient\u001b[0;34m(x, y, orient, require_numeric)\u001b[0m\n\u001b[1;32m   1592\u001b[0m             \u001b[0mwarnings\u001b[0m\u001b[0;34m.\u001b[0m\u001b[0mwarn\u001b[0m\u001b[0;34m(\u001b[0m\u001b[0msingle_var_warning\u001b[0m\u001b[0;34m.\u001b[0m\u001b[0mformat\u001b[0m\u001b[0;34m(\u001b[0m\u001b[0;34m\"Horizontal\"\u001b[0m\u001b[0;34m,\u001b[0m \u001b[0;34m\"y\"\u001b[0m\u001b[0;34m)\u001b[0m\u001b[0;34m)\u001b[0m\u001b[0;34m\u001b[0m\u001b[0;34m\u001b[0m\u001b[0m\n\u001b[1;32m   1593\u001b[0m         \u001b[0;32mif\u001b[0m \u001b[0mrequire_numeric\u001b[0m \u001b[0;32mand\u001b[0m \u001b[0my_type\u001b[0m \u001b[0;34m!=\u001b[0m \u001b[0;34m\"numeric\"\u001b[0m\u001b[0;34m:\u001b[0m\u001b[0;34m\u001b[0m\u001b[0;34m\u001b[0m\u001b[0m\n\u001b[0;32m-> 1594\u001b[0;31m             \u001b[0;32mraise\u001b[0m \u001b[0mTypeError\u001b[0m\u001b[0;34m(\u001b[0m\u001b[0mnonnumeric_dv_error\u001b[0m\u001b[0;34m.\u001b[0m\u001b[0mformat\u001b[0m\u001b[0;34m(\u001b[0m\u001b[0;34m\"Vertical\"\u001b[0m\u001b[0;34m,\u001b[0m \u001b[0;34m\"y\"\u001b[0m\u001b[0;34m)\u001b[0m\u001b[0;34m)\u001b[0m\u001b[0;34m\u001b[0m\u001b[0;34m\u001b[0m\u001b[0m\n\u001b[0m\u001b[1;32m   1595\u001b[0m         \u001b[0;32mreturn\u001b[0m \u001b[0;34m\"v\"\u001b[0m\u001b[0;34m\u001b[0m\u001b[0;34m\u001b[0m\u001b[0m\n\u001b[1;32m   1596\u001b[0m \u001b[0;34m\u001b[0m\u001b[0m\n",
      "\u001b[0;31mTypeError\u001b[0m: Vertical orientation requires numeric `y` variable."
     ]
    },
    {
     "data": {
      "image/png": "[encoded data removed]",
      "text/plain": [
       "<Figure size 1400x700 with 1 Axes>"
      ]
     },
     "metadata": {},
     "output_type": "display_data"
    }
   ],
   "source": [
    "plt.figure(figsize=[14,7],dpi = 100, facecolor='white')\n",
    "plt.title('Accuracy Comparison')\n",
    "plt.xlabel('Accuracy')\n",
    "plt.ylabel('ML Algorithms')\n",
    "sns.barplot(X = acc,y = model,palette='viridis')\n",
    "plt.savefig('plot.png', dpi=300, bbox_inches='tight')\n"
   ]
  },
  {
   "cell_type": "markdown",
   "metadata": {},
   "source": [
    "# PREDICTIVE SYSTEM"
   ]
  },
  {
   "cell_type": "code",
   "execution_count": 42,
   "metadata": {},
   "outputs": [],
   "source": [
    "def recommendation(N,P,k,temperature,humidity,ph,rainfal):\n",
    "    features = np.array([[N,P,k,temperature,humidity,ph,rainfal]])\n",
    "    transformed_features = ms.fit_transform(X)\n",
    "    transformed_features = sc.fit_transform(transformed_features)\n",
    "    prediction = crop_rf.predict(transformed_features).reshape(1,-1)\n",
    "    \n",
    "    return prediction[0] \n",
    "\n"
   ]
  },
  {
   "cell_type": "code",
   "execution_count": 43,
   "metadata": {},
   "outputs": [
    {
     "name": "stdout",
     "output_type": "stream",
     "text": [
      "Sorry are not able to recommend a proper crop for this environment\n"
     ]
    }
   ],
   "source": [
    "N = 40\n",
    "P = 50\n",
    "k = 50\n",
    "temperature = 40.0\n",
    "humidity = 20\n",
    "ph = 100\n",
    "rainfall = 100\n",
    "\n",
    "predict = recommendation(N,P,k,temperature,humidity,ph,rainfall)\n",
    "\n",
    "\n",
    "crop_dict = {1: \"Rice\", 2: \"Maize\", 3: \"Jute\", 4: \"Cotton\", 5: \"Coconut\", 6: \"Papaya\", 7: \"Orange\",\n",
    "                 8: \"Apple\", 9: \"Muskmelon\", 10: \"Watermelon\", 11: \"Grapes\", 12: \"Mango\", 13: \"Banana\",\n",
    "                 14: \"Pomegranate\", 15: \"Lentil\", 16: \"Blackgram\", 17: \"Mungbean\", 18: \"Mothbeans\",\n",
    "                 19: \"Pigeonpeas\", 20: \"Kidneybeans\", 21: \"Chickpea\", 22: \"Coffee\"}\n",
    "\n",
    "if predict[0] in crop_dict:\n",
    "    crop = crop_dict[predict[0]]\n",
    "    print(\"{} is a best crop to be cultivated \".format(crop))\n",
    "else:\n",
    "    print(\"Sorry are not able to recommend a proper crop for this environment\")\n"
   ]
  },
  {
   "cell_type": "code",
   "execution_count": 44,
   "metadata": {},
   "outputs": [],
   "source": [
    "import pickle\n",
    "pickle.dump(crop_rf,open('model.pkl','wb'))\n",
    "pickle.dump(ms,open('minmaxscaler.pkl','wb'))\n",
    "pickle.dump(sc,open('standscaler.pkl','wb'))\n",
    "\n",
    " \n",
    "\n"
   ]
  },
  {
   "cell_type": "code",
   "execution_count": 45,
   "metadata": {},
   "outputs": [
    {
     "data": {
      "text/plain": [
       "['GNBClassifier.pkl']"
      ]
     },
     "execution_count": 45,
     "metadata": {},
     "output_type": "execute_result"
    }
   ],
   "source": [
    "clf=GaussianNB()\n",
    "clf.fit(X, y)\n",
    "import pickle\n",
    "from joblib import dump, load\n",
    "dump(clf, 'GNBClassifier.pkl')\n"
   ]
  },
  {
   "cell_type": "code",
   "execution_count": null,
   "metadata": {},
   "outputs": [],
   "source": []
  }
 ],
 "metadata": {
  "kernelspec": {
   "display_name": "Python 3",
   "language": "python",
   "name": "python3"
  },
  "language_info": {
   "codemirror_mode": {
    "name": "ipython",
    "version": 3
   },
   "file_extension": ".py",
   "mimetype": "text/x-python",
   "name": "python",
   "nbconvert_exporter": "python",
   "pygments_lexer": "ipython3",
   "version": "3.10.12"
  },
  "orig_nbformat": 4
 },
 "nbformat": 4,
 "nbformat_minor": 2
}
